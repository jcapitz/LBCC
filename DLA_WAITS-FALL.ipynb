{
 "cells": [
  {
   "cell_type": "markdown",
   "metadata": {},
   "source": [
    "#LBCC TUTORING CENTER WAIT TIMES"
   ]
  },
  {
   "cell_type": "code",
   "execution_count": 63,
   "metadata": {
    "collapsed": false
   },
   "outputs": [
    {
     "data": {
      "text/html": [
       "<table>\n",
       "<thead><tr><th></th><th scope=col>ID</th><th scope=col>table_num</th><th scope=col>s_name</th><th scope=col>dla_num</th><th scope=col>time_in</th><th scope=col>reviewer</th><th scope=col>time_review</th><th scope=col>time_done</th><th scope=col>t_day</th><th scope=col>app_time</th><th scope=col>time_int</th><th scope=col>Signed</th></tr></thead>\n",
       "<tbody>\n",
       "\t<tr><th scope=row>41062</th><td>42209</td><td>4</td><td>Karen Robles</td><td>158</td><td>9:30:49 AM</td><td>Abraham Ruiz</td><td>9:34:58 AM</td><td>9:48:47 AM</td><td>10/16/2015</td><td>9:00:00 AM</td><td>9:30:00 AM</td><td>1</td></tr>\n",
       "\t<tr><th scope=row>41063</th><td>42210</td><td>1</td><td>Lizandra Salazar</td><td>102</td><td>9:35:35 AM</td><td>Mardi Youphon</td><td>9:35:40 AM</td><td>9:46:32 AM</td><td>10/16/2015</td><td></td><td>9:30:00 AM</td><td>1</td></tr>\n",
       "\t<tr><th scope=row>41064</th><td>42211</td><td>15</td><td>Solomon Ikahihifo</td><td>103</td><td>9:41:59 AM</td><td>Jeremy Chan</td><td>9:42:09 AM</td><td>9:52:09 AM</td><td>10/16/2015</td><td></td><td>9:30:00 AM</td><td>1</td></tr>\n",
       "\t<tr><th scope=row>41065</th><td>42212</td><td>1</td><td>Amber Ramirez</td><td>146</td><td>9:51:23 AM</td><td>Mardi Youphon</td><td>9:51:39 AM</td><td></td><td>10/16/2015</td><td></td><td>9:30:00 AM</td><td>0</td></tr>\n",
       "\t<tr><th scope=row>41066</th><td>42213</td><td>9</td><td>Eduardo Cisneros</td><td>202</td><td>10:03:11 AM</td><td>Steven Mao</td><td>10:03:17 AM</td><td></td><td>10/16/2015</td><td></td><td>10:00:00 AM</td><td>0</td></tr>\n",
       "\t<tr><th scope=row>41067</th><td>42214</td><td>10</td><td>Leilani Melara</td><td>103</td><td>10:04:00 AM</td><td></td><td></td><td></td><td>10/16/2015</td><td></td><td>10:00:00 AM</td><td>0</td></tr>\n",
       "</tbody>\n",
       "</table>\n"
      ],
      "text/latex": [
       "\\begin{tabular}{r|llllllllllll}\n",
       "  & ID & table_num & s_name & dla_num & time_in & reviewer & time_review & time_done & t_day & app_time & time_int & Signed\\\\\n",
       "\\hline\n",
       "\t41062 & 42209 & 4 & Karen Robles & 158 & 9:30:49 AM & Abraham Ruiz & 9:34:58 AM & 9:48:47 AM & 10/16/2015 & 9:00:00 AM & 9:30:00 AM & 1\\\\\n",
       "\t41063 & 42210 & 1 & Lizandra Salazar & 102 & 9:35:35 AM & Mardi Youphon & 9:35:40 AM & 9:46:32 AM & 10/16/2015 &  & 9:30:00 AM & 1\\\\\n",
       "\t41064 & 42211 & 15 & Solomon Ikahihifo & 103 & 9:41:59 AM & Jeremy Chan & 9:42:09 AM & 9:52:09 AM & 10/16/2015 &  & 9:30:00 AM & 1\\\\\n",
       "\t41065 & 42212 & 1 & Amber Ramirez & 146 & 9:51:23 AM & Mardi Youphon & 9:51:39 AM &  & 10/16/2015 &  & 9:30:00 AM & 0\\\\\n",
       "\t41066 & 42213 & 9 & Eduardo Cisneros & 202 & 10:03:11 AM & Steven Mao & 10:03:17 AM &  & 10/16/2015 &  & 10:00:00 AM & 0\\\\\n",
       "\t41067 & 42214 & 10 & Leilani Melara & 103 & 10:04:00 AM &  &  &  & 10/16/2015 &  & 10:00:00 AM & 0\\\\\n",
       "\\end{tabular}\n"
      ],
      "text/plain": [
       "         ID table_num            s_name dla_num     time_in      reviewer\n",
       "41062 42209         4      Karen Robles     158  9:30:49 AM  Abraham Ruiz\n",
       "41063 42210         1  Lizandra Salazar     102  9:35:35 AM Mardi Youphon\n",
       "41064 42211        15 Solomon Ikahihifo     103  9:41:59 AM   Jeremy Chan\n",
       "41065 42212         1     Amber Ramirez     146  9:51:23 AM Mardi Youphon\n",
       "41066 42213         9  Eduardo Cisneros     202 10:03:11 AM    Steven Mao\n",
       "41067 42214        10    Leilani Melara     103 10:04:00 AM              \n",
       "      time_review  time_done      t_day   app_time    time_int Signed\n",
       "41062  9:34:58 AM 9:48:47 AM 10/16/2015 9:00:00 AM  9:30:00 AM      1\n",
       "41063  9:35:40 AM 9:46:32 AM 10/16/2015             9:30:00 AM      1\n",
       "41064  9:42:09 AM 9:52:09 AM 10/16/2015             9:30:00 AM      1\n",
       "41065  9:51:39 AM            10/16/2015             9:30:00 AM      0\n",
       "41066 10:03:17 AM            10/16/2015            10:00:00 AM      0\n",
       "41067                        10/16/2015            10:00:00 AM      0"
      ]
     },
     "execution_count": 63,
     "metadata": {},
     "output_type": "execute_result"
    }
   ],
   "source": [
    "data = read.csv(file = \"~/Documents/LBCC/fall15_DLA.csv\")\n",
    "\n",
    "tail(data)"
   ]
  },
  {
   "cell_type": "code",
   "execution_count": 64,
   "metadata": {
    "collapsed": false
   },
   "outputs": [
    {
     "data": {
      "text/html": [
       "'data.frame'"
      ],
      "text/latex": [
       "'data.frame'"
      ],
      "text/markdown": [
       "'data.frame'"
      ],
      "text/plain": [
       "[1] \"data.frame\""
      ]
     },
     "execution_count": 64,
     "metadata": {},
     "output_type": "execute_result"
    },
    {
     "data": {
      "text/html": [
       "7333"
      ],
      "text/latex": [
       "7333"
      ],
      "text/markdown": [
       "7333"
      ],
      "text/plain": [
       "[1] 7333"
      ]
     },
     "execution_count": 64,
     "metadata": {},
     "output_type": "execute_result"
    }
   ],
   "source": [
    "class(data)\n",
    "sum(as.character(data[data$app_time != \"\",'app_time']) != '')"
   ]
  },
  {
   "cell_type": "markdown",
   "metadata": {},
   "source": [
    "####Drop Observations with Appointment Times"
   ]
  },
  {
   "cell_type": "code",
   "execution_count": 65,
   "metadata": {
    "collapsed": false
   },
   "outputs": [
    {
     "data": {
      "text/html": [
       "<ol class=list-inline>\n",
       "\t<li>33734</li>\n",
       "\t<li>12</li>\n",
       "</ol>\n"
      ],
      "text/latex": [
       "\\begin{enumerate*}\n",
       "\\item 33734\n",
       "\\item 12\n",
       "\\end{enumerate*}\n"
      ],
      "text/markdown": [
       "1. 33734\n",
       "2. 12\n",
       "\n",
       "\n"
      ],
      "text/plain": [
       "[1] 33734    12"
      ]
     },
     "execution_count": 65,
     "metadata": {},
     "output_type": "execute_result"
    }
   ],
   "source": [
    "data <- data[data$app_time == \"\",]\n",
    "dim(data)"
   ]
  },
  {
   "cell_type": "markdown",
   "metadata": {},
   "source": [
    "####Convert to Standard Time Formats"
   ]
  },
  {
   "cell_type": "code",
   "execution_count": 66,
   "metadata": {
    "collapsed": true
   },
   "outputs": [],
   "source": [
    "data$time_in <- as.character(data$time_in)\n",
    "data$time_review <- as.character(data$time_review)\n",
    "data$time_done <- as.character(data$time_done)"
   ]
  },
  {
   "cell_type": "code",
   "execution_count": 67,
   "metadata": {
    "collapsed": false
   },
   "outputs": [
    {
     "name": "stdout",
     "output_type": "stream",
     "text": [
      "[1] \"9/3/2013 8:25:20 AM\" \"9/3/2013 8:35:20 AM\" \"9/3/2013 8:45:32 AM\"\n",
      "[4] \"9/3/2013 8:50:17 AM\" \"9/3/2013 9:34:18 AM\" \"9/3/2013 9:35:52 AM\"\n",
      "[1] \"9/3/2013 8:26:43 AM\" \"9/3/2013 8:35:30 AM\" \"9/3/2013 8:47:01 AM\"\n",
      "[4] \"9/3/2013 9:02:34 AM\" \"9/3/2013 9:34:48 AM\" \"9/3/2013 9:45:00 AM\"\n",
      "[1] \"9/3/2013 8:42:26 AM\"  \"9/3/2013 8:59:54 AM\"  \"9/3/2013 9:01:57 AM\" \n",
      "[4] \"9/3/2013 9:26:27 AM\"  \"9/3/2013 9:41:00 AM\"  \"9/3/2013 10:06:01 AM\"\n"
     ]
    }
   ],
   "source": [
    "data$time_in <- paste(data$t_day, data$time_in)\n",
    "data$time_review <- paste(data$t_day, data$time_review)\n",
    "data$time_done <- paste(data$t_day, data$time_done)\n",
    "\n",
    "print(head(data$time_in))\n",
    "print(head(data$time_review))\n",
    "print(head(data$time_done))"
   ]
  },
  {
   "cell_type": "code",
   "execution_count": 68,
   "metadata": {
    "collapsed": false
   },
   "outputs": [
    {
     "name": "stdout",
     "output_type": "stream",
     "text": [
      "[1] \"2013-09-03 08:25:20 PDT\" \"2013-09-03 08:35:20 PDT\"\n",
      "[3] \"2013-09-03 08:45:32 PDT\" \"2013-09-03 08:50:17 PDT\"\n",
      "[5] \"2013-09-03 09:34:18 PDT\" \"2013-09-03 09:35:52 PDT\"\n",
      "[1] \"2013-09-03 08:26:43 PDT\" \"2013-09-03 08:35:30 PDT\"\n",
      "[3] \"2013-09-03 08:47:01 PDT\" \"2013-09-03 09:02:34 PDT\"\n",
      "[5] \"2013-09-03 09:34:48 PDT\" \"2013-09-03 09:45:00 PDT\"\n",
      "[1] \"2013-09-03 08:42:26 PDT\" \"2013-09-03 08:59:54 PDT\"\n",
      "[3] \"2013-09-03 09:01:57 PDT\" \"2013-09-03 09:26:27 PDT\"\n",
      "[5] \"2013-09-03 09:41:00 PDT\" \"2013-09-03 10:06:01 PDT\"\n"
     ]
    }
   ],
   "source": [
    "data$time_in <- strptime(data$time_in, format = '%m/%d/%Y %I:%M:%S %p')\n",
    "data$time_review <- strptime(data$time_review, format = '%m/%d/%Y %I:%M:%S %p')\n",
    "data$time_done <- strptime(data$time_done, format = '%m/%d/%Y %I:%M:%S %p')\n",
    "\n",
    "print(head(data$time_in))\n",
    "print(head(data$time_review))\n",
    "print(head(data$time_done))"
   ]
  },
  {
   "cell_type": "code",
   "execution_count": 69,
   "metadata": {
    "collapsed": true
   },
   "outputs": [],
   "source": [
    "data[,'t_day'] <- as.Date(data[,'t_day'], \"%m/%d/%Y\")"
   ]
  },
  {
   "cell_type": "code",
   "execution_count": 70,
   "metadata": {
    "collapsed": false
   },
   "outputs": [
    {
     "data": {
      "text/plain": [
       "[1] \"2013-09-03\" \"2013-09-03\" \"2013-09-03\" \"2013-09-03\" \"2013-09-03\"\n",
       "[6] \"2013-09-03\""
      ]
     },
     "execution_count": 70,
     "metadata": {},
     "output_type": "execute_result"
    }
   ],
   "source": [
    "head(data[,'t_day'])"
   ]
  },
  {
   "cell_type": "markdown",
   "metadata": {},
   "source": [
    "####Subset to get Fall data"
   ]
  },
  {
   "cell_type": "code",
   "execution_count": 71,
   "metadata": {
    "collapsed": false
   },
   "outputs": [
    {
     "data": {
      "text/html": [
       "<ol class=list-inline>\n",
       "\t<li>3825</li>\n",
       "\t<li>13</li>\n",
       "</ol>\n"
      ],
      "text/latex": [
       "\\begin{enumerate*}\n",
       "\\item 3825\n",
       "\\item 13\n",
       "\\end{enumerate*}\n"
      ],
      "text/markdown": [
       "1. 3825\n",
       "2. 13\n",
       "\n",
       "\n"
      ],
      "text/plain": [
       "[1] 3825   13"
      ]
     },
     "execution_count": 71,
     "metadata": {},
     "output_type": "execute_result"
    },
    {
     "data": {
      "text/html": [
       "<ol class=list-inline>\n",
       "\t<li>3463</li>\n",
       "\t<li>13</li>\n",
       "</ol>\n"
      ],
      "text/latex": [
       "\\begin{enumerate*}\n",
       "\\item 3463\n",
       "\\item 13\n",
       "\\end{enumerate*}\n"
      ],
      "text/markdown": [
       "1. 3463\n",
       "2. 13\n",
       "\n",
       "\n"
      ],
      "text/plain": [
       "[1] 3463   13"
      ]
     },
     "execution_count": 71,
     "metadata": {},
     "output_type": "execute_result"
    }
   ],
   "source": [
    "fall14 <- data[data$t_day >= \"2014-08-25\" & data$t_day <= \"2014-10-18\",]\n",
    "fall14$PERIOD <- 'Fall 2014'\n",
    "fall15 <- data[data$t_day >= \"2015-08-24\" & data$t_day <= \"2015-10-16\",]\n",
    "fall15$PERIOD <- 'Fall 2015'\n",
    "\n",
    "data <- rbind(fall14,fall15)\n",
    "\n",
    "dim(fall14)\n",
    "dim(fall15)"
   ]
  },
  {
   "cell_type": "markdown",
   "metadata": {},
   "source": [
    "####Wait Time Analysis"
   ]
  },
  {
   "cell_type": "code",
   "execution_count": 72,
   "metadata": {
    "collapsed": true
   },
   "outputs": [],
   "source": [
    "WAIT <- as.numeric(data$time_review - data$time_in)/60\n",
    "PERIOD <- data$PERIOD"
   ]
  },
  {
   "cell_type": "code",
   "execution_count": 73,
   "metadata": {
    "collapsed": false
   },
   "outputs": [
    {
     "name": "stdout",
     "output_type": "stream",
     "text": [
      "'data.frame':\t7288 obs. of  2 variables:\n",
      " $ PERIOD: Factor w/ 2 levels \"Fall 2014\",\"Fall 2015\": 1 1 1 1 1 1 1 1 1 1 ...\n",
      " $ WAIT  : num  0.533 1.4 2.15 15.2 15.517 ...\n"
     ]
    }
   ],
   "source": [
    "x <- data.frame(PERIOD, WAIT)\n",
    "str(x)"
   ]
  },
  {
   "cell_type": "markdown",
   "metadata": {},
   "source": [
    "####Note: wait times are in minutes"
   ]
  },
  {
   "cell_type": "code",
   "execution_count": 74,
   "metadata": {
    "collapsed": false
   },
   "outputs": [
    {
     "data": {
      "text/html": [
       "<table>\n",
       "<thead><tr><th></th><th scope=col>PERIOD</th><th scope=col>WAIT</th></tr></thead>\n",
       "<tbody>\n",
       "\t<tr><th scope=row>1</th><td>Fall 2014</td><td>0.5333333</td></tr>\n",
       "\t<tr><th scope=row>2</th><td>Fall 2014</td><td>1.4</td></tr>\n",
       "\t<tr><th scope=row>3</th><td>Fall 2014</td><td>2.15</td></tr>\n",
       "\t<tr><th scope=row>4</th><td>Fall 2014</td><td>15.2</td></tr>\n",
       "\t<tr><th scope=row>5</th><td>Fall 2014</td><td>15.51667</td></tr>\n",
       "\t<tr><th scope=row>6</th><td>Fall 2014</td><td>0.45</td></tr>\n",
       "</tbody>\n",
       "</table>\n"
      ],
      "text/latex": [
       "\\begin{tabular}{r|ll}\n",
       "  & PERIOD & WAIT\\\\\n",
       "\\hline\n",
       "\t1 & Fall 2014 & 0.5333333\\\\\n",
       "\t2 & Fall 2014 & 1.4\\\\\n",
       "\t3 & Fall 2014 & 2.15\\\\\n",
       "\t4 & Fall 2014 & 15.2\\\\\n",
       "\t5 & Fall 2014 & 15.51667\\\\\n",
       "\t6 & Fall 2014 & 0.45\\\\\n",
       "\\end{tabular}\n"
      ],
      "text/plain": [
       "     PERIOD       WAIT\n",
       "1 Fall 2014  0.5333333\n",
       "2 Fall 2014  1.4000000\n",
       "3 Fall 2014  2.1500000\n",
       "4 Fall 2014 15.2000000\n",
       "5 Fall 2014 15.5166667\n",
       "6 Fall 2014  0.4500000"
      ]
     },
     "execution_count": 74,
     "metadata": {},
     "output_type": "execute_result"
    }
   ],
   "source": [
    "head(x)"
   ]
  },
  {
   "cell_type": "code",
   "execution_count": 75,
   "metadata": {
    "collapsed": false
   },
   "outputs": [],
   "source": [
    "require(gplots)"
   ]
  },
  {
   "cell_type": "code",
   "execution_count": 76,
   "metadata": {
    "collapsed": false
   },
   "outputs": [
    {
     "data": {
      "image/png": "[encoded data removed]",
      "image/svg+xml": [
       "<?xml version=\"1.0\" encoding=\"UTF-8\"?>\n",
       "<svg xmlns=\"http://www.w3.org/2000/svg\" xmlns:xlink=\"http://www.w3.org/1999/xlink\" width=\"504pt\" height=\"504pt\" viewBox=\"0 0 504 504\" version=\"1.1\">\n",
       "<defs>\n",
       "<g>\n",
       "<symbol overflow=\"visible\" id=\"glyph0-0\">\n",
       "<path style=\"stroke:none;\" d=\"\"/>\n",
       "</symbol>\n",
       "<symbol overflow=\"visible\" id=\"glyph0-1\">\n",
       "<path style=\"stroke:none;\" d=\"M 9.875 -5.390625 C 9.875 -7 9.40625 -8.53125 8.578125 -9.515625 C 7.859375 -10.375 6.828125 -10.78125 5.21875 -10.78125 L 1.015625 -10.78125 L 1.015625 0 L 5.21875 0 C 6.8125 0 7.84375 -0.40625 8.578125 -1.25 C 9.390625 -2.234375 9.875 -3.765625 9.875 -5.390625 Z M 7.5625 -5.375 C 7.5625 -3.0625 6.84375 -2.078125 5.21875 -2.078125 L 3.34375 -2.078125 L 3.34375 -8.703125 L 5.21875 -8.703125 C 6.84375 -8.703125 7.5625 -7.6875 7.5625 -5.375 Z M 7.5625 -5.375 \"/>\n",
       "</symbol>\n",
       "<symbol overflow=\"visible\" id=\"glyph0-2\">\n",
       "<path style=\"stroke:none;\" d=\"M 3.046875 -0.125 L 3.046875 -8.046875 L 0.875 -8.046875 L 0.875 0 L 3.046875 0 Z M 3.078125 -8.84375 L 3.078125 -11 L 0.90625 -11 L 0.90625 -8.71875 L 3.078125 -8.71875 Z M 3.078125 -8.84375 \"/>\n",
       "</symbol>\n",
       "<symbol overflow=\"visible\" id=\"glyph0-3\">\n",
       "<path style=\"stroke:none;\" d=\"M 7.5625 -2.4375 L 7.5625 -2.53125 C 7.5625 -3.421875 6.984375 -4.234375 5.96875 -4.53125 L 3.421875 -5.265625 C 2.859375 -5.4375 2.78125 -5.421875 2.78125 -5.734375 C 2.78125 -6.171875 3.171875 -6.328125 3.875 -6.328125 C 4.84375 -6.328125 5.234375 -6.109375 5.25 -5.265625 L 7.34375 -5.265625 C 7.3125 -7.046875 5.984375 -8.1875 3.890625 -8.1875 C 1.921875 -8.1875 0.609375 -7.046875 0.609375 -5.453125 C 0.609375 -4.5 0.953125 -3.84375 2.390625 -3.40625 L 4.796875 -2.65625 C 5.296875 -2.5 5.390625 -2.46875 5.390625 -2.25 C 5.390625 -1.765625 4.90625 -1.734375 3.96875 -1.734375 C 3.046875 -1.734375 2.640625 -1.75 2.4375 -2.734375 L 0.328125 -2.734375 C 0.390625 -0.890625 1.734375 0.125 4.09375 0.125 C 6.28125 0.125 7.5625 -0.859375 7.5625 -2.4375 Z M 7.5625 -2.4375 \"/>\n",
       "</symbol>\n",
       "<symbol overflow=\"visible\" id=\"glyph0-4\">\n",
       "<path style=\"stroke:none;\" d=\"M 4.40625 -0.125 L 4.40625 -1.703125 C 4.140625 -1.65625 4.015625 -1.640625 3.875 -1.640625 C 3.34375 -1.640625 3.28125 -1.65625 3.28125 -2.34375 L 3.28125 -6.28125 L 4.40625 -6.28125 L 4.40625 -7.890625 L 3.28125 -7.890625 L 3.28125 -9.984375 L 1.109375 -9.984375 L 1.109375 -7.890625 L 0.109375 -7.890625 L 0.109375 -6.28125 L 1.109375 -6.28125 L 1.109375 -1.796875 C 1.109375 -0.578125 1.84375 0.0625 3.171875 0.0625 C 3.609375 0.0625 3.96875 0.015625 4.40625 0 Z M 4.40625 -0.125 \"/>\n",
       "</symbol>\n",
       "<symbol overflow=\"visible\" id=\"glyph0-5\">\n",
       "<path style=\"stroke:none;\" d=\"M 5.40625 -5.984375 L 5.40625 -8.15625 C 5.21875 -8.1875 5.140625 -8.1875 5.078125 -8.1875 C 4.15625 -8.1875 3.265625 -7.375 2.84375 -6.328125 L 3 -6.375 L 3 -8.046875 L 0.828125 -8.046875 L 0.828125 0 L 3 0 L 3 -4.265625 C 3 -5.453125 3.515625 -5.90625 4.703125 -5.90625 C 4.90625 -5.90625 5.0625 -5.890625 5.40625 -5.828125 Z M 5.40625 -5.984375 \"/>\n",
       "</symbol>\n",
       "<symbol overflow=\"visible\" id=\"glyph0-6\">\n",
       "<path style=\"stroke:none;\" d=\"M 8.359375 -3.921875 C 8.359375 -6.125 7.0625 -8.1875 5.015625 -8.1875 C 4.046875 -8.1875 3.296875 -7.78125 2.9375 -7.21875 L 2.9375 -10.78125 L 0.765625 -10.78125 L 0.765625 0 L 2.9375 0 L 2.9375 -0.75 C 3.296875 -0.265625 4.03125 0.125 5.015625 0.125 C 6.875 0.125 8.359375 -1.5625 8.359375 -3.921875 Z M 6.1875 -4 C 6.1875 -2.59375 5.5625 -1.828125 4.5625 -1.828125 C 3.546875 -1.828125 2.9375 -2.5625 2.9375 -4.046875 C 2.9375 -5.453125 3.5625 -6.21875 4.5625 -6.21875 C 5.5625 -6.21875 6.1875 -5.453125 6.1875 -4 Z M 6.1875 -4 \"/>\n",
       "</symbol>\n",
       "<symbol overflow=\"visible\" id=\"glyph0-7\">\n",
       "<path style=\"stroke:none;\" d=\"M 7.859375 -0.125 L 7.859375 -8.046875 L 5.6875 -8.046875 L 5.6875 -3.234375 C 5.6875 -2.3125 5.125 -1.859375 4.15625 -1.859375 C 3.28125 -1.859375 2.921875 -2.171875 2.921875 -3.109375 L 2.921875 -8.046875 L 0.75 -8.046875 L 0.75 -2.6875 C 0.75 -0.984375 1.78125 0.125 3.4375 0.125 C 4.5 0.125 5.25 -0.28125 5.6875 -0.875 L 5.6875 0 L 7.859375 0 Z M 7.859375 -0.125 \"/>\n",
       "</symbol>\n",
       "<symbol overflow=\"visible\" id=\"glyph0-8\">\n",
       "<path style=\"stroke:none;\" d=\"M 8.265625 -3.96875 C 8.265625 -6.59375 6.765625 -8.1875 4.34375 -8.1875 C 1.953125 -8.1875 0.421875 -6.5625 0.421875 -4.015625 C 0.421875 -1.453125 1.953125 0.125 4.34375 0.125 C 6.71875 0.125 8.265625 -1.46875 8.265625 -3.96875 Z M 6.09375 -3.984375 C 6.09375 -2.53125 5.4375 -1.765625 4.34375 -1.765625 C 3.25 -1.765625 2.59375 -2.53125 2.59375 -4.015625 C 2.59375 -5.5 3.25 -6.28125 4.34375 -6.28125 C 5.453125 -6.28125 6.09375 -5.515625 6.09375 -3.984375 Z M 6.09375 -3.984375 \"/>\n",
       "</symbol>\n",
       "<symbol overflow=\"visible\" id=\"glyph0-9\">\n",
       "<path style=\"stroke:none;\" d=\"M 7.9375 -0.125 L 7.9375 -5.34375 C 7.9375 -7.0625 6.921875 -8.1875 5.265625 -8.1875 C 4.203125 -8.1875 3.4375 -7.75 3 -7.09375 L 3 -8.046875 L 0.828125 -8.046875 L 0.828125 0 L 3 0 L 3 -4.796875 C 3 -5.71875 3.578125 -6.1875 4.546875 -6.1875 C 5.421875 -6.1875 5.765625 -5.84375 5.765625 -4.921875 L 5.765625 0 L 7.9375 0 Z M 7.9375 -0.125 \"/>\n",
       "</symbol>\n",
       "<symbol overflow=\"visible\" id=\"glyph0-10\">\n",
       "<path style=\"stroke:none;\" d=\"\"/>\n",
       "</symbol>\n",
       "<symbol overflow=\"visible\" id=\"glyph0-11\">\n",
       "<path style=\"stroke:none;\" d=\"M 4.578125 -6.40625 L 4.578125 -7.890625 L 3.390625 -7.890625 L 3.390625 -8.515625 C 3.390625 -8.921875 3.484375 -8.984375 3.859375 -8.984375 C 4.03125 -8.984375 4.265625 -8.96875 4.515625 -8.9375 L 4.515625 -10.734375 C 4.0625 -10.765625 3.5625 -10.78125 3.28125 -10.78125 C 1.9375 -10.78125 1.203125 -10 1.203125 -8.6875 L 1.203125 -7.890625 L 0.109375 -7.890625 L 0.109375 -6.28125 L 1.203125 -6.28125 L 1.203125 0 L 3.390625 0 L 3.390625 -6.28125 L 4.578125 -6.28125 Z M 4.578125 -6.40625 \"/>\n",
       "</symbol>\n",
       "<symbol overflow=\"visible\" id=\"glyph0-12\">\n",
       "<path style=\"stroke:none;\" d=\"M 13.421875 -10.78125 L 11.09375 -10.78125 L 9.484375 -2.6875 L 9.640625 -2.75 L 7.90625 -10.78125 L 5.6875 -10.78125 L 4.015625 -2.703125 L 4.171875 -2.765625 L 2.515625 -10.78125 L 0.0625 -10.78125 L 3.109375 0 L 5.140625 0 L 6.890625 -8.328125 L 6.734375 -8.328125 L 8.515625 0 L 10.546875 0 L 13.546875 -10.78125 Z M 13.421875 -10.78125 \"/>\n",
       "</symbol>\n",
       "<symbol overflow=\"visible\" id=\"glyph0-13\">\n",
       "<path style=\"stroke:none;\" d=\"M 7.625 -0.125 L 7.625 -0.46875 C 7.234375 -0.8125 7.15625 -0.921875 7.15625 -1.328125 L 7.15625 -5.640625 C 7.15625 -7.234375 6 -8.1875 3.90625 -8.1875 C 1.796875 -8.1875 0.625 -7.09375 0.484375 -5.21875 L 2.578125 -5.21875 C 2.6875 -6.15625 2.953125 -6.28125 3.953125 -6.28125 C 4.71875 -6.28125 5.03125 -6.15625 5.03125 -5.640625 C 5.03125 -4.8125 4.515625 -5.046875 3.5 -4.875 L 2.6875 -4.71875 C 1.15625 -4.453125 0.3125 -3.640625 0.3125 -2.234375 C 0.3125 -0.71875 1.46875 0.125 2.765625 0.125 C 3.625 0.125 4.46875 -0.28125 5.046875 -0.875 C 5.046875 -0.703125 5.109375 -0.265625 5.328125 0 L 7.625 0 Z M 5.03125 -3.453125 C 5.03125 -2.296875 4.53125 -1.765625 3.515625 -1.765625 C 2.84375 -1.765625 2.5 -1.890625 2.5 -2.46875 C 2.5 -3.046875 2.734375 -3.140625 3.578125 -3.296875 L 4.265625 -3.421875 C 4.796875 -3.53125 4.921875 -3.59375 5.03125 -3.640625 Z M 5.03125 -3.453125 \"/>\n",
       "</symbol>\n",
       "<symbol overflow=\"visible\" id=\"glyph0-14\">\n",
       "<path style=\"stroke:none;\" d=\"M 8.6875 -8.828125 L 8.6875 -10.78125 L 0.109375 -10.78125 L 0.109375 -8.703125 L 3.296875 -8.703125 L 3.296875 0 L 5.625 0 L 5.625 -8.703125 L 8.6875 -8.703125 Z M 8.6875 -8.828125 \"/>\n",
       "</symbol>\n",
       "<symbol overflow=\"visible\" id=\"glyph0-15\">\n",
       "<path style=\"stroke:none;\" d=\"M 11.9375 -0.125 L 11.9375 -5.640625 C 11.9375 -7.140625 10.953125 -8.1875 9.390625 -8.1875 C 8.40625 -8.1875 7.671875 -7.796875 7.109375 -7.078125 C 6.78125 -7.71875 5.96875 -8.1875 5 -8.1875 C 4.109375 -8.1875 3.46875 -7.84375 2.9375 -7.203125 L 2.9375 -8.046875 L 0.78125 -8.046875 L 0.78125 0 L 2.953125 0 L 2.953125 -4.796875 C 2.953125 -5.75 3.40625 -6.1875 4.265625 -6.1875 C 4.9375 -6.1875 5.265625 -5.9375 5.265625 -5.3125 L 5.265625 0 L 7.453125 0 L 7.453125 -4.796875 C 7.453125 -5.75 7.890625 -6.1875 8.765625 -6.1875 C 9.4375 -6.1875 9.765625 -5.9375 9.765625 -5.3125 L 9.765625 0 L 11.9375 0 Z M 11.9375 -0.125 \"/>\n",
       "</symbol>\n",
       "<symbol overflow=\"visible\" id=\"glyph0-16\">\n",
       "<path style=\"stroke:none;\" d=\"M 7.640625 -3.734375 C 7.640625 -6.40625 6.203125 -8.1875 3.921875 -8.1875 C 1.6875 -8.1875 0.234375 -6.53125 0.234375 -3.921875 C 0.234375 -1.421875 1.671875 0.125 3.875 0.125 C 5.625 0.125 7.109375 -0.796875 7.59375 -2.46875 L 5.453125 -2.46875 C 5.234375 -1.703125 4.6875 -1.6875 3.953125 -1.6875 C 3 -1.6875 2.46875 -1.96875 2.40625 -3.359375 L 7.609375 -3.359375 Z M 5.453125 -4.96875 L 2.453125 -4.96875 C 2.5625 -5.90625 3 -6.375 3.890625 -6.375 C 4.75 -6.375 5.265625 -5.9375 5.359375 -4.96875 Z M 5.453125 -4.96875 \"/>\n",
       "</symbol>\n",
       "<symbol overflow=\"visible\" id=\"glyph1-0\">\n",
       "<path style=\"stroke:none;\" d=\"\"/>\n",
       "</symbol>\n",
       "<symbol overflow=\"visible\" id=\"glyph1-1\">\n",
       "<path style=\"stroke:none;\" d=\"M 3.1875 -0.125 L 3.1875 -1.15625 C 2.921875 -1.0625 2.765625 -1.0625 2.5625 -1.0625 C 2.140625 -1.0625 2.140625 -1.046875 2.140625 -1.484375 L 2.140625 -5.46875 L 3.1875 -5.46875 L 3.1875 -6.546875 L 2.140625 -6.546875 L 2.140625 -8.28125 L 0.875 -8.28125 L 0.875 -6.546875 L 0.03125 -6.546875 L 0.03125 -5.46875 L 0.875 -5.46875 L 0.875 -1.046875 C 0.875 -0.40625 1.453125 0.078125 2.234375 0.078125 C 2.46875 0.078125 2.71875 0.0625 3.1875 -0.03125 Z M 3.1875 -0.125 \"/>\n",
       "</symbol>\n",
       "<symbol overflow=\"visible\" id=\"glyph1-2\">\n",
       "<path style=\"stroke:none;\" d=\"M 6.21875 -4.21875 C 6.21875 -7.171875 5.140625 -8.765625 3.296875 -8.765625 C 1.46875 -8.765625 0.375 -7.15625 0.375 -4.296875 C 0.375 -1.421875 1.46875 0.1875 3.296875 0.1875 C 5.09375 0.1875 6.21875 -1.421875 6.21875 -4.21875 Z M 4.859375 -4.3125 C 4.859375 -1.90625 4.453125 -0.953125 3.28125 -0.953125 C 2.15625 -0.953125 1.734375 -1.953125 1.734375 -4.28125 C 1.734375 -6.609375 2.15625 -7.578125 3.296875 -7.578125 C 4.4375 -7.578125 4.859375 -6.59375 4.859375 -4.3125 Z M 4.859375 -4.3125 \"/>\n",
       "</symbol>\n",
       "<symbol overflow=\"visible\" id=\"glyph1-3\">\n",
       "<path style=\"stroke:none;\" d=\"M 6.265625 -6.140625 C 6.265625 -7.578125 5.015625 -8.765625 3.40625 -8.765625 C 1.671875 -8.765625 0.515625 -7.75 0.453125 -5.5625 L 1.78125 -5.5625 C 1.875 -7.109375 2.328125 -7.578125 3.375 -7.578125 C 4.328125 -7.578125 4.90625 -7.03125 4.90625 -6.125 C 4.90625 -5.453125 4.546875 -4.96875 3.796875 -4.53125 L 2.6875 -3.90625 C 0.90625 -2.90625 0.359375 -2 0.25 0 L 6.203125 0 L 6.203125 -1.3125 L 1.75 -1.3125 C 1.84375 -1.875 2.1875 -2.21875 3.234375 -2.828125 L 4.421875 -3.484375 C 5.609375 -4.109375 6.265625 -5.09375 6.265625 -6.140625 Z M 6.265625 -6.140625 \"/>\n",
       "</symbol>\n",
       "<symbol overflow=\"visible\" id=\"glyph1-4\">\n",
       "<path style=\"stroke:none;\" d=\"M 6.375 -2.171875 L 6.375 -3.25 L 5.109375 -3.25 L 5.109375 -8.765625 L 4.125 -8.765625 L 0.1875 -3.328125 L 0.1875 -2.046875 L 3.78125 -2.046875 L 3.78125 0 L 5.109375 0 L 5.109375 -2.046875 L 6.375 -2.046875 Z M 3.921875 -3.25 L 1.515625 -3.25 L 4.015625 -6.75 L 3.78125 -6.84375 L 3.78125 -3.25 Z M 3.921875 -3.25 \"/>\n",
       "</symbol>\n",
       "<symbol overflow=\"visible\" id=\"glyph1-5\">\n",
       "<path style=\"stroke:none;\" d=\"M 6.28125 -2.765625 C 6.28125 -4.359375 5.078125 -5.5625 3.546875 -5.5625 C 2.71875 -5.5625 1.9375 -5.203125 1.484375 -4.578125 L 1.734375 -4.46875 C 1.734375 -6.546875 2.28125 -7.578125 3.484375 -7.578125 C 4.234375 -7.578125 4.609375 -7.234375 4.796875 -6.28125 L 6.125 -6.28125 C 5.90625 -7.8125 4.859375 -8.765625 3.5625 -8.765625 C 1.578125 -8.765625 0.375 -6.96875 0.375 -4.015625 C 0.375 -1.359375 1.421875 0.1875 3.375 0.1875 C 4.984375 0.1875 6.28125 -1.109375 6.28125 -2.765625 Z M 4.9375 -2.6875 C 4.9375 -1.625 4.359375 -1.015625 3.390625 -1.015625 C 2.40625 -1.015625 1.78125 -1.65625 1.78125 -2.75 C 1.78125 -3.796875 2.375 -4.359375 3.421875 -4.359375 C 4.4375 -4.359375 4.9375 -3.828125 4.9375 -2.6875 Z M 4.9375 -2.6875 \"/>\n",
       "</symbol>\n",
       "<symbol overflow=\"visible\" id=\"glyph1-6\">\n",
       "<path style=\"stroke:none;\" d=\"M 6.28125 -2.53125 C 6.28125 -3.484375 5.671875 -4.265625 4.953125 -4.625 C 5.65625 -5.046875 5.984375 -5.5625 5.984375 -6.375 C 5.984375 -7.703125 4.8125 -8.765625 3.296875 -8.765625 C 1.796875 -8.765625 0.59375 -7.703125 0.59375 -6.375 C 0.59375 -5.578125 0.921875 -5.046875 1.625 -4.625 C 0.921875 -4.265625 0.296875 -3.484375 0.296875 -2.546875 C 0.296875 -0.984375 1.625 0.1875 3.296875 0.1875 C 4.984375 0.1875 6.28125 -0.984375 6.28125 -2.53125 Z M 4.625 -6.34375 C 4.625 -5.5625 4.1875 -5.15625 3.296875 -5.15625 C 2.40625 -5.15625 1.953125 -5.5625 1.953125 -6.359375 C 1.953125 -7.171875 2.40625 -7.578125 3.296875 -7.578125 C 4.203125 -7.578125 4.625 -7.171875 4.625 -6.34375 Z M 4.9375 -2.515625 C 4.9375 -1.515625 4.359375 -1.015625 3.28125 -1.015625 C 2.25 -1.015625 1.65625 -1.53125 1.65625 -2.515625 C 1.65625 -3.515625 2.25 -4.015625 3.296875 -4.015625 C 4.359375 -4.015625 4.9375 -3.515625 4.9375 -2.515625 Z M 4.9375 -2.515625 \"/>\n",
       "</symbol>\n",
       "<symbol overflow=\"visible\" id=\"glyph1-7\">\n",
       "<path style=\"stroke:none;\" d=\"M 4.296875 -0.125 L 4.296875 -8.765625 L 3.359375 -8.765625 C 2.953125 -7.328125 2.859375 -7.28125 1.078125 -7.0625 L 1.078125 -6.0625 L 2.96875 -6.0625 L 2.96875 0 L 4.296875 0 Z M 4.296875 -0.125 \"/>\n",
       "</symbol>\n",
       "<symbol overflow=\"visible\" id=\"glyph2-0\">\n",
       "<path style=\"stroke:none;\" d=\"\"/>\n",
       "</symbol>\n",
       "<symbol overflow=\"visible\" id=\"glyph2-1\">\n",
       "<path style=\"stroke:none;\" d=\"M -7.890625 -7.078125 L -9.015625 -7.078125 L -9.015625 -0.9375 L 0 -0.9375 L 0 -2.328125 L -3.984375 -2.328125 L -3.984375 -6.5 L -5.234375 -6.5 L -5.234375 -2.328125 L -7.765625 -2.328125 L -7.765625 -7.078125 Z M -7.890625 -7.078125 \"/>\n",
       "</symbol>\n",
       "<symbol overflow=\"visible\" id=\"glyph2-2\">\n",
       "<path style=\"stroke:none;\" d=\"M -5.546875 -3.984375 L -6.6875 -3.984375 C -6.71875 -3.6875 -6.734375 -3.59375 -6.734375 -3.46875 C -6.734375 -2.8125 -6.3125 -2.21875 -5.375 -1.640625 L -5.28125 -1.890625 L -6.546875 -1.890625 L -6.546875 -0.703125 L 0 -0.703125 L 0 -1.96875 L -3.390625 -1.96875 C -4.8125 -1.96875 -5.390625 -2.296875 -5.40625 -3.984375 Z M -5.546875 -3.984375 \"/>\n",
       "</symbol>\n",
       "<symbol overflow=\"visible\" id=\"glyph2-3\">\n",
       "<path style=\"stroke:none;\" d=\"M -2.984375 -6.28125 C -3.90625 -6.28125 -4.46875 -6.21875 -4.9375 -6.03125 C -5.96875 -5.625 -6.734375 -4.53125 -6.734375 -3.359375 C -6.734375 -1.609375 -5.296875 -0.34375 -3.234375 -0.34375 C -1.171875 -0.34375 0.1875 -1.578125 0.1875 -3.34375 C 0.1875 -4.78125 -0.765625 -5.90625 -2.171875 -6.1875 L -2.171875 -4.921875 C -1.21875 -4.59375 -1.015625 -4.171875 -1.015625 -3.375 C -1.015625 -2.328125 -1.546875 -1.6875 -2.859375 -1.65625 L -2.859375 -6.28125 Z M -3.78125 -5.1875 C -3.78125 -5.1875 -3.921875 -4.984375 -3.9375 -4.984375 L -3.9375 -1.6875 C -4.921875 -1.765625 -5.546875 -2.34375 -5.546875 -3.34375 C -5.546875 -4.328125 -4.859375 -4.9375 -3.875 -4.9375 Z M -3.78125 -5.1875 \"/>\n",
       "</symbol>\n",
       "<symbol overflow=\"visible\" id=\"glyph2-4\">\n",
       "<path style=\"stroke:none;\" d=\"M 2.484375 -6.078125 L -6.546875 -6.078125 L -6.546875 -4.90625 L -5.578125 -4.90625 L -5.671875 -5.140625 C -6.34375 -4.6875 -6.734375 -3.875 -6.734375 -3.046875 C -6.734375 -1.390625 -5.296875 -0.171875 -3.203125 -0.171875 C -1.15625 -0.171875 0.1875 -1.34375 0.1875 -3 C 0.1875 -3.875 -0.171875 -4.578125 -0.859375 -5.046875 L -0.953125 -4.796875 L 2.609375 -4.796875 L 2.609375 -6.078125 Z M -3.234375 -4.796875 C -1.796875 -4.796875 -1.015625 -4.25 -1.015625 -3.1875 C -1.015625 -2.09375 -1.8125 -1.484375 -3.28125 -1.484375 C -4.734375 -1.484375 -5.53125 -2.09375 -5.53125 -3.1875 C -5.53125 -4.265625 -4.703125 -4.796875 -3.234375 -4.796875 Z M -3.234375 -4.796875 \"/>\n",
       "</symbol>\n",
       "<symbol overflow=\"visible\" id=\"glyph2-5\">\n",
       "<path style=\"stroke:none;\" d=\"M -0.125 -5.921875 L -6.546875 -5.921875 L -6.546875 -4.640625 L -2.953125 -4.640625 C -1.671875 -4.640625 -0.953125 -4.109375 -0.953125 -3.078125 C -0.953125 -2.28125 -1.3125 -1.90625 -2.0625 -1.90625 L -6.546875 -1.90625 L -6.546875 -0.640625 L -1.671875 -0.640625 C -0.625 -0.640625 0.1875 -1.5625 0.1875 -2.78125 C 0.1875 -3.703125 -0.1875 -4.390625 -1.015625 -4.984375 L -1.109375 -4.734375 L 0 -4.734375 L 0 -5.921875 Z M -0.125 -5.921875 \"/>\n",
       "</symbol>\n",
       "<symbol overflow=\"visible\" id=\"glyph2-6\">\n",
       "<path style=\"stroke:none;\" d=\"M -0.125 -5.96875 L -4.890625 -5.96875 C -5.921875 -5.96875 -6.734375 -5.0625 -6.734375 -3.859375 C -6.734375 -2.921875 -6.34375 -2.203125 -5.453125 -1.65625 L -5.359375 -1.890625 L -6.546875 -1.890625 L -6.546875 -0.703125 L 0 -0.703125 L 0 -1.96875 L -3.59375 -1.96875 C -4.890625 -1.96875 -5.59375 -2.53125 -5.59375 -3.546875 C -5.59375 -4.34375 -5.25 -4.703125 -4.484375 -4.703125 L 0 -4.703125 L 0 -5.96875 Z M -0.125 -5.96875 \"/>\n",
       "</symbol>\n",
       "<symbol overflow=\"visible\" id=\"glyph2-7\">\n",
       "<path style=\"stroke:none;\" d=\"M -2.421875 -5.71875 L -2.421875 -4.59375 C -1.28125 -4.40625 -1.015625 -4.03125 -1.015625 -3.1875 C -1.015625 -2.078125 -1.734375 -1.546875 -3.21875 -1.546875 C -4.78125 -1.546875 -5.546875 -2.0625 -5.546875 -3.15625 C -5.546875 -4 -5.1875 -4.375 -4.171875 -4.53125 L -4.171875 -5.796875 C -5.84375 -5.65625 -6.734375 -4.578125 -6.734375 -3.171875 C -6.734375 -1.46875 -5.296875 -0.234375 -3.21875 -0.234375 C -1.1875 -0.234375 0.1875 -1.453125 0.1875 -3.15625 C 0.1875 -4.65625 -0.859375 -5.734375 -2.421875 -5.875 Z M -2.421875 -5.71875 \"/>\n",
       "</symbol>\n",
       "<symbol overflow=\"visible\" id=\"glyph2-8\">\n",
       "<path style=\"stroke:none;\" d=\"M -6.546875 -5.734375 L -6.546875 -4.5625 L -1.53125 -2.765625 L -1.53125 -3.046875 L -6.546875 -1.390625 L -6.546875 -0.046875 L -0.109375 -2.21875 L 0.890625 -1.84375 C 1.328125 -1.671875 1.375 -1.609375 1.375 -1.171875 C 1.375 -1.03125 1.34375 -0.859375 1.265625 -0.5 L 2.40625 -0.5 C 2.53125 -0.75 2.609375 -1.0625 2.609375 -1.3125 C 2.609375 -2.03125 2.09375 -2.734375 1.1875 -3.078125 L -6.546875 -5.921875 Z M -6.546875 -5.734375 \"/>\n",
       "</symbol>\n",
       "<symbol overflow=\"visible\" id=\"glyph2-9\">\n",
       "<path style=\"stroke:none;\" d=\"M -4.21875 -6.21875 C -7.171875 -6.21875 -8.765625 -5.140625 -8.765625 -3.296875 C -8.765625 -1.46875 -7.15625 -0.375 -4.296875 -0.375 C -1.421875 -0.375 0.1875 -1.46875 0.1875 -3.296875 C 0.1875 -5.09375 -1.421875 -6.21875 -4.21875 -6.21875 Z M -4.3125 -4.859375 C -1.90625 -4.859375 -0.953125 -4.453125 -0.953125 -3.28125 C -0.953125 -2.15625 -1.953125 -1.734375 -4.28125 -1.734375 C -6.609375 -1.734375 -7.578125 -2.15625 -7.578125 -3.296875 C -7.578125 -4.4375 -6.59375 -4.859375 -4.3125 -4.859375 Z M -4.3125 -4.859375 \"/>\n",
       "</symbol>\n",
       "<symbol overflow=\"visible\" id=\"glyph2-10\">\n",
       "<path style=\"stroke:none;\" d=\"M -2.953125 -6.28125 C -4.625 -6.28125 -5.875 -5.046875 -5.875 -3.40625 C -5.875 -2.8125 -5.671875 -2.21875 -5.515625 -2.015625 L -7.28125 -2.28125 L -7.28125 -5.84375 L -8.59375 -5.84375 L -8.59375 -1.203125 L -3.875 -0.515625 L -3.875 -1.71875 C -4.5 -2.25 -4.671875 -2.5625 -4.671875 -3.21875 C -4.671875 -4.359375 -4.0625 -4.9375 -2.8125 -4.9375 C -1.578125 -4.9375 -1.015625 -4.375 -1.015625 -3.21875 C -1.015625 -2.296875 -1.359375 -1.859375 -2.453125 -1.578125 L -2.453125 -0.25 C -0.625 -0.625 0.1875 -1.734375 0.1875 -3.234375 C 0.1875 -4.953125 -1.15625 -6.28125 -2.953125 -6.28125 Z M -2.953125 -6.28125 \"/>\n",
       "</symbol>\n",
       "<symbol overflow=\"visible\" id=\"glyph2-11\">\n",
       "<path style=\"stroke:none;\" d=\"M -0.125 -4.296875 L -8.765625 -4.296875 L -8.765625 -3.359375 C -7.328125 -2.953125 -7.28125 -2.859375 -7.0625 -1.078125 L -6.0625 -1.078125 L -6.0625 -2.96875 L 0 -2.96875 L 0 -4.296875 Z M -0.125 -4.296875 \"/>\n",
       "</symbol>\n",
       "<symbol overflow=\"visible\" id=\"glyph2-12\">\n",
       "<path style=\"stroke:none;\" d=\"M -6.140625 -6.265625 C -7.578125 -6.265625 -8.765625 -5.015625 -8.765625 -3.40625 C -8.765625 -1.671875 -7.75 -0.515625 -5.5625 -0.453125 L -5.5625 -1.78125 C -7.109375 -1.875 -7.578125 -2.328125 -7.578125 -3.375 C -7.578125 -4.328125 -7.03125 -4.90625 -6.125 -4.90625 C -5.453125 -4.90625 -4.96875 -4.546875 -4.53125 -3.796875 L -3.90625 -2.6875 C -2.90625 -0.90625 -2 -0.359375 0 -0.25 L 0 -6.203125 L -1.3125 -6.203125 L -1.3125 -1.75 C -1.875 -1.84375 -2.21875 -2.1875 -2.828125 -3.234375 L -3.484375 -4.421875 C -4.109375 -5.609375 -5.09375 -6.265625 -6.140625 -6.265625 Z M -6.140625 -6.265625 \"/>\n",
       "</symbol>\n",
       "<symbol overflow=\"visible\" id=\"glyph2-13\">\n",
       "<path style=\"stroke:none;\" d=\"M -2.609375 -6.203125 C -3.640625 -6.203125 -4.375 -5.65625 -4.71875 -4.625 L -4.453125 -4.625 C -4.765625 -5.421875 -5.453125 -5.953125 -6.296875 -5.953125 C -7.765625 -5.953125 -8.765625 -4.84375 -8.765625 -3.234375 C -8.765625 -1.515625 -7.703125 -0.453125 -5.765625 -0.421875 L -5.765625 -1.75 C -7.15625 -1.78125 -7.578125 -2.15625 -7.578125 -3.234375 C -7.578125 -4.171875 -7.15625 -4.59375 -6.265625 -4.59375 C -5.359375 -4.59375 -5.109375 -4.34375 -5.109375 -2.515625 L -3.953125 -2.515625 L -3.953125 -3.234375 C -3.953125 -4.390625 -3.546875 -4.84375 -2.59375 -4.84375 C -1.53125 -4.84375 -1.015625 -4.328125 -1.015625 -3.234375 C -1.015625 -2.078125 -1.46875 -1.640625 -2.828125 -1.5625 L -2.828125 -0.234375 C -0.796875 -0.375 0.1875 -1.453125 0.1875 -3.1875 C 0.1875 -4.9375 -1 -6.203125 -2.609375 -6.203125 Z M -2.609375 -6.203125 \"/>\n",
       "</symbol>\n",
       "</g>\n",
       "</defs>\n",
       "<g id=\"surface246\">\n",
       "<rect x=\"0\" y=\"0\" width=\"504\" height=\"504\" style=\"fill:rgb(100%,100%,100%);fill-opacity:1;stroke:none;\"/>\n",
       "<g style=\"fill:rgb(0%,0%,0%);fill-opacity:1;\">\n",
       "  <use xlink:href=\"#glyph0-1\" x=\"176.898438\" y=\"34.21875\"/>\n",
       "  <use xlink:href=\"#glyph0-2\" x=\"187.299805\" y=\"34.21875\"/>\n",
       "  <use xlink:href=\"#glyph0-3\" x=\"191.304688\" y=\"34.21875\"/>\n",
       "  <use xlink:href=\"#glyph0-4\" x=\"199.314453\" y=\"34.21875\"/>\n",
       "  <use xlink:href=\"#glyph0-5\" x=\"204.111328\" y=\"34.21875\"/>\n",
       "  <use xlink:href=\"#glyph0-2\" x=\"209.71582\" y=\"34.21875\"/>\n",
       "  <use xlink:href=\"#glyph0-6\" x=\"213.720703\" y=\"34.21875\"/>\n",
       "  <use xlink:href=\"#glyph0-7\" x=\"222.522461\" y=\"34.21875\"/>\n",
       "  <use xlink:href=\"#glyph0-4\" x=\"231.324219\" y=\"34.21875\"/>\n",
       "  <use xlink:href=\"#glyph0-2\" x=\"236.121094\" y=\"34.21875\"/>\n",
       "  <use xlink:href=\"#glyph0-8\" x=\"240.125977\" y=\"34.21875\"/>\n",
       "  <use xlink:href=\"#glyph0-9\" x=\"248.927734\" y=\"34.21875\"/>\n",
       "  <use xlink:href=\"#glyph0-10\" x=\"257.729492\" y=\"34.21875\"/>\n",
       "  <use xlink:href=\"#glyph0-8\" x=\"261.734375\" y=\"34.21875\"/>\n",
       "  <use xlink:href=\"#glyph0-11\" x=\"270.536133\" y=\"34.21875\"/>\n",
       "  <use xlink:href=\"#glyph0-10\" x=\"275.333008\" y=\"34.21875\"/>\n",
       "  <use xlink:href=\"#glyph0-12\" x=\"279.337891\" y=\"34.21875\"/>\n",
       "  <use xlink:href=\"#glyph0-13\" x=\"292.505859\" y=\"34.21875\"/>\n",
       "  <use xlink:href=\"#glyph0-2\" x=\"300.515625\" y=\"34.21875\"/>\n",
       "  <use xlink:href=\"#glyph0-4\" x=\"304.520508\" y=\"34.21875\"/>\n",
       "  <use xlink:href=\"#glyph0-10\" x=\"309.317383\" y=\"34.21875\"/>\n",
       "  <use xlink:href=\"#glyph0-14\" x=\"313.322266\" y=\"34.21875\"/>\n",
       "  <use xlink:href=\"#glyph0-2\" x=\"322.124023\" y=\"34.21875\"/>\n",
       "  <use xlink:href=\"#glyph0-15\" x=\"326.128906\" y=\"34.21875\"/>\n",
       "  <use xlink:href=\"#glyph0-16\" x=\"338.935547\" y=\"34.21875\"/>\n",
       "  <use xlink:href=\"#glyph0-3\" x=\"346.945312\" y=\"34.21875\"/>\n",
       "</g>\n",
       "<g style=\"fill:rgb(0%,0%,0%);fill-opacity:1;\">\n",
       "  <use xlink:href=\"#glyph1-1\" x=\"264.398438\" y=\"485.057617\"/>\n",
       "</g>\n",
       "<g style=\"fill:rgb(0%,0%,0%);fill-opacity:1;\">\n",
       "  <use xlink:href=\"#glyph2-1\" x=\"12.737305\" y=\"273.300781\"/>\n",
       "  <use xlink:href=\"#glyph2-2\" x=\"12.737305\" y=\"266.388672\"/>\n",
       "  <use xlink:href=\"#glyph2-3\" x=\"12.737305\" y=\"262.511719\"/>\n",
       "  <use xlink:href=\"#glyph2-4\" x=\"12.737305\" y=\"255.839844\"/>\n",
       "  <use xlink:href=\"#glyph2-5\" x=\"12.737305\" y=\"249.108398\"/>\n",
       "  <use xlink:href=\"#glyph2-3\" x=\"12.737305\" y=\"242.436523\"/>\n",
       "  <use xlink:href=\"#glyph2-6\" x=\"12.737305\" y=\"235.764648\"/>\n",
       "  <use xlink:href=\"#glyph2-7\" x=\"12.737305\" y=\"229.092773\"/>\n",
       "  <use xlink:href=\"#glyph2-8\" x=\"12.737305\" y=\"223.092773\"/>\n",
       "</g>\n",
       "<path style=\"fill:none;stroke-width:0.75;stroke-linecap:round;stroke-linejoin:round;stroke:rgb(0%,0%,0%);stroke-opacity:1;stroke-miterlimit:10;\" d=\"M 74.398438 430.558594 L 458.398438 430.558594 \"/>\n",
       "<path style=\"fill:none;stroke-width:0.75;stroke-linecap:round;stroke-linejoin:round;stroke:rgb(0%,0%,0%);stroke-opacity:1;stroke-miterlimit:10;\" d=\"M 74.398438 430.558594 L 74.398438 437.761719 \"/>\n",
       "<path style=\"fill:none;stroke-width:0.75;stroke-linecap:round;stroke-linejoin:round;stroke:rgb(0%,0%,0%);stroke-opacity:1;stroke-miterlimit:10;\" d=\"M 129.257812 430.558594 L 129.257812 437.761719 \"/>\n",
       "<path style=\"fill:none;stroke-width:0.75;stroke-linecap:round;stroke-linejoin:round;stroke:rgb(0%,0%,0%);stroke-opacity:1;stroke-miterlimit:10;\" d=\"M 184.113281 430.558594 L 184.113281 437.761719 \"/>\n",
       "<path style=\"fill:none;stroke-width:0.75;stroke-linecap:round;stroke-linejoin:round;stroke:rgb(0%,0%,0%);stroke-opacity:1;stroke-miterlimit:10;\" d=\"M 238.972656 430.558594 L 238.972656 437.761719 \"/>\n",
       "<path style=\"fill:none;stroke-width:0.75;stroke-linecap:round;stroke-linejoin:round;stroke:rgb(0%,0%,0%);stroke-opacity:1;stroke-miterlimit:10;\" d=\"M 293.828125 430.558594 L 293.828125 437.761719 \"/>\n",
       "<path style=\"fill:none;stroke-width:0.75;stroke-linecap:round;stroke-linejoin:round;stroke:rgb(0%,0%,0%);stroke-opacity:1;stroke-miterlimit:10;\" d=\"M 348.6875 430.558594 L 348.6875 437.761719 \"/>\n",
       "<path style=\"fill:none;stroke-width:0.75;stroke-linecap:round;stroke-linejoin:round;stroke:rgb(0%,0%,0%);stroke-opacity:1;stroke-miterlimit:10;\" d=\"M 403.542969 430.558594 L 403.542969 437.761719 \"/>\n",
       "<path style=\"fill:none;stroke-width:0.75;stroke-linecap:round;stroke-linejoin:round;stroke:rgb(0%,0%,0%);stroke-opacity:1;stroke-miterlimit:10;\" d=\"M 458.398438 430.558594 L 458.398438 437.761719 \"/>\n",
       "<g style=\"fill:rgb(0%,0%,0%);fill-opacity:1;\">\n",
       "  <use xlink:href=\"#glyph1-2\" x=\"70.898438\" y=\"456.256836\"/>\n",
       "</g>\n",
       "<g style=\"fill:rgb(0%,0%,0%);fill-opacity:1;\">\n",
       "  <use xlink:href=\"#glyph1-3\" x=\"122.257812\" y=\"456.256836\"/>\n",
       "  <use xlink:href=\"#glyph1-2\" x=\"128.929688\" y=\"456.256836\"/>\n",
       "</g>\n",
       "<g style=\"fill:rgb(0%,0%,0%);fill-opacity:1;\">\n",
       "  <use xlink:href=\"#glyph1-4\" x=\"177.113281\" y=\"456.256836\"/>\n",
       "  <use xlink:href=\"#glyph1-2\" x=\"183.785156\" y=\"456.256836\"/>\n",
       "</g>\n",
       "<g style=\"fill:rgb(0%,0%,0%);fill-opacity:1;\">\n",
       "  <use xlink:href=\"#glyph1-5\" x=\"231.972656\" y=\"456.256836\"/>\n",
       "  <use xlink:href=\"#glyph1-2\" x=\"238.644531\" y=\"456.256836\"/>\n",
       "</g>\n",
       "<g style=\"fill:rgb(0%,0%,0%);fill-opacity:1;\">\n",
       "  <use xlink:href=\"#glyph1-6\" x=\"286.828125\" y=\"456.256836\"/>\n",
       "  <use xlink:href=\"#glyph1-2\" x=\"293.5\" y=\"456.256836\"/>\n",
       "</g>\n",
       "<g style=\"fill:rgb(0%,0%,0%);fill-opacity:1;\">\n",
       "  <use xlink:href=\"#glyph1-7\" x=\"338.1875\" y=\"456.256836\"/>\n",
       "  <use xlink:href=\"#glyph1-2\" x=\"344.859375\" y=\"456.256836\"/>\n",
       "  <use xlink:href=\"#glyph1-2\" x=\"351.53125\" y=\"456.256836\"/>\n",
       "</g>\n",
       "<g style=\"fill:rgb(0%,0%,0%);fill-opacity:1;\">\n",
       "  <use xlink:href=\"#glyph1-7\" x=\"393.042969\" y=\"456.256836\"/>\n",
       "  <use xlink:href=\"#glyph1-3\" x=\"399.714844\" y=\"456.256836\"/>\n",
       "  <use xlink:href=\"#glyph1-2\" x=\"406.386719\" y=\"456.256836\"/>\n",
       "</g>\n",
       "<g style=\"fill:rgb(0%,0%,0%);fill-opacity:1;\">\n",
       "  <use xlink:href=\"#glyph1-7\" x=\"447.898438\" y=\"456.256836\"/>\n",
       "  <use xlink:href=\"#glyph1-4\" x=\"454.570312\" y=\"456.256836\"/>\n",
       "  <use xlink:href=\"#glyph1-2\" x=\"461.242188\" y=\"456.256836\"/>\n",
       "</g>\n",
       "<path style=\"fill:none;stroke-width:0.75;stroke-linecap:round;stroke-linejoin:round;stroke:rgb(0%,0%,0%);stroke-opacity:1;stroke-miterlimit:10;\" d=\"M 59.039062 416.800781 L 59.039062 62.160156 \"/>\n",
       "<path style=\"fill:none;stroke-width:0.75;stroke-linecap:round;stroke-linejoin:round;stroke:rgb(0%,0%,0%);stroke-opacity:1;stroke-miterlimit:10;\" d=\"M 59.039062 416.800781 L 51.839844 416.800781 \"/>\n",
       "<path style=\"fill:none;stroke-width:0.75;stroke-linecap:round;stroke-linejoin:round;stroke:rgb(0%,0%,0%);stroke-opacity:1;stroke-miterlimit:10;\" d=\"M 59.039062 366.136719 L 51.839844 366.136719 \"/>\n",
       "<path style=\"fill:none;stroke-width:0.75;stroke-linecap:round;stroke-linejoin:round;stroke:rgb(0%,0%,0%);stroke-opacity:1;stroke-miterlimit:10;\" d=\"M 59.039062 315.472656 L 51.839844 315.472656 \"/>\n",
       "<path style=\"fill:none;stroke-width:0.75;stroke-linecap:round;stroke-linejoin:round;stroke:rgb(0%,0%,0%);stroke-opacity:1;stroke-miterlimit:10;\" d=\"M 59.039062 264.8125 L 51.839844 264.8125 \"/>\n",
       "<path style=\"fill:none;stroke-width:0.75;stroke-linecap:round;stroke-linejoin:round;stroke:rgb(0%,0%,0%);stroke-opacity:1;stroke-miterlimit:10;\" d=\"M 59.039062 214.148438 L 51.839844 214.148438 \"/>\n",
       "<path style=\"fill:none;stroke-width:0.75;stroke-linecap:round;stroke-linejoin:round;stroke:rgb(0%,0%,0%);stroke-opacity:1;stroke-miterlimit:10;\" d=\"M 59.039062 163.484375 L 51.839844 163.484375 \"/>\n",
       "<path style=\"fill:none;stroke-width:0.75;stroke-linecap:round;stroke-linejoin:round;stroke:rgb(0%,0%,0%);stroke-opacity:1;stroke-miterlimit:10;\" d=\"M 59.039062 112.824219 L 51.839844 112.824219 \"/>\n",
       "<path style=\"fill:none;stroke-width:0.75;stroke-linecap:round;stroke-linejoin:round;stroke:rgb(0%,0%,0%);stroke-opacity:1;stroke-miterlimit:10;\" d=\"M 59.039062 62.160156 L 51.839844 62.160156 \"/>\n",
       "<g style=\"fill:rgb(0%,0%,0%);fill-opacity:1;\">\n",
       "  <use xlink:href=\"#glyph2-9\" x=\"41.538086\" y=\"420.300781\"/>\n",
       "</g>\n",
       "<g style=\"fill:rgb(0%,0%,0%);fill-opacity:1;\">\n",
       "  <use xlink:href=\"#glyph2-10\" x=\"41.538086\" y=\"376.636719\"/>\n",
       "  <use xlink:href=\"#glyph2-9\" x=\"41.538086\" y=\"369.964844\"/>\n",
       "  <use xlink:href=\"#glyph2-9\" x=\"41.538086\" y=\"363.292969\"/>\n",
       "</g>\n",
       "<g style=\"fill:rgb(0%,0%,0%);fill-opacity:1;\">\n",
       "  <use xlink:href=\"#glyph2-11\" x=\"41.538086\" y=\"328.972656\"/>\n",
       "  <use xlink:href=\"#glyph2-9\" x=\"41.538086\" y=\"322.300781\"/>\n",
       "  <use xlink:href=\"#glyph2-9\" x=\"41.538086\" y=\"315.628906\"/>\n",
       "  <use xlink:href=\"#glyph2-9\" x=\"41.538086\" y=\"308.957031\"/>\n",
       "</g>\n",
       "<g style=\"fill:rgb(0%,0%,0%);fill-opacity:1;\">\n",
       "  <use xlink:href=\"#glyph2-11\" x=\"41.538086\" y=\"278.3125\"/>\n",
       "  <use xlink:href=\"#glyph2-10\" x=\"41.538086\" y=\"271.640625\"/>\n",
       "  <use xlink:href=\"#glyph2-9\" x=\"41.538086\" y=\"264.96875\"/>\n",
       "  <use xlink:href=\"#glyph2-9\" x=\"41.538086\" y=\"258.296875\"/>\n",
       "</g>\n",
       "<g style=\"fill:rgb(0%,0%,0%);fill-opacity:1;\">\n",
       "  <use xlink:href=\"#glyph2-12\" x=\"41.538086\" y=\"227.648438\"/>\n",
       "  <use xlink:href=\"#glyph2-9\" x=\"41.538086\" y=\"220.976562\"/>\n",
       "  <use xlink:href=\"#glyph2-9\" x=\"41.538086\" y=\"214.304688\"/>\n",
       "  <use xlink:href=\"#glyph2-9\" x=\"41.538086\" y=\"207.632812\"/>\n",
       "</g>\n",
       "<g style=\"fill:rgb(0%,0%,0%);fill-opacity:1;\">\n",
       "  <use xlink:href=\"#glyph2-12\" x=\"41.538086\" y=\"176.984375\"/>\n",
       "  <use xlink:href=\"#glyph2-10\" x=\"41.538086\" y=\"170.3125\"/>\n",
       "  <use xlink:href=\"#glyph2-9\" x=\"41.538086\" y=\"163.640625\"/>\n",
       "  <use xlink:href=\"#glyph2-9\" x=\"41.538086\" y=\"156.96875\"/>\n",
       "</g>\n",
       "<g style=\"fill:rgb(0%,0%,0%);fill-opacity:1;\">\n",
       "  <use xlink:href=\"#glyph2-13\" x=\"41.538086\" y=\"126.324219\"/>\n",
       "  <use xlink:href=\"#glyph2-9\" x=\"41.538086\" y=\"119.652344\"/>\n",
       "  <use xlink:href=\"#glyph2-9\" x=\"41.538086\" y=\"112.980469\"/>\n",
       "  <use xlink:href=\"#glyph2-9\" x=\"41.538086\" y=\"106.308594\"/>\n",
       "</g>\n",
       "<g style=\"fill:rgb(0%,0%,0%);fill-opacity:1;\">\n",
       "  <use xlink:href=\"#glyph2-13\" x=\"41.538086\" y=\"75.660156\"/>\n",
       "  <use xlink:href=\"#glyph2-10\" x=\"41.538086\" y=\"68.988281\"/>\n",
       "  <use xlink:href=\"#glyph2-9\" x=\"41.538086\" y=\"62.316406\"/>\n",
       "  <use xlink:href=\"#glyph2-9\" x=\"41.538086\" y=\"55.644531\"/>\n",
       "</g>\n",
       "<path style=\"fill:none;stroke-width:0.75;stroke-linecap:round;stroke-linejoin:round;stroke:rgb(0%,0%,0%);stroke-opacity:1;stroke-miterlimit:10;\" d=\"M 74.398438 416.800781 L 101.828125 416.800781 L 101.828125 72.800781 L 74.398438 72.800781 Z M 74.398438 416.800781 \"/>\n",
       "<path style=\"fill:none;stroke-width:0.75;stroke-linecap:round;stroke-linejoin:round;stroke:rgb(0%,0%,0%);stroke-opacity:1;stroke-miterlimit:10;\" d=\"M 101.828125 416.800781 L 129.257812 416.800781 L 129.257812 299.160156 L 101.828125 299.160156 Z M 101.828125 416.800781 \"/>\n",
       "<path style=\"fill:none;stroke-width:0.75;stroke-linecap:round;stroke-linejoin:round;stroke:rgb(0%,0%,0%);stroke-opacity:1;stroke-miterlimit:10;\" d=\"M 129.257812 416.800781 L 156.6875 416.800781 L 156.6875 334.726562 L 129.257812 334.726562 Z M 129.257812 416.800781 \"/>\n",
       "<path style=\"fill:none;stroke-width:0.75;stroke-linecap:round;stroke-linejoin:round;stroke:rgb(0%,0%,0%);stroke-opacity:1;stroke-miterlimit:10;\" d=\"M 156.6875 416.800781 L 184.117188 416.800781 L 184.117188 362.289062 L 156.6875 362.289062 Z M 156.6875 416.800781 \"/>\n",
       "<path style=\"fill:none;stroke-width:0.75;stroke-linecap:round;stroke-linejoin:round;stroke:rgb(0%,0%,0%);stroke-opacity:1;stroke-miterlimit:10;\" d=\"M 184.113281 416.800781 L 211.542969 416.800781 L 211.542969 381.4375 L 184.113281 381.4375 Z M 184.113281 416.800781 \"/>\n",
       "<path style=\"fill:none;stroke-width:0.75;stroke-linecap:round;stroke-linejoin:round;stroke:rgb(0%,0%,0%);stroke-opacity:1;stroke-miterlimit:10;\" d=\"M 211.542969 416.800781 L 238.972656 416.800781 L 238.972656 393.597656 L 211.542969 393.597656 Z M 211.542969 416.800781 \"/>\n",
       "<path style=\"fill:none;stroke-width:0.75;stroke-linecap:round;stroke-linejoin:round;stroke:rgb(0%,0%,0%);stroke-opacity:1;stroke-miterlimit:10;\" d=\"M 238.972656 416.800781 L 266.402344 416.800781 L 266.402344 399.675781 L 238.972656 399.675781 Z M 238.972656 416.800781 \"/>\n",
       "<path style=\"fill:none;stroke-width:0.75;stroke-linecap:round;stroke-linejoin:round;stroke:rgb(0%,0%,0%);stroke-opacity:1;stroke-miterlimit:10;\" d=\"M 266.398438 416.800781 L 293.828125 416.800781 L 293.828125 408.289062 L 266.398438 408.289062 Z M 266.398438 416.800781 \"/>\n",
       "<path style=\"fill:none;stroke-width:0.75;stroke-linecap:round;stroke-linejoin:round;stroke:rgb(0%,0%,0%);stroke-opacity:1;stroke-miterlimit:10;\" d=\"M 293.828125 416.800781 L 321.257812 416.800781 L 321.257812 411.53125 L 293.828125 411.53125 Z M 293.828125 416.800781 \"/>\n",
       "<path style=\"fill:none;stroke-width:0.75;stroke-linecap:round;stroke-linejoin:round;stroke:rgb(0%,0%,0%);stroke-opacity:1;stroke-miterlimit:10;\" d=\"M 321.257812 416.800781 L 348.6875 416.800781 L 348.6875 415.28125 L 321.257812 415.28125 Z M 321.257812 416.800781 \"/>\n",
       "<path style=\"fill:none;stroke-width:0.75;stroke-linecap:round;stroke-linejoin:round;stroke:rgb(0%,0%,0%);stroke-opacity:1;stroke-miterlimit:10;\" d=\"M 348.6875 416.800781 L 376.117188 416.800781 L 376.117188 415.28125 L 348.6875 415.28125 Z M 348.6875 416.800781 \"/>\n",
       "<path style=\"fill:none;stroke-width:0.75;stroke-linecap:round;stroke-linejoin:round;stroke:rgb(0%,0%,0%);stroke-opacity:1;stroke-miterlimit:10;\" d=\"M 376.113281 416.800781 L 403.542969 416.800781 L 403.542969 415.078125 L 376.113281 415.078125 Z M 376.113281 416.800781 \"/>\n",
       "<path style=\"fill:none;stroke-width:0.75;stroke-linecap:round;stroke-linejoin:round;stroke:rgb(0%,0%,0%);stroke-opacity:1;stroke-miterlimit:10;\" d=\"M 403.542969 416.800781 L 430.972656 416.800781 Z M 403.542969 416.800781 \"/>\n",
       "<path style=\"fill:none;stroke-width:0.75;stroke-linecap:round;stroke-linejoin:round;stroke:rgb(0%,0%,0%);stroke-opacity:1;stroke-miterlimit:10;\" d=\"M 430.972656 416.800781 L 458.402344 416.800781 L 458.402344 416.699219 L 430.972656 416.699219 Z M 430.972656 416.800781 \"/>\n",
       "</g>\n",
       "</svg>\n"
      ],
      "text/plain": [
       "Plot with title “Distribution of Wait Times”"
      ]
     },
     "metadata": {
      "image/svg+xml": {
       "isolated": true
      }
     },
     "output_type": "display_data"
    },
    {
     "data": {
      "image/png": "[encoded data removed]",
      "image/svg+xml": [
       "<?xml version=\"1.0\" encoding=\"UTF-8\"?>\n",
       "<svg xmlns=\"http://www.w3.org/2000/svg\" xmlns:xlink=\"http://www.w3.org/1999/xlink\" width=\"504pt\" height=\"504pt\" viewBox=\"0 0 504 504\" version=\"1.1\">\n",
       "<defs>\n",
       "<g>\n",
       "<symbol overflow=\"visible\" id=\"glyph0-0\">\n",
       "<path style=\"stroke:none;\" d=\"\"/>\n",
       "</symbol>\n",
       "<symbol overflow=\"visible\" id=\"glyph0-1\">\n",
       "<path style=\"stroke:none;\" d=\"M 9.875 -5.390625 C 9.875 -7 9.40625 -8.53125 8.578125 -9.515625 C 7.859375 -10.375 6.828125 -10.78125 5.21875 -10.78125 L 1.015625 -10.78125 L 1.015625 0 L 5.21875 0 C 6.8125 0 7.84375 -0.40625 8.578125 -1.25 C 9.390625 -2.234375 9.875 -3.765625 9.875 -5.390625 Z M 7.5625 -5.375 C 7.5625 -3.0625 6.84375 -2.078125 5.21875 -2.078125 L 3.34375 -2.078125 L 3.34375 -8.703125 L 5.21875 -8.703125 C 6.84375 -8.703125 7.5625 -7.6875 7.5625 -5.375 Z M 7.5625 -5.375 \"/>\n",
       "</symbol>\n",
       "<symbol overflow=\"visible\" id=\"glyph0-2\">\n",
       "<path style=\"stroke:none;\" d=\"M 3.046875 -0.125 L 3.046875 -8.046875 L 0.875 -8.046875 L 0.875 0 L 3.046875 0 Z M 3.078125 -8.84375 L 3.078125 -11 L 0.90625 -11 L 0.90625 -8.71875 L 3.078125 -8.71875 Z M 3.078125 -8.84375 \"/>\n",
       "</symbol>\n",
       "<symbol overflow=\"visible\" id=\"glyph0-3\">\n",
       "<path style=\"stroke:none;\" d=\"M 7.5625 -2.4375 L 7.5625 -2.53125 C 7.5625 -3.421875 6.984375 -4.234375 5.96875 -4.53125 L 3.421875 -5.265625 C 2.859375 -5.4375 2.78125 -5.421875 2.78125 -5.734375 C 2.78125 -6.171875 3.171875 -6.328125 3.875 -6.328125 C 4.84375 -6.328125 5.234375 -6.109375 5.25 -5.265625 L 7.34375 -5.265625 C 7.3125 -7.046875 5.984375 -8.1875 3.890625 -8.1875 C 1.921875 -8.1875 0.609375 -7.046875 0.609375 -5.453125 C 0.609375 -4.5 0.953125 -3.84375 2.390625 -3.40625 L 4.796875 -2.65625 C 5.296875 -2.5 5.390625 -2.46875 5.390625 -2.25 C 5.390625 -1.765625 4.90625 -1.734375 3.96875 -1.734375 C 3.046875 -1.734375 2.640625 -1.75 2.4375 -2.734375 L 0.328125 -2.734375 C 0.390625 -0.890625 1.734375 0.125 4.09375 0.125 C 6.28125 0.125 7.5625 -0.859375 7.5625 -2.4375 Z M 7.5625 -2.4375 \"/>\n",
       "</symbol>\n",
       "<symbol overflow=\"visible\" id=\"glyph0-4\">\n",
       "<path style=\"stroke:none;\" d=\"M 4.40625 -0.125 L 4.40625 -1.703125 C 4.140625 -1.65625 4.015625 -1.640625 3.875 -1.640625 C 3.34375 -1.640625 3.28125 -1.65625 3.28125 -2.34375 L 3.28125 -6.28125 L 4.40625 -6.28125 L 4.40625 -7.890625 L 3.28125 -7.890625 L 3.28125 -9.984375 L 1.109375 -9.984375 L 1.109375 -7.890625 L 0.109375 -7.890625 L 0.109375 -6.28125 L 1.109375 -6.28125 L 1.109375 -1.796875 C 1.109375 -0.578125 1.84375 0.0625 3.171875 0.0625 C 3.609375 0.0625 3.96875 0.015625 4.40625 0 Z M 4.40625 -0.125 \"/>\n",
       "</symbol>\n",
       "<symbol overflow=\"visible\" id=\"glyph0-5\">\n",
       "<path style=\"stroke:none;\" d=\"M 5.40625 -5.984375 L 5.40625 -8.15625 C 5.21875 -8.1875 5.140625 -8.1875 5.078125 -8.1875 C 4.15625 -8.1875 3.265625 -7.375 2.84375 -6.328125 L 3 -6.375 L 3 -8.046875 L 0.828125 -8.046875 L 0.828125 0 L 3 0 L 3 -4.265625 C 3 -5.453125 3.515625 -5.90625 4.703125 -5.90625 C 4.90625 -5.90625 5.0625 -5.890625 5.40625 -5.828125 Z M 5.40625 -5.984375 \"/>\n",
       "</symbol>\n",
       "<symbol overflow=\"visible\" id=\"glyph0-6\">\n",
       "<path style=\"stroke:none;\" d=\"M 8.359375 -3.921875 C 8.359375 -6.125 7.0625 -8.1875 5.015625 -8.1875 C 4.046875 -8.1875 3.296875 -7.78125 2.9375 -7.21875 L 2.9375 -10.78125 L 0.765625 -10.78125 L 0.765625 0 L 2.9375 0 L 2.9375 -0.75 C 3.296875 -0.265625 4.03125 0.125 5.015625 0.125 C 6.875 0.125 8.359375 -1.5625 8.359375 -3.921875 Z M 6.1875 -4 C 6.1875 -2.59375 5.5625 -1.828125 4.5625 -1.828125 C 3.546875 -1.828125 2.9375 -2.5625 2.9375 -4.046875 C 2.9375 -5.453125 3.5625 -6.21875 4.5625 -6.21875 C 5.5625 -6.21875 6.1875 -5.453125 6.1875 -4 Z M 6.1875 -4 \"/>\n",
       "</symbol>\n",
       "<symbol overflow=\"visible\" id=\"glyph0-7\">\n",
       "<path style=\"stroke:none;\" d=\"M 7.859375 -0.125 L 7.859375 -8.046875 L 5.6875 -8.046875 L 5.6875 -3.234375 C 5.6875 -2.3125 5.125 -1.859375 4.15625 -1.859375 C 3.28125 -1.859375 2.921875 -2.171875 2.921875 -3.109375 L 2.921875 -8.046875 L 0.75 -8.046875 L 0.75 -2.6875 C 0.75 -0.984375 1.78125 0.125 3.4375 0.125 C 4.5 0.125 5.25 -0.28125 5.6875 -0.875 L 5.6875 0 L 7.859375 0 Z M 7.859375 -0.125 \"/>\n",
       "</symbol>\n",
       "<symbol overflow=\"visible\" id=\"glyph0-8\">\n",
       "<path style=\"stroke:none;\" d=\"M 8.265625 -3.96875 C 8.265625 -6.59375 6.765625 -8.1875 4.34375 -8.1875 C 1.953125 -8.1875 0.421875 -6.5625 0.421875 -4.015625 C 0.421875 -1.453125 1.953125 0.125 4.34375 0.125 C 6.71875 0.125 8.265625 -1.46875 8.265625 -3.96875 Z M 6.09375 -3.984375 C 6.09375 -2.53125 5.4375 -1.765625 4.34375 -1.765625 C 3.25 -1.765625 2.59375 -2.53125 2.59375 -4.015625 C 2.59375 -5.5 3.25 -6.28125 4.34375 -6.28125 C 5.453125 -6.28125 6.09375 -5.515625 6.09375 -3.984375 Z M 6.09375 -3.984375 \"/>\n",
       "</symbol>\n",
       "<symbol overflow=\"visible\" id=\"glyph0-9\">\n",
       "<path style=\"stroke:none;\" d=\"M 7.9375 -0.125 L 7.9375 -5.34375 C 7.9375 -7.0625 6.921875 -8.1875 5.265625 -8.1875 C 4.203125 -8.1875 3.4375 -7.75 3 -7.09375 L 3 -8.046875 L 0.828125 -8.046875 L 0.828125 0 L 3 0 L 3 -4.796875 C 3 -5.71875 3.578125 -6.1875 4.546875 -6.1875 C 5.421875 -6.1875 5.765625 -5.84375 5.765625 -4.921875 L 5.765625 0 L 7.9375 0 Z M 7.9375 -0.125 \"/>\n",
       "</symbol>\n",
       "<symbol overflow=\"visible\" id=\"glyph0-10\">\n",
       "<path style=\"stroke:none;\" d=\"\"/>\n",
       "</symbol>\n",
       "<symbol overflow=\"visible\" id=\"glyph0-11\">\n",
       "<path style=\"stroke:none;\" d=\"M 4.578125 -6.40625 L 4.578125 -7.890625 L 3.390625 -7.890625 L 3.390625 -8.515625 C 3.390625 -8.921875 3.484375 -8.984375 3.859375 -8.984375 C 4.03125 -8.984375 4.265625 -8.96875 4.515625 -8.9375 L 4.515625 -10.734375 C 4.0625 -10.765625 3.5625 -10.78125 3.28125 -10.78125 C 1.9375 -10.78125 1.203125 -10 1.203125 -8.6875 L 1.203125 -7.890625 L 0.109375 -7.890625 L 0.109375 -6.28125 L 1.203125 -6.28125 L 1.203125 0 L 3.390625 0 L 3.390625 -6.28125 L 4.578125 -6.28125 Z M 4.578125 -6.40625 \"/>\n",
       "</symbol>\n",
       "<symbol overflow=\"visible\" id=\"glyph0-12\">\n",
       "<path style=\"stroke:none;\" d=\"M 3.046875 -0.125 L 3.046875 -10.78125 L 0.875 -10.78125 L 0.875 0 L 3.046875 0 Z M 3.046875 -0.125 \"/>\n",
       "</symbol>\n",
       "<symbol overflow=\"visible\" id=\"glyph0-13\">\n",
       "<path style=\"stroke:none;\" d=\"M 7.859375 0.125 L 7.859375 -8.046875 L 5.796875 -8.046875 L 5.796875 -7.015625 C 5.3125 -7.734375 4.609375 -8.1875 3.71875 -8.1875 C 1.875 -8.1875 0.40625 -6.34375 0.40625 -3.9375 C 0.40625 -1.515625 1.75 0.125 3.671875 0.125 C 4.578125 0.125 5.171875 -0.171875 5.796875 -0.796875 L 5.796875 0.125 C 5.796875 1.0625 5.171875 1.5625 4.15625 1.5625 C 3.40625 1.5625 2.96875 1.390625 2.765625 0.65625 L 0.5625 0.65625 C 0.59375 2.078125 1.953125 3.140625 4.09375 3.140625 C 6.4375 3.140625 7.859375 1.953125 7.859375 0.125 Z M 5.8125 -3.96875 C 5.8125 -2.546875 5.171875 -1.828125 4.125 -1.828125 C 3.171875 -1.828125 2.578125 -2.546875 2.578125 -3.96875 C 2.578125 -5.4375 3.171875 -6.21875 4.15625 -6.21875 C 5.15625 -6.21875 5.8125 -5.40625 5.8125 -3.96875 Z M 5.8125 -3.96875 \"/>\n",
       "</symbol>\n",
       "<symbol overflow=\"visible\" id=\"glyph0-14\">\n",
       "<path style=\"stroke:none;\" d=\"M 13.421875 -10.78125 L 11.09375 -10.78125 L 9.484375 -2.6875 L 9.640625 -2.75 L 7.90625 -10.78125 L 5.6875 -10.78125 L 4.015625 -2.703125 L 4.171875 -2.765625 L 2.515625 -10.78125 L 0.0625 -10.78125 L 3.109375 0 L 5.140625 0 L 6.890625 -8.328125 L 6.734375 -8.328125 L 8.515625 0 L 10.546875 0 L 13.546875 -10.78125 Z M 13.421875 -10.78125 \"/>\n",
       "</symbol>\n",
       "<symbol overflow=\"visible\" id=\"glyph0-15\">\n",
       "<path style=\"stroke:none;\" d=\"M 7.625 -0.125 L 7.625 -0.46875 C 7.234375 -0.8125 7.15625 -0.921875 7.15625 -1.328125 L 7.15625 -5.640625 C 7.15625 -7.234375 6 -8.1875 3.90625 -8.1875 C 1.796875 -8.1875 0.625 -7.09375 0.484375 -5.21875 L 2.578125 -5.21875 C 2.6875 -6.15625 2.953125 -6.28125 3.953125 -6.28125 C 4.71875 -6.28125 5.03125 -6.15625 5.03125 -5.640625 C 5.03125 -4.8125 4.515625 -5.046875 3.5 -4.875 L 2.6875 -4.71875 C 1.15625 -4.453125 0.3125 -3.640625 0.3125 -2.234375 C 0.3125 -0.71875 1.46875 0.125 2.765625 0.125 C 3.625 0.125 4.46875 -0.28125 5.046875 -0.875 C 5.046875 -0.703125 5.109375 -0.265625 5.328125 0 L 7.625 0 Z M 5.03125 -3.453125 C 5.03125 -2.296875 4.53125 -1.765625 3.515625 -1.765625 C 2.84375 -1.765625 2.5 -1.890625 2.5 -2.46875 C 2.5 -3.046875 2.734375 -3.140625 3.578125 -3.296875 L 4.265625 -3.421875 C 4.796875 -3.53125 4.921875 -3.59375 5.03125 -3.640625 Z M 5.03125 -3.453125 \"/>\n",
       "</symbol>\n",
       "<symbol overflow=\"visible\" id=\"glyph0-16\">\n",
       "<path style=\"stroke:none;\" d=\"M 8.6875 -8.828125 L 8.6875 -10.78125 L 0.109375 -10.78125 L 0.109375 -8.703125 L 3.296875 -8.703125 L 3.296875 0 L 5.625 0 L 5.625 -8.703125 L 8.6875 -8.703125 Z M 8.6875 -8.828125 \"/>\n",
       "</symbol>\n",
       "<symbol overflow=\"visible\" id=\"glyph0-17\">\n",
       "<path style=\"stroke:none;\" d=\"M 11.9375 -0.125 L 11.9375 -5.640625 C 11.9375 -7.140625 10.953125 -8.1875 9.390625 -8.1875 C 8.40625 -8.1875 7.671875 -7.796875 7.109375 -7.078125 C 6.78125 -7.71875 5.96875 -8.1875 5 -8.1875 C 4.109375 -8.1875 3.46875 -7.84375 2.9375 -7.203125 L 2.9375 -8.046875 L 0.78125 -8.046875 L 0.78125 0 L 2.953125 0 L 2.953125 -4.796875 C 2.953125 -5.75 3.40625 -6.1875 4.265625 -6.1875 C 4.9375 -6.1875 5.265625 -5.9375 5.265625 -5.3125 L 5.265625 0 L 7.453125 0 L 7.453125 -4.796875 C 7.453125 -5.75 7.890625 -6.1875 8.765625 -6.1875 C 9.4375 -6.1875 9.765625 -5.9375 9.765625 -5.3125 L 9.765625 0 L 11.9375 0 Z M 11.9375 -0.125 \"/>\n",
       "</symbol>\n",
       "<symbol overflow=\"visible\" id=\"glyph0-18\">\n",
       "<path style=\"stroke:none;\" d=\"M 7.640625 -3.734375 C 7.640625 -6.40625 6.203125 -8.1875 3.921875 -8.1875 C 1.6875 -8.1875 0.234375 -6.53125 0.234375 -3.921875 C 0.234375 -1.421875 1.671875 0.125 3.875 0.125 C 5.625 0.125 7.109375 -0.796875 7.59375 -2.46875 L 5.453125 -2.46875 C 5.234375 -1.703125 4.6875 -1.6875 3.953125 -1.6875 C 3 -1.6875 2.46875 -1.96875 2.40625 -3.359375 L 7.609375 -3.359375 Z M 5.453125 -4.96875 L 2.453125 -4.96875 C 2.5625 -5.90625 3 -6.375 3.890625 -6.375 C 4.75 -6.375 5.265625 -5.9375 5.359375 -4.96875 Z M 5.453125 -4.96875 \"/>\n",
       "</symbol>\n",
       "<symbol overflow=\"visible\" id=\"glyph1-0\">\n",
       "<path style=\"stroke:none;\" d=\"\"/>\n",
       "</symbol>\n",
       "<symbol overflow=\"visible\" id=\"glyph1-1\">\n",
       "<path style=\"stroke:none;\" d=\"M 3.1875 -0.125 L 3.1875 -1.15625 C 2.921875 -1.0625 2.765625 -1.0625 2.5625 -1.0625 C 2.140625 -1.0625 2.140625 -1.046875 2.140625 -1.484375 L 2.140625 -5.46875 L 3.1875 -5.46875 L 3.1875 -6.546875 L 2.140625 -6.546875 L 2.140625 -8.28125 L 0.875 -8.28125 L 0.875 -6.546875 L 0.03125 -6.546875 L 0.03125 -5.46875 L 0.875 -5.46875 L 0.875 -1.046875 C 0.875 -0.40625 1.453125 0.078125 2.234375 0.078125 C 2.46875 0.078125 2.71875 0.0625 3.1875 -0.03125 Z M 3.1875 -0.125 \"/>\n",
       "</symbol>\n",
       "<symbol overflow=\"visible\" id=\"glyph1-2\">\n",
       "<path style=\"stroke:none;\" d=\"M 3.546875 -3.015625 L 3.546875 -4.015625 L 0.40625 -4.015625 L 0.40625 -2.875 L 3.546875 -2.875 Z M 3.546875 -3.015625 \"/>\n",
       "</symbol>\n",
       "<symbol overflow=\"visible\" id=\"glyph1-3\">\n",
       "<path style=\"stroke:none;\" d=\"M 6.265625 -6.140625 C 6.265625 -7.578125 5.015625 -8.765625 3.40625 -8.765625 C 1.671875 -8.765625 0.515625 -7.75 0.453125 -5.5625 L 1.78125 -5.5625 C 1.875 -7.109375 2.328125 -7.578125 3.375 -7.578125 C 4.328125 -7.578125 4.90625 -7.03125 4.90625 -6.125 C 4.90625 -5.453125 4.546875 -4.96875 3.796875 -4.53125 L 2.6875 -3.90625 C 0.90625 -2.90625 0.359375 -2 0.25 0 L 6.203125 0 L 6.203125 -1.3125 L 1.75 -1.3125 C 1.84375 -1.875 2.1875 -2.21875 3.234375 -2.828125 L 4.421875 -3.484375 C 5.609375 -4.109375 6.265625 -5.09375 6.265625 -6.140625 Z M 6.265625 -6.140625 \"/>\n",
       "</symbol>\n",
       "<symbol overflow=\"visible\" id=\"glyph1-4\">\n",
       "<path style=\"stroke:none;\" d=\"M 6.21875 -4.21875 C 6.21875 -7.171875 5.140625 -8.765625 3.296875 -8.765625 C 1.46875 -8.765625 0.375 -7.15625 0.375 -4.296875 C 0.375 -1.421875 1.46875 0.1875 3.296875 0.1875 C 5.09375 0.1875 6.21875 -1.421875 6.21875 -4.21875 Z M 4.859375 -4.3125 C 4.859375 -1.90625 4.453125 -0.953125 3.28125 -0.953125 C 2.15625 -0.953125 1.734375 -1.953125 1.734375 -4.28125 C 1.734375 -6.609375 2.15625 -7.578125 3.296875 -7.578125 C 4.4375 -7.578125 4.859375 -6.59375 4.859375 -4.3125 Z M 4.859375 -4.3125 \"/>\n",
       "</symbol>\n",
       "<symbol overflow=\"visible\" id=\"glyph1-5\">\n",
       "<path style=\"stroke:none;\" d=\"M 6.375 -2.171875 L 6.375 -3.25 L 5.109375 -3.25 L 5.109375 -8.765625 L 4.125 -8.765625 L 0.1875 -3.328125 L 0.1875 -2.046875 L 3.78125 -2.046875 L 3.78125 0 L 5.109375 0 L 5.109375 -2.046875 L 6.375 -2.046875 Z M 3.921875 -3.25 L 1.515625 -3.25 L 4.015625 -6.75 L 3.78125 -6.84375 L 3.78125 -3.25 Z M 3.921875 -3.25 \"/>\n",
       "</symbol>\n",
       "<symbol overflow=\"visible\" id=\"glyph2-0\">\n",
       "<path style=\"stroke:none;\" d=\"\"/>\n",
       "</symbol>\n",
       "<symbol overflow=\"visible\" id=\"glyph2-1\">\n",
       "<path style=\"stroke:none;\" d=\"M -7.890625 -7.078125 L -9.015625 -7.078125 L -9.015625 -0.9375 L 0 -0.9375 L 0 -2.328125 L -3.984375 -2.328125 L -3.984375 -6.5 L -5.234375 -6.5 L -5.234375 -2.328125 L -7.765625 -2.328125 L -7.765625 -7.078125 Z M -7.890625 -7.078125 \"/>\n",
       "</symbol>\n",
       "<symbol overflow=\"visible\" id=\"glyph2-2\">\n",
       "<path style=\"stroke:none;\" d=\"M -5.546875 -3.984375 L -6.6875 -3.984375 C -6.71875 -3.6875 -6.734375 -3.59375 -6.734375 -3.46875 C -6.734375 -2.8125 -6.3125 -2.21875 -5.375 -1.640625 L -5.28125 -1.890625 L -6.546875 -1.890625 L -6.546875 -0.703125 L 0 -0.703125 L 0 -1.96875 L -3.390625 -1.96875 C -4.8125 -1.96875 -5.390625 -2.296875 -5.40625 -3.984375 Z M -5.546875 -3.984375 \"/>\n",
       "</symbol>\n",
       "<symbol overflow=\"visible\" id=\"glyph2-3\">\n",
       "<path style=\"stroke:none;\" d=\"M -2.984375 -6.28125 C -3.90625 -6.28125 -4.46875 -6.21875 -4.9375 -6.03125 C -5.96875 -5.625 -6.734375 -4.53125 -6.734375 -3.359375 C -6.734375 -1.609375 -5.296875 -0.34375 -3.234375 -0.34375 C -1.171875 -0.34375 0.1875 -1.578125 0.1875 -3.34375 C 0.1875 -4.78125 -0.765625 -5.90625 -2.171875 -6.1875 L -2.171875 -4.921875 C -1.21875 -4.59375 -1.015625 -4.171875 -1.015625 -3.375 C -1.015625 -2.328125 -1.546875 -1.6875 -2.859375 -1.65625 L -2.859375 -6.28125 Z M -3.78125 -5.1875 C -3.78125 -5.1875 -3.921875 -4.984375 -3.9375 -4.984375 L -3.9375 -1.6875 C -4.921875 -1.765625 -5.546875 -2.34375 -5.546875 -3.34375 C -5.546875 -4.328125 -4.859375 -4.9375 -3.875 -4.9375 Z M -3.78125 -5.1875 \"/>\n",
       "</symbol>\n",
       "<symbol overflow=\"visible\" id=\"glyph2-4\">\n",
       "<path style=\"stroke:none;\" d=\"M 2.484375 -6.078125 L -6.546875 -6.078125 L -6.546875 -4.90625 L -5.578125 -4.90625 L -5.671875 -5.140625 C -6.34375 -4.6875 -6.734375 -3.875 -6.734375 -3.046875 C -6.734375 -1.390625 -5.296875 -0.171875 -3.203125 -0.171875 C -1.15625 -0.171875 0.1875 -1.34375 0.1875 -3 C 0.1875 -3.875 -0.171875 -4.578125 -0.859375 -5.046875 L -0.953125 -4.796875 L 2.609375 -4.796875 L 2.609375 -6.078125 Z M -3.234375 -4.796875 C -1.796875 -4.796875 -1.015625 -4.25 -1.015625 -3.1875 C -1.015625 -2.09375 -1.8125 -1.484375 -3.28125 -1.484375 C -4.734375 -1.484375 -5.53125 -2.09375 -5.53125 -3.1875 C -5.53125 -4.265625 -4.703125 -4.796875 -3.234375 -4.796875 Z M -3.234375 -4.796875 \"/>\n",
       "</symbol>\n",
       "<symbol overflow=\"visible\" id=\"glyph2-5\">\n",
       "<path style=\"stroke:none;\" d=\"M -0.125 -5.921875 L -6.546875 -5.921875 L -6.546875 -4.640625 L -2.953125 -4.640625 C -1.671875 -4.640625 -0.953125 -4.109375 -0.953125 -3.078125 C -0.953125 -2.28125 -1.3125 -1.90625 -2.0625 -1.90625 L -6.546875 -1.90625 L -6.546875 -0.640625 L -1.671875 -0.640625 C -0.625 -0.640625 0.1875 -1.5625 0.1875 -2.78125 C 0.1875 -3.703125 -0.1875 -4.390625 -1.015625 -4.984375 L -1.109375 -4.734375 L 0 -4.734375 L 0 -5.921875 Z M -0.125 -5.921875 \"/>\n",
       "</symbol>\n",
       "<symbol overflow=\"visible\" id=\"glyph2-6\">\n",
       "<path style=\"stroke:none;\" d=\"M -0.125 -5.96875 L -4.890625 -5.96875 C -5.921875 -5.96875 -6.734375 -5.0625 -6.734375 -3.859375 C -6.734375 -2.921875 -6.34375 -2.203125 -5.453125 -1.65625 L -5.359375 -1.890625 L -6.546875 -1.890625 L -6.546875 -0.703125 L 0 -0.703125 L 0 -1.96875 L -3.59375 -1.96875 C -4.890625 -1.96875 -5.59375 -2.53125 -5.59375 -3.546875 C -5.59375 -4.34375 -5.25 -4.703125 -4.484375 -4.703125 L 0 -4.703125 L 0 -5.96875 Z M -0.125 -5.96875 \"/>\n",
       "</symbol>\n",
       "<symbol overflow=\"visible\" id=\"glyph2-7\">\n",
       "<path style=\"stroke:none;\" d=\"M -2.421875 -5.71875 L -2.421875 -4.59375 C -1.28125 -4.40625 -1.015625 -4.03125 -1.015625 -3.1875 C -1.015625 -2.078125 -1.734375 -1.546875 -3.21875 -1.546875 C -4.78125 -1.546875 -5.546875 -2.0625 -5.546875 -3.15625 C -5.546875 -4 -5.1875 -4.375 -4.171875 -4.53125 L -4.171875 -5.796875 C -5.84375 -5.65625 -6.734375 -4.578125 -6.734375 -3.171875 C -6.734375 -1.46875 -5.296875 -0.234375 -3.21875 -0.234375 C -1.1875 -0.234375 0.1875 -1.453125 0.1875 -3.15625 C 0.1875 -4.65625 -0.859375 -5.734375 -2.421875 -5.875 Z M -2.421875 -5.71875 \"/>\n",
       "</symbol>\n",
       "<symbol overflow=\"visible\" id=\"glyph2-8\">\n",
       "<path style=\"stroke:none;\" d=\"M -6.546875 -5.734375 L -6.546875 -4.5625 L -1.53125 -2.765625 L -1.53125 -3.046875 L -6.546875 -1.390625 L -6.546875 -0.046875 L -0.109375 -2.21875 L 0.890625 -1.84375 C 1.328125 -1.671875 1.375 -1.609375 1.375 -1.171875 C 1.375 -1.03125 1.34375 -0.859375 1.265625 -0.5 L 2.40625 -0.5 C 2.53125 -0.75 2.609375 -1.0625 2.609375 -1.3125 C 2.609375 -2.03125 2.09375 -2.734375 1.1875 -3.078125 L -6.546875 -5.921875 Z M -6.546875 -5.734375 \"/>\n",
       "</symbol>\n",
       "<symbol overflow=\"visible\" id=\"glyph2-9\">\n",
       "<path style=\"stroke:none;\" d=\"M -4.21875 -6.21875 C -7.171875 -6.21875 -8.765625 -5.140625 -8.765625 -3.296875 C -8.765625 -1.46875 -7.15625 -0.375 -4.296875 -0.375 C -1.421875 -0.375 0.1875 -1.46875 0.1875 -3.296875 C 0.1875 -5.09375 -1.421875 -6.21875 -4.21875 -6.21875 Z M -4.3125 -4.859375 C -1.90625 -4.859375 -0.953125 -4.453125 -0.953125 -3.28125 C -0.953125 -2.15625 -1.953125 -1.734375 -4.28125 -1.734375 C -6.609375 -1.734375 -7.578125 -2.15625 -7.578125 -3.296875 C -7.578125 -4.4375 -6.59375 -4.859375 -4.3125 -4.859375 Z M -4.3125 -4.859375 \"/>\n",
       "</symbol>\n",
       "<symbol overflow=\"visible\" id=\"glyph2-10\">\n",
       "<path style=\"stroke:none;\" d=\"M -6.140625 -6.265625 C -7.578125 -6.265625 -8.765625 -5.015625 -8.765625 -3.40625 C -8.765625 -1.671875 -7.75 -0.515625 -5.5625 -0.453125 L -5.5625 -1.78125 C -7.109375 -1.875 -7.578125 -2.328125 -7.578125 -3.375 C -7.578125 -4.328125 -7.03125 -4.90625 -6.125 -4.90625 C -5.453125 -4.90625 -4.96875 -4.546875 -4.53125 -3.796875 L -3.90625 -2.6875 C -2.90625 -0.90625 -2 -0.359375 0 -0.25 L 0 -6.203125 L -1.3125 -6.203125 L -1.3125 -1.75 C -1.875 -1.84375 -2.21875 -2.1875 -2.828125 -3.234375 L -3.484375 -4.421875 C -4.109375 -5.609375 -5.09375 -6.265625 -6.140625 -6.265625 Z M -6.140625 -6.265625 \"/>\n",
       "</symbol>\n",
       "<symbol overflow=\"visible\" id=\"glyph2-11\">\n",
       "<path style=\"stroke:none;\" d=\"M -2.171875 -6.375 L -3.25 -6.375 L -3.25 -5.109375 L -8.765625 -5.109375 L -8.765625 -4.125 L -3.328125 -0.1875 L -2.046875 -0.1875 L -2.046875 -3.78125 L 0 -3.78125 L 0 -5.109375 L -2.046875 -5.109375 L -2.046875 -6.375 Z M -3.25 -3.921875 L -3.25 -1.515625 L -6.75 -4.015625 L -6.84375 -3.78125 L -3.25 -3.78125 Z M -3.25 -3.921875 \"/>\n",
       "</symbol>\n",
       "<symbol overflow=\"visible\" id=\"glyph2-12\">\n",
       "<path style=\"stroke:none;\" d=\"M -2.765625 -6.28125 C -4.359375 -6.28125 -5.5625 -5.078125 -5.5625 -3.546875 C -5.5625 -2.71875 -5.203125 -1.9375 -4.578125 -1.484375 L -4.46875 -1.734375 C -6.546875 -1.734375 -7.578125 -2.28125 -7.578125 -3.484375 C -7.578125 -4.234375 -7.234375 -4.609375 -6.28125 -4.796875 L -6.28125 -6.125 C -7.8125 -5.90625 -8.765625 -4.859375 -8.765625 -3.5625 C -8.765625 -1.578125 -6.96875 -0.375 -4.015625 -0.375 C -1.359375 -0.375 0.1875 -1.421875 0.1875 -3.375 C 0.1875 -4.984375 -1.109375 -6.28125 -2.765625 -6.28125 Z M -2.6875 -4.9375 C -1.625 -4.9375 -1.015625 -4.359375 -1.015625 -3.390625 C -1.015625 -2.40625 -1.65625 -1.78125 -2.75 -1.78125 C -3.796875 -1.78125 -4.359375 -2.375 -4.359375 -3.421875 C -4.359375 -4.4375 -3.828125 -4.9375 -2.6875 -4.9375 Z M -2.6875 -4.9375 \"/>\n",
       "</symbol>\n",
       "<symbol overflow=\"visible\" id=\"glyph2-13\">\n",
       "<path style=\"stroke:none;\" d=\"M -2.53125 -6.28125 C -3.484375 -6.28125 -4.265625 -5.671875 -4.625 -4.953125 C -5.046875 -5.65625 -5.5625 -5.984375 -6.375 -5.984375 C -7.703125 -5.984375 -8.765625 -4.8125 -8.765625 -3.296875 C -8.765625 -1.796875 -7.703125 -0.59375 -6.375 -0.59375 C -5.578125 -0.59375 -5.046875 -0.921875 -4.625 -1.625 C -4.265625 -0.921875 -3.484375 -0.296875 -2.546875 -0.296875 C -0.984375 -0.296875 0.1875 -1.625 0.1875 -3.296875 C 0.1875 -4.984375 -0.984375 -6.28125 -2.53125 -6.28125 Z M -6.34375 -4.625 C -5.5625 -4.625 -5.15625 -4.1875 -5.15625 -3.296875 C -5.15625 -2.40625 -5.5625 -1.953125 -6.359375 -1.953125 C -7.171875 -1.953125 -7.578125 -2.40625 -7.578125 -3.296875 C -7.578125 -4.203125 -7.171875 -4.625 -6.34375 -4.625 Z M -2.515625 -4.9375 C -1.515625 -4.9375 -1.015625 -4.359375 -1.015625 -3.28125 C -1.015625 -2.25 -1.53125 -1.65625 -2.515625 -1.65625 C -3.515625 -1.65625 -4.015625 -2.25 -4.015625 -3.296875 C -4.015625 -4.359375 -3.515625 -4.9375 -2.515625 -4.9375 Z M -2.515625 -4.9375 \"/>\n",
       "</symbol>\n",
       "<symbol overflow=\"visible\" id=\"glyph2-14\">\n",
       "<path style=\"stroke:none;\" d=\"M -0.125 -4.296875 L -8.765625 -4.296875 L -8.765625 -3.359375 C -7.328125 -2.953125 -7.28125 -2.859375 -7.0625 -1.078125 L -6.0625 -1.078125 L -6.0625 -2.96875 L 0 -2.96875 L 0 -4.296875 Z M -0.125 -4.296875 \"/>\n",
       "</symbol>\n",
       "</g>\n",
       "</defs>\n",
       "<g id=\"surface265\">\n",
       "<rect x=\"0\" y=\"0\" width=\"504\" height=\"504\" style=\"fill:rgb(100%,100%,100%);fill-opacity:1;stroke:none;\"/>\n",
       "<g style=\"fill:rgb(0%,0%,0%);fill-opacity:1;\">\n",
       "  <use xlink:href=\"#glyph0-1\" x=\"164.398438\" y=\"34.21875\"/>\n",
       "  <use xlink:href=\"#glyph0-2\" x=\"174.799805\" y=\"34.21875\"/>\n",
       "  <use xlink:href=\"#glyph0-3\" x=\"178.804688\" y=\"34.21875\"/>\n",
       "  <use xlink:href=\"#glyph0-4\" x=\"186.814453\" y=\"34.21875\"/>\n",
       "  <use xlink:href=\"#glyph0-5\" x=\"191.611328\" y=\"34.21875\"/>\n",
       "  <use xlink:href=\"#glyph0-2\" x=\"197.21582\" y=\"34.21875\"/>\n",
       "  <use xlink:href=\"#glyph0-6\" x=\"201.220703\" y=\"34.21875\"/>\n",
       "  <use xlink:href=\"#glyph0-7\" x=\"210.022461\" y=\"34.21875\"/>\n",
       "  <use xlink:href=\"#glyph0-4\" x=\"218.824219\" y=\"34.21875\"/>\n",
       "  <use xlink:href=\"#glyph0-2\" x=\"223.621094\" y=\"34.21875\"/>\n",
       "  <use xlink:href=\"#glyph0-8\" x=\"227.625977\" y=\"34.21875\"/>\n",
       "  <use xlink:href=\"#glyph0-9\" x=\"236.427734\" y=\"34.21875\"/>\n",
       "  <use xlink:href=\"#glyph0-10\" x=\"245.229492\" y=\"34.21875\"/>\n",
       "  <use xlink:href=\"#glyph0-8\" x=\"249.234375\" y=\"34.21875\"/>\n",
       "  <use xlink:href=\"#glyph0-11\" x=\"258.036133\" y=\"34.21875\"/>\n",
       "  <use xlink:href=\"#glyph0-10\" x=\"262.833008\" y=\"34.21875\"/>\n",
       "  <use xlink:href=\"#glyph0-12\" x=\"266.837891\" y=\"34.21875\"/>\n",
       "  <use xlink:href=\"#glyph0-8\" x=\"270.842773\" y=\"34.21875\"/>\n",
       "  <use xlink:href=\"#glyph0-13\" x=\"279.644531\" y=\"34.21875\"/>\n",
       "  <use xlink:href=\"#glyph0-10\" x=\"288.446289\" y=\"34.21875\"/>\n",
       "  <use xlink:href=\"#glyph0-14\" x=\"292.451172\" y=\"34.21875\"/>\n",
       "  <use xlink:href=\"#glyph0-15\" x=\"305.619141\" y=\"34.21875\"/>\n",
       "  <use xlink:href=\"#glyph0-2\" x=\"313.628906\" y=\"34.21875\"/>\n",
       "  <use xlink:href=\"#glyph0-4\" x=\"317.633789\" y=\"34.21875\"/>\n",
       "  <use xlink:href=\"#glyph0-10\" x=\"322.430664\" y=\"34.21875\"/>\n",
       "  <use xlink:href=\"#glyph0-16\" x=\"326.435547\" y=\"34.21875\"/>\n",
       "  <use xlink:href=\"#glyph0-2\" x=\"335.237305\" y=\"34.21875\"/>\n",
       "  <use xlink:href=\"#glyph0-17\" x=\"339.242188\" y=\"34.21875\"/>\n",
       "  <use xlink:href=\"#glyph0-18\" x=\"352.048828\" y=\"34.21875\"/>\n",
       "  <use xlink:href=\"#glyph0-3\" x=\"360.058594\" y=\"34.21875\"/>\n",
       "</g>\n",
       "<g style=\"fill:rgb(0%,0%,0%);fill-opacity:1;\">\n",
       "  <use xlink:href=\"#glyph1-1\" x=\"264.398438\" y=\"485.057617\"/>\n",
       "</g>\n",
       "<g style=\"fill:rgb(0%,0%,0%);fill-opacity:1;\">\n",
       "  <use xlink:href=\"#glyph2-1\" x=\"12.737305\" y=\"273.300781\"/>\n",
       "  <use xlink:href=\"#glyph2-2\" x=\"12.737305\" y=\"266.388672\"/>\n",
       "  <use xlink:href=\"#glyph2-3\" x=\"12.737305\" y=\"262.511719\"/>\n",
       "  <use xlink:href=\"#glyph2-4\" x=\"12.737305\" y=\"255.839844\"/>\n",
       "  <use xlink:href=\"#glyph2-5\" x=\"12.737305\" y=\"249.108398\"/>\n",
       "  <use xlink:href=\"#glyph2-3\" x=\"12.737305\" y=\"242.436523\"/>\n",
       "  <use xlink:href=\"#glyph2-6\" x=\"12.737305\" y=\"235.764648\"/>\n",
       "  <use xlink:href=\"#glyph2-7\" x=\"12.737305\" y=\"229.092773\"/>\n",
       "  <use xlink:href=\"#glyph2-8\" x=\"12.737305\" y=\"223.092773\"/>\n",
       "</g>\n",
       "<path style=\"fill:none;stroke-width:0.75;stroke-linecap:round;stroke-linejoin:round;stroke:rgb(0%,0%,0%);stroke-opacity:1;stroke-miterlimit:10;\" d=\"M 122.398438 430.558594 L 410.398438 430.558594 \"/>\n",
       "<path style=\"fill:none;stroke-width:0.75;stroke-linecap:round;stroke-linejoin:round;stroke:rgb(0%,0%,0%);stroke-opacity:1;stroke-miterlimit:10;\" d=\"M 122.398438 430.558594 L 122.398438 437.761719 \"/>\n",
       "<path style=\"fill:none;stroke-width:0.75;stroke-linecap:round;stroke-linejoin:round;stroke:rgb(0%,0%,0%);stroke-opacity:1;stroke-miterlimit:10;\" d=\"M 218.398438 430.558594 L 218.398438 437.761719 \"/>\n",
       "<path style=\"fill:none;stroke-width:0.75;stroke-linecap:round;stroke-linejoin:round;stroke:rgb(0%,0%,0%);stroke-opacity:1;stroke-miterlimit:10;\" d=\"M 314.398438 430.558594 L 314.398438 437.761719 \"/>\n",
       "<path style=\"fill:none;stroke-width:0.75;stroke-linecap:round;stroke-linejoin:round;stroke:rgb(0%,0%,0%);stroke-opacity:1;stroke-miterlimit:10;\" d=\"M 410.398438 430.558594 L 410.398438 437.761719 \"/>\n",
       "<g style=\"fill:rgb(0%,0%,0%);fill-opacity:1;\">\n",
       "  <use xlink:href=\"#glyph1-2\" x=\"116.898438\" y=\"456.256836\"/>\n",
       "  <use xlink:href=\"#glyph1-3\" x=\"120.894531\" y=\"456.256836\"/>\n",
       "</g>\n",
       "<g style=\"fill:rgb(0%,0%,0%);fill-opacity:1;\">\n",
       "  <use xlink:href=\"#glyph1-4\" x=\"214.898438\" y=\"456.256836\"/>\n",
       "</g>\n",
       "<g style=\"fill:rgb(0%,0%,0%);fill-opacity:1;\">\n",
       "  <use xlink:href=\"#glyph1-3\" x=\"310.898438\" y=\"456.256836\"/>\n",
       "</g>\n",
       "<g style=\"fill:rgb(0%,0%,0%);fill-opacity:1;\">\n",
       "  <use xlink:href=\"#glyph1-5\" x=\"406.898438\" y=\"456.256836\"/>\n",
       "</g>\n",
       "<path style=\"fill:none;stroke-width:0.75;stroke-linecap:round;stroke-linejoin:round;stroke:rgb(0%,0%,0%);stroke-opacity:1;stroke-miterlimit:10;\" d=\"M 59.039062 416.800781 L 59.039062 73.144531 \"/>\n",
       "<path style=\"fill:none;stroke-width:0.75;stroke-linecap:round;stroke-linejoin:round;stroke:rgb(0%,0%,0%);stroke-opacity:1;stroke-miterlimit:10;\" d=\"M 59.039062 416.800781 L 51.839844 416.800781 \"/>\n",
       "<path style=\"fill:none;stroke-width:0.75;stroke-linecap:round;stroke-linejoin:round;stroke:rgb(0%,0%,0%);stroke-opacity:1;stroke-miterlimit:10;\" d=\"M 59.039062 348.070312 L 51.839844 348.070312 \"/>\n",
       "<path style=\"fill:none;stroke-width:0.75;stroke-linecap:round;stroke-linejoin:round;stroke:rgb(0%,0%,0%);stroke-opacity:1;stroke-miterlimit:10;\" d=\"M 59.039062 279.335938 L 51.839844 279.335938 \"/>\n",
       "<path style=\"fill:none;stroke-width:0.75;stroke-linecap:round;stroke-linejoin:round;stroke:rgb(0%,0%,0%);stroke-opacity:1;stroke-miterlimit:10;\" d=\"M 59.039062 210.605469 L 51.839844 210.605469 \"/>\n",
       "<path style=\"fill:none;stroke-width:0.75;stroke-linecap:round;stroke-linejoin:round;stroke:rgb(0%,0%,0%);stroke-opacity:1;stroke-miterlimit:10;\" d=\"M 59.039062 141.875 L 51.839844 141.875 \"/>\n",
       "<path style=\"fill:none;stroke-width:0.75;stroke-linecap:round;stroke-linejoin:round;stroke:rgb(0%,0%,0%);stroke-opacity:1;stroke-miterlimit:10;\" d=\"M 59.039062 73.144531 L 51.839844 73.144531 \"/>\n",
       "<g style=\"fill:rgb(0%,0%,0%);fill-opacity:1;\">\n",
       "  <use xlink:href=\"#glyph2-9\" x=\"41.538086\" y=\"420.300781\"/>\n",
       "</g>\n",
       "<g style=\"fill:rgb(0%,0%,0%);fill-opacity:1;\">\n",
       "  <use xlink:href=\"#glyph2-10\" x=\"41.538086\" y=\"358.570312\"/>\n",
       "  <use xlink:href=\"#glyph2-9\" x=\"41.538086\" y=\"351.898438\"/>\n",
       "  <use xlink:href=\"#glyph2-9\" x=\"41.538086\" y=\"345.226562\"/>\n",
       "</g>\n",
       "<g style=\"fill:rgb(0%,0%,0%);fill-opacity:1;\">\n",
       "  <use xlink:href=\"#glyph2-11\" x=\"41.538086\" y=\"289.835938\"/>\n",
       "  <use xlink:href=\"#glyph2-9\" x=\"41.538086\" y=\"283.164062\"/>\n",
       "  <use xlink:href=\"#glyph2-9\" x=\"41.538086\" y=\"276.492188\"/>\n",
       "</g>\n",
       "<g style=\"fill:rgb(0%,0%,0%);fill-opacity:1;\">\n",
       "  <use xlink:href=\"#glyph2-12\" x=\"41.538086\" y=\"221.105469\"/>\n",
       "  <use xlink:href=\"#glyph2-9\" x=\"41.538086\" y=\"214.433594\"/>\n",
       "  <use xlink:href=\"#glyph2-9\" x=\"41.538086\" y=\"207.761719\"/>\n",
       "</g>\n",
       "<g style=\"fill:rgb(0%,0%,0%);fill-opacity:1;\">\n",
       "  <use xlink:href=\"#glyph2-13\" x=\"41.538086\" y=\"152.375\"/>\n",
       "  <use xlink:href=\"#glyph2-9\" x=\"41.538086\" y=\"145.703125\"/>\n",
       "  <use xlink:href=\"#glyph2-9\" x=\"41.538086\" y=\"139.03125\"/>\n",
       "</g>\n",
       "<g style=\"fill:rgb(0%,0%,0%);fill-opacity:1;\">\n",
       "  <use xlink:href=\"#glyph2-14\" x=\"41.538086\" y=\"86.644531\"/>\n",
       "  <use xlink:href=\"#glyph2-9\" x=\"41.538086\" y=\"79.972656\"/>\n",
       "  <use xlink:href=\"#glyph2-9\" x=\"41.538086\" y=\"73.300781\"/>\n",
       "  <use xlink:href=\"#glyph2-9\" x=\"41.538086\" y=\"66.628906\"/>\n",
       "</g>\n",
       "<path style=\"fill:none;stroke-width:0.75;stroke-linecap:round;stroke-linejoin:round;stroke:rgb(0%,0%,0%);stroke-opacity:1;stroke-miterlimit:10;\" d=\"M 74.398438 416.800781 L 98.398438 416.800781 L 98.398438 414.738281 L 74.398438 414.738281 Z M 74.398438 416.800781 \"/>\n",
       "<path style=\"fill:none;stroke-width:0.75;stroke-linecap:round;stroke-linejoin:round;stroke:rgb(0%,0%,0%);stroke-opacity:1;stroke-miterlimit:10;\" d=\"M 98.398438 416.800781 L 122.398438 416.800781 L 122.398438 362.847656 L 98.398438 362.847656 Z M 98.398438 416.800781 \"/>\n",
       "<path style=\"fill:none;stroke-width:0.75;stroke-linecap:round;stroke-linejoin:round;stroke:rgb(0%,0%,0%);stroke-opacity:1;stroke-miterlimit:10;\" d=\"M 122.398438 416.800781 L 146.398438 416.800781 L 146.398438 331.917969 L 122.398438 331.917969 Z M 122.398438 416.800781 \"/>\n",
       "<path style=\"fill:none;stroke-width:0.75;stroke-linecap:round;stroke-linejoin:round;stroke:rgb(0%,0%,0%);stroke-opacity:1;stroke-miterlimit:10;\" d=\"M 146.398438 416.800781 L 170.398438 416.800781 L 170.398438 291.710938 L 146.398438 291.710938 Z M 146.398438 416.800781 \"/>\n",
       "<path style=\"fill:none;stroke-width:0.75;stroke-linecap:round;stroke-linejoin:round;stroke:rgb(0%,0%,0%);stroke-opacity:1;stroke-miterlimit:10;\" d=\"M 170.398438 416.800781 L 194.398438 416.800781 L 194.398438 301.332031 L 170.398438 301.332031 Z M 170.398438 416.800781 \"/>\n",
       "<path style=\"fill:none;stroke-width:0.75;stroke-linecap:round;stroke-linejoin:round;stroke:rgb(0%,0%,0%);stroke-opacity:1;stroke-miterlimit:10;\" d=\"M 194.398438 416.800781 L 218.398438 416.800781 L 218.398438 300.300781 L 194.398438 300.300781 Z M 194.398438 416.800781 \"/>\n",
       "<path style=\"fill:none;stroke-width:0.75;stroke-linecap:round;stroke-linejoin:round;stroke:rgb(0%,0%,0%);stroke-opacity:1;stroke-miterlimit:10;\" d=\"M 218.398438 416.800781 L 242.398438 416.800781 L 242.398438 311.984375 L 218.398438 311.984375 Z M 218.398438 416.800781 \"/>\n",
       "<path style=\"fill:none;stroke-width:0.75;stroke-linecap:round;stroke-linejoin:round;stroke:rgb(0%,0%,0%);stroke-opacity:1;stroke-miterlimit:10;\" d=\"M 242.398438 416.800781 L 266.398438 416.800781 L 266.398438 297.207031 L 242.398438 297.207031 Z M 242.398438 416.800781 \"/>\n",
       "<path style=\"fill:none;stroke-width:0.75;stroke-linecap:round;stroke-linejoin:round;stroke:rgb(0%,0%,0%);stroke-opacity:1;stroke-miterlimit:10;\" d=\"M 266.398438 416.800781 L 290.398438 416.800781 L 290.398438 288.617188 L 266.398438 288.617188 Z M 266.398438 416.800781 \"/>\n",
       "<path style=\"fill:none;stroke-width:0.75;stroke-linecap:round;stroke-linejoin:round;stroke:rgb(0%,0%,0%);stroke-opacity:1;stroke-miterlimit:10;\" d=\"M 290.398438 416.800781 L 314.398438 416.800781 L 314.398438 235.351562 L 290.398438 235.351562 Z M 290.398438 416.800781 \"/>\n",
       "<path style=\"fill:none;stroke-width:0.75;stroke-linecap:round;stroke-linejoin:round;stroke:rgb(0%,0%,0%);stroke-opacity:1;stroke-miterlimit:10;\" d=\"M 314.398438 416.800781 L 338.398438 416.800781 L 338.398438 178.648438 L 314.398438 178.648438 Z M 314.398438 416.800781 \"/>\n",
       "<path style=\"fill:none;stroke-width:0.75;stroke-linecap:round;stroke-linejoin:round;stroke:rgb(0%,0%,0%);stroke-opacity:1;stroke-miterlimit:10;\" d=\"M 338.398438 416.800781 L 362.398438 416.800781 L 362.398438 118.507812 L 338.398438 118.507812 Z M 338.398438 416.800781 \"/>\n",
       "<path style=\"fill:none;stroke-width:0.75;stroke-linecap:round;stroke-linejoin:round;stroke:rgb(0%,0%,0%);stroke-opacity:1;stroke-miterlimit:10;\" d=\"M 362.398438 416.800781 L 386.398438 416.800781 L 386.398438 72.800781 L 362.398438 72.800781 Z M 362.398438 416.800781 \"/>\n",
       "<path style=\"fill:none;stroke-width:0.75;stroke-linecap:round;stroke-linejoin:round;stroke:rgb(0%,0%,0%);stroke-opacity:1;stroke-miterlimit:10;\" d=\"M 386.398438 416.800781 L 410.398438 416.800781 L 410.398438 140.84375 L 386.398438 140.84375 Z M 386.398438 416.800781 \"/>\n",
       "<path style=\"fill:none;stroke-width:0.75;stroke-linecap:round;stroke-linejoin:round;stroke:rgb(0%,0%,0%);stroke-opacity:1;stroke-miterlimit:10;\" d=\"M 410.398438 416.800781 L 434.398438 416.800781 L 434.398438 272.808594 L 410.398438 272.808594 Z M 410.398438 416.800781 \"/>\n",
       "<path style=\"fill:none;stroke-width:0.75;stroke-linecap:round;stroke-linejoin:round;stroke:rgb(0%,0%,0%);stroke-opacity:1;stroke-miterlimit:10;\" d=\"M 434.398438 416.800781 L 458.398438 416.800781 L 458.398438 400.304688 L 434.398438 400.304688 Z M 434.398438 416.800781 \"/>\n",
       "</g>\n",
       "</svg>\n"
      ],
      "text/plain": [
       "Plot with title “Distribution of log Wait Times”"
      ]
     },
     "metadata": {
      "image/svg+xml": {
       "isolated": true
      }
     },
     "output_type": "display_data"
    }
   ],
   "source": [
    "hist(x$WAIT, main = 'Distribution of Wait Times', xlab = 't')\n",
    "hist(log(x$WAIT), main = 'Distribution of log Wait Times', xlab = 't')"
   ]
  },
  {
   "cell_type": "markdown",
   "metadata": {},
   "source": [
    "####The ANOVA model indicates that there is a significant statistical difference in mean DLA wait times between the 2014 and 2015."
   ]
  },
  {
   "cell_type": "code",
   "execution_count": 77,
   "metadata": {
    "collapsed": false
   },
   "outputs": [
    {
     "data": {
      "text/plain": [
       "              Df Sum Sq Mean Sq F value Pr(>F)    \n",
       "PERIOD         1    340   340.2   103.3 <2e-16 ***\n",
       "Residuals   6833  22501     3.3                   \n",
       "---\n",
       "Signif. codes:  0 ‘***’ 0.001 ‘**’ 0.01 ‘*’ 0.05 ‘.’ 0.1 ‘ ’ 1\n",
       "453 observations deleted due to missingness"
      ]
     },
     "execution_count": 77,
     "metadata": {},
     "output_type": "execute_result"
    }
   ],
   "source": [
    "fit <-aov(log(WAIT) ~ PERIOD, data = x)\n",
    "summary(fit)"
   ]
  },
  {
   "cell_type": "markdown",
   "metadata": {},
   "source": [
    "####The 95% confidence intervals do not overlap. This confirms statistical difference in mean wait times."
   ]
  },
  {
   "cell_type": "code",
   "execution_count": 78,
   "metadata": {
    "collapsed": false
   },
   "outputs": [
    {
     "data": {
      "image/png": "[encoded data removed]",
      "image/svg+xml": [
       "<?xml version=\"1.0\" encoding=\"UTF-8\"?>\n",
       "<svg xmlns=\"http://www.w3.org/2000/svg\" xmlns:xlink=\"http://www.w3.org/1999/xlink\" width=\"504pt\" height=\"504pt\" viewBox=\"0 0 504 504\" version=\"1.1\">\n",
       "<defs>\n",
       "<g>\n",
       "<symbol overflow=\"visible\" id=\"glyph0-0\">\n",
       "<path style=\"stroke:none;\" d=\"\"/>\n",
       "</symbol>\n",
       "<symbol overflow=\"visible\" id=\"glyph0-1\">\n",
       "<path style=\"stroke:none;\" d=\"M -0.125 -4.296875 L -8.765625 -4.296875 L -8.765625 -3.359375 C -7.328125 -2.953125 -7.28125 -2.859375 -7.0625 -1.078125 L -6.0625 -1.078125 L -6.0625 -2.96875 L 0 -2.96875 L 0 -4.296875 Z M -0.125 -4.296875 \"/>\n",
       "</symbol>\n",
       "<symbol overflow=\"visible\" id=\"glyph0-2\">\n",
       "<path style=\"stroke:none;\" d=\"M -0.125 -2.421875 L -1.515625 -2.421875 L -1.515625 -0.90625 L 0 -0.90625 L 0 -2.421875 Z M -0.125 -2.421875 \"/>\n",
       "</symbol>\n",
       "<symbol overflow=\"visible\" id=\"glyph0-3\">\n",
       "<path style=\"stroke:none;\" d=\"M -2.953125 -6.28125 C -4.625 -6.28125 -5.875 -5.046875 -5.875 -3.40625 C -5.875 -2.8125 -5.671875 -2.21875 -5.515625 -2.015625 L -7.28125 -2.28125 L -7.28125 -5.84375 L -8.59375 -5.84375 L -8.59375 -1.203125 L -3.875 -0.515625 L -3.875 -1.71875 C -4.5 -2.25 -4.671875 -2.5625 -4.671875 -3.21875 C -4.671875 -4.359375 -4.0625 -4.9375 -2.8125 -4.9375 C -1.578125 -4.9375 -1.015625 -4.375 -1.015625 -3.21875 C -1.015625 -2.296875 -1.359375 -1.859375 -2.453125 -1.578125 L -2.453125 -0.25 C -0.625 -0.625 0.1875 -1.734375 0.1875 -3.234375 C 0.1875 -4.953125 -1.15625 -6.28125 -2.953125 -6.28125 Z M -2.953125 -6.28125 \"/>\n",
       "</symbol>\n",
       "<symbol overflow=\"visible\" id=\"glyph0-4\">\n",
       "<path style=\"stroke:none;\" d=\"M -2.765625 -6.28125 C -4.359375 -6.28125 -5.5625 -5.078125 -5.5625 -3.546875 C -5.5625 -2.71875 -5.203125 -1.9375 -4.578125 -1.484375 L -4.46875 -1.734375 C -6.546875 -1.734375 -7.578125 -2.28125 -7.578125 -3.484375 C -7.578125 -4.234375 -7.234375 -4.609375 -6.28125 -4.796875 L -6.28125 -6.125 C -7.8125 -5.90625 -8.765625 -4.859375 -8.765625 -3.5625 C -8.765625 -1.578125 -6.96875 -0.375 -4.015625 -0.375 C -1.359375 -0.375 0.1875 -1.421875 0.1875 -3.375 C 0.1875 -4.984375 -1.109375 -6.28125 -2.765625 -6.28125 Z M -2.6875 -4.9375 C -1.625 -4.9375 -1.015625 -4.359375 -1.015625 -3.390625 C -1.015625 -2.40625 -1.65625 -1.78125 -2.75 -1.78125 C -3.796875 -1.78125 -4.359375 -2.375 -4.359375 -3.421875 C -4.359375 -4.4375 -3.828125 -4.9375 -2.6875 -4.9375 Z M -2.6875 -4.9375 \"/>\n",
       "</symbol>\n",
       "<symbol overflow=\"visible\" id=\"glyph0-5\">\n",
       "<path style=\"stroke:none;\" d=\"M -7.578125 -6.375 L -8.59375 -6.375 L -8.59375 -0.40625 L -7.28125 -0.40625 L -7.28125 -4.859375 C -5.375 -3.34375 -2.796875 -2.109375 0 -1.46875 L 0 -2.890625 C -2.875 -3.390625 -5.359375 -4.546875 -7.53125 -6.375 Z M -7.578125 -6.375 \"/>\n",
       "</symbol>\n",
       "<symbol overflow=\"visible\" id=\"glyph0-6\">\n",
       "<path style=\"stroke:none;\" d=\"M -2.53125 -6.28125 C -3.484375 -6.28125 -4.265625 -5.671875 -4.625 -4.953125 C -5.046875 -5.65625 -5.5625 -5.984375 -6.375 -5.984375 C -7.703125 -5.984375 -8.765625 -4.8125 -8.765625 -3.296875 C -8.765625 -1.796875 -7.703125 -0.59375 -6.375 -0.59375 C -5.578125 -0.59375 -5.046875 -0.921875 -4.625 -1.625 C -4.265625 -0.921875 -3.484375 -0.296875 -2.546875 -0.296875 C -0.984375 -0.296875 0.1875 -1.625 0.1875 -3.296875 C 0.1875 -4.984375 -0.984375 -6.28125 -2.53125 -6.28125 Z M -6.34375 -4.625 C -5.5625 -4.625 -5.15625 -4.1875 -5.15625 -3.296875 C -5.15625 -2.40625 -5.5625 -1.953125 -6.359375 -1.953125 C -7.171875 -1.953125 -7.578125 -2.40625 -7.578125 -3.296875 C -7.578125 -4.203125 -7.171875 -4.625 -6.34375 -4.625 Z M -2.515625 -4.9375 C -1.515625 -4.9375 -1.015625 -4.359375 -1.015625 -3.28125 C -1.015625 -2.25 -1.53125 -1.65625 -2.515625 -1.65625 C -3.515625 -1.65625 -4.015625 -2.25 -4.015625 -3.296875 C -4.015625 -4.359375 -3.515625 -4.9375 -2.515625 -4.9375 Z M -2.515625 -4.9375 \"/>\n",
       "</symbol>\n",
       "<symbol overflow=\"visible\" id=\"glyph0-7\">\n",
       "<path style=\"stroke:none;\" d=\"M -4.578125 -6.234375 C -7.25 -6.234375 -8.765625 -5.1875 -8.765625 -3.234375 C -8.765625 -1.625 -7.484375 -0.3125 -5.8125 -0.3125 C -4.234375 -0.3125 -3.03125 -1.53125 -3.03125 -3.078125 C -3.03125 -3.875 -3.359375 -4.5625 -4.015625 -5.109375 L -4.109375 -4.875 C -2.046875 -4.859375 -1.015625 -4.328125 -1.015625 -3.125 C -1.015625 -2.375 -1.359375 -1.984375 -2.296875 -1.796875 L -2.296875 -0.46875 C -0.78125 -0.703125 0.1875 -1.75 0.1875 -3.046875 C 0.1875 -5.046875 -1.640625 -6.234375 -4.578125 -6.234375 Z M -5.84375 -4.8125 C -4.796875 -4.8125 -4.234375 -4.21875 -4.234375 -3.1875 C -4.234375 -2.171875 -4.765625 -1.671875 -5.90625 -1.671875 C -6.984375 -1.671875 -7.578125 -2.25 -7.578125 -3.234375 C -7.578125 -4.21875 -6.953125 -4.8125 -5.84375 -4.8125 Z M -5.84375 -4.8125 \"/>\n",
       "</symbol>\n",
       "<symbol overflow=\"visible\" id=\"glyph0-8\">\n",
       "<path style=\"stroke:none;\" d=\"M -6.140625 -6.265625 C -7.578125 -6.265625 -8.765625 -5.015625 -8.765625 -3.40625 C -8.765625 -1.671875 -7.75 -0.515625 -5.5625 -0.453125 L -5.5625 -1.78125 C -7.109375 -1.875 -7.578125 -2.328125 -7.578125 -3.375 C -7.578125 -4.328125 -7.03125 -4.90625 -6.125 -4.90625 C -5.453125 -4.90625 -4.96875 -4.546875 -4.53125 -3.796875 L -3.90625 -2.6875 C -2.90625 -0.90625 -2 -0.359375 0 -0.25 L 0 -6.203125 L -1.3125 -6.203125 L -1.3125 -1.75 C -1.875 -1.84375 -2.21875 -2.1875 -2.828125 -3.234375 L -3.484375 -4.421875 C -4.109375 -5.609375 -5.09375 -6.265625 -6.140625 -6.265625 Z M -6.140625 -6.265625 \"/>\n",
       "</symbol>\n",
       "<symbol overflow=\"visible\" id=\"glyph0-9\">\n",
       "<path style=\"stroke:none;\" d=\"M -4.21875 -6.21875 C -7.171875 -6.21875 -8.765625 -5.140625 -8.765625 -3.296875 C -8.765625 -1.46875 -7.15625 -0.375 -4.296875 -0.375 C -1.421875 -0.375 0.1875 -1.46875 0.1875 -3.296875 C 0.1875 -5.09375 -1.421875 -6.21875 -4.21875 -6.21875 Z M -4.3125 -4.859375 C -1.90625 -4.859375 -0.953125 -4.453125 -0.953125 -3.28125 C -0.953125 -2.15625 -1.953125 -1.734375 -4.28125 -1.734375 C -6.609375 -1.734375 -7.578125 -2.15625 -7.578125 -3.296875 C -7.578125 -4.4375 -6.59375 -4.859375 -4.3125 -4.859375 Z M -4.3125 -4.859375 \"/>\n",
       "</symbol>\n",
       "<symbol overflow=\"visible\" id=\"glyph0-10\">\n",
       "<path style=\"stroke:none;\" d=\"M -0.125 -1.9375 L -9.015625 -1.9375 L -9.015625 -0.671875 L 0 -0.671875 L 0 -1.9375 Z M -0.125 -1.9375 \"/>\n",
       "</symbol>\n",
       "<symbol overflow=\"visible\" id=\"glyph0-11\">\n",
       "<path style=\"stroke:none;\" d=\"M -3.234375 -6.25 C -5.40625 -6.25 -6.734375 -5.078125 -6.734375 -3.265625 C -6.734375 -1.5 -5.390625 -0.28125 -3.28125 -0.28125 C -1.15625 -0.28125 0.1875 -1.484375 0.1875 -3.28125 C 0.1875 -5.046875 -1.15625 -6.25 -3.234375 -6.25 Z M -3.234375 -4.9375 C -1.765625 -4.9375 -1.015625 -4.375 -1.015625 -3.28125 C -1.015625 -2.15625 -1.75 -1.609375 -3.28125 -1.609375 C -4.78125 -1.609375 -5.546875 -2.15625 -5.546875 -3.28125 C -5.546875 -4.40625 -4.796875 -4.9375 -3.234375 -4.9375 Z M -3.234375 -4.9375 \"/>\n",
       "</symbol>\n",
       "<symbol overflow=\"visible\" id=\"glyph0-12\">\n",
       "<path style=\"stroke:none;\" d=\"M -1.15625 -6 L -6.546875 -6 L -6.546875 -4.796875 L -5.515625 -4.796875 L -5.609375 -5.046875 C -6.34375 -4.53125 -6.734375 -3.828125 -6.734375 -3.03125 C -6.734375 -1.421875 -5.25 -0.203125 -3.21875 -0.203125 C -1.234375 -0.203125 0.1875 -1.46875 0.1875 -2.9375 C 0.1875 -3.734375 -0.1875 -4.375 -0.984375 -5.046875 L -1.078125 -4.796875 L -0.65625 -4.796875 C 1.015625 -4.796875 1.515625 -4.265625 1.515625 -3.09375 C 1.515625 -2.296875 1.359375 -1.828125 0.453125 -1.6875 L 0.453125 -0.390625 C 1.78125 -0.515625 2.609375 -1.578125 2.609375 -3.0625 C 2.609375 -5.03125 1.609375 -6 -1.15625 -6 Z M -3.234375 -4.703125 C -1.734375 -4.703125 -1.015625 -4.203125 -1.015625 -3.140625 C -1.015625 -2.046875 -1.75 -1.53125 -3.28125 -1.53125 C -4.78125 -1.53125 -5.546875 -2.0625 -5.546875 -3.125 C -5.546875 -4.21875 -4.765625 -4.703125 -3.234375 -4.703125 Z M -3.234375 -4.703125 \"/>\n",
       "</symbol>\n",
       "<symbol overflow=\"visible\" id=\"glyph0-13\">\n",
       "<path style=\"stroke:none;\" d=\"M 2.3125 -3.59375 C 0.59375 -2.53125 -1.3125 -1.984375 -3.234375 -1.984375 C -5.140625 -1.984375 -7.078125 -2.53125 -9.015625 -3.734375 L -9.015625 -2.765625 C -7.40625 -1.53125 -5.125 -0.734375 -3.234375 -0.734375 C -1.34375 -0.734375 0.9375 -1.53125 2.546875 -2.765625 L 2.546875 -3.734375 Z M 2.3125 -3.59375 \"/>\n",
       "</symbol>\n",
       "<symbol overflow=\"visible\" id=\"glyph0-14\">\n",
       "<path style=\"stroke:none;\" d=\"M -9.015625 -11.140625 L -9.015625 -9.796875 L -1.78125 -8.140625 L -1.78125 -8.421875 L -9.015625 -6.390625 L -9.015625 -4.984375 L -1.78125 -3.015625 L -1.78125 -3.28125 L -9.015625 -1.609375 L -9.015625 -0.078125 L 0 -2.40625 L 0 -3.828125 L -7.3125 -5.8125 L -7.3125 -5.546875 L 0 -7.59375 L 0 -9.03125 L -9.015625 -11.3125 Z M -9.015625 -11.140625 \"/>\n",
       "</symbol>\n",
       "<symbol overflow=\"visible\" id=\"glyph0-15\">\n",
       "<path style=\"stroke:none;\" d=\"M -0.125 -7.96875 L -9.015625 -4.84375 L -9.015625 -3.234375 L 0 -0.015625 L 0 -1.46875 L -2.625 -2.40625 L -2.625 -5.59375 L 0 -6.484375 L 0 -8.015625 Z M -3.828125 -5.375 L -3.828125 -2.765625 L -7.6875 -4.15625 L -7.6875 -3.890625 L -3.828125 -5.1875 Z M -3.828125 -5.375 \"/>\n",
       "</symbol>\n",
       "<symbol overflow=\"visible\" id=\"glyph0-16\">\n",
       "<path style=\"stroke:none;\" d=\"M -0.125 -2.453125 L -9.015625 -2.453125 L -9.015625 -1.0625 L 0 -1.0625 L 0 -2.453125 Z M -0.125 -2.453125 \"/>\n",
       "</symbol>\n",
       "<symbol overflow=\"visible\" id=\"glyph0-17\">\n",
       "<path style=\"stroke:none;\" d=\"M -7.890625 -7.25 L -9.015625 -7.25 L -9.015625 -0.109375 L -7.765625 -0.109375 L -7.765625 -2.984375 L 0 -2.984375 L 0 -4.375 L -7.765625 -4.375 L -7.765625 -7.25 Z M -7.890625 -7.25 \"/>\n",
       "</symbol>\n",
       "<symbol overflow=\"visible\" id=\"glyph0-18\">\n",
       "<path style=\"stroke:none;\" d=\"M -3.234375 -3.203125 C -5.125 -3.203125 -7.40625 -2.40625 -9.015625 -1.171875 L -9.015625 -0.203125 C -7.0625 -1.40625 -5.140625 -1.953125 -3.234375 -1.953125 C -1.3125 -1.953125 0.609375 -1.40625 2.546875 -0.203125 L 2.546875 -1.171875 C 0.9375 -2.40625 -1.34375 -3.203125 -3.234375 -3.203125 Z M -3.234375 -3.203125 \"/>\n",
       "</symbol>\n",
       "<symbol overflow=\"visible\" id=\"glyph1-0\">\n",
       "<path style=\"stroke:none;\" d=\"\"/>\n",
       "</symbol>\n",
       "<symbol overflow=\"visible\" id=\"glyph1-1\">\n",
       "<path style=\"stroke:none;\" d=\"M 7.53125 -6.3125 C 7.53125 -7.953125 6.4375 -9.015625 4.703125 -9.015625 L 0.953125 -9.015625 L 0.953125 0 L 2.34375 0 L 2.34375 -3.703125 L 4.953125 -3.703125 C 6.390625 -3.703125 7.53125 -4.859375 7.53125 -6.3125 Z M 6.09375 -6.359375 C 6.09375 -5.40625 5.609375 -4.953125 4.53125 -4.953125 L 2.34375 -4.953125 L 2.34375 -7.765625 L 4.53125 -7.765625 C 5.609375 -7.765625 6.09375 -7.3125 6.09375 -6.359375 Z M 6.09375 -6.359375 \"/>\n",
       "</symbol>\n",
       "<symbol overflow=\"visible\" id=\"glyph1-2\">\n",
       "<path style=\"stroke:none;\" d=\"M 7.484375 -0.125 L 7.484375 -1.25 L 2.328125 -1.25 L 2.328125 -3.984375 L 7.09375 -3.984375 L 7.09375 -5.234375 L 2.328125 -5.234375 L 2.328125 -7.765625 L 7.265625 -7.765625 L 7.265625 -9.015625 L 0.9375 -9.015625 L 0.9375 0 L 7.484375 0 Z M 7.484375 -0.125 \"/>\n",
       "</symbol>\n",
       "<symbol overflow=\"visible\" id=\"glyph1-3\">\n",
       "<path style=\"stroke:none;\" d=\"M 8.28125 -0.125 L 8.28125 -0.484375 C 7.828125 -0.796875 7.765625 -1.015625 7.75 -2.171875 C 7.734375 -3.609375 7.375 -4.171875 6.4375 -4.578125 L 6.4375 -4.3125 C 7.421875 -4.796875 7.9375 -5.546875 7.9375 -6.546875 C 7.9375 -8.046875 6.859375 -9.015625 5.140625 -9.015625 L 0.96875 -9.015625 L 0.96875 0 L 2.359375 0 L 2.359375 -3.765625 L 5.109375 -3.765625 C 6.09375 -3.765625 6.421875 -3.421875 6.40625 -2.34375 L 6.390625 -1.5625 C 6.390625 -1.015625 6.484375 -0.484375 6.703125 0 L 8.28125 0 Z M 6.5 -6.390625 C 6.5 -5.359375 6.125 -5.015625 4.9375 -5.015625 L 2.359375 -5.015625 L 2.359375 -7.765625 L 4.9375 -7.765625 C 6.1875 -7.765625 6.5 -7.375 6.5 -6.390625 Z M 6.5 -6.390625 \"/>\n",
       "</symbol>\n",
       "<symbol overflow=\"visible\" id=\"glyph1-4\">\n",
       "<path style=\"stroke:none;\" d=\"M 2.453125 -0.125 L 2.453125 -9.015625 L 1.0625 -9.015625 L 1.0625 0 L 2.453125 0 Z M 2.453125 -0.125 \"/>\n",
       "</symbol>\n",
       "<symbol overflow=\"visible\" id=\"glyph1-5\">\n",
       "<path style=\"stroke:none;\" d=\"M 9.03125 -4.375 C 9.03125 -7.1875 7.234375 -9.234375 4.671875 -9.234375 C 2.15625 -9.234375 0.3125 -7.171875 0.3125 -4.4375 C 0.3125 -1.703125 2.15625 0.21875 4.6875 0.21875 C 7.25 0.21875 9.03125 -1.796875 9.03125 -4.375 Z M 7.640625 -4.390625 C 7.640625 -2.28125 6.53125 -1.03125 4.6875 -1.03125 C 2.8125 -1.03125 1.703125 -2.28125 1.703125 -4.4375 C 1.703125 -6.59375 2.8125 -7.984375 4.671875 -7.984375 C 6.5625 -7.984375 7.640625 -6.59375 7.640625 -4.390625 Z M 7.640625 -4.390625 \"/>\n",
       "</symbol>\n",
       "<symbol overflow=\"visible\" id=\"glyph1-6\">\n",
       "<path style=\"stroke:none;\" d=\"M 8.140625 -4.515625 C 8.140625 -7.21875 6.65625 -9.015625 4.4375 -9.015625 L 0.921875 -9.015625 L 0.921875 0 L 4.4375 0 C 6.640625 0 8.140625 -1.78125 8.140625 -4.515625 Z M 6.75 -4.5 C 6.75 -2.296875 5.96875 -1.25 4.25 -1.25 L 2.3125 -1.25 L 2.3125 -7.765625 L 4.25 -7.765625 C 5.96875 -7.765625 6.75 -6.734375 6.75 -4.5 Z M 6.75 -4.5 \"/>\n",
       "</symbol>\n",
       "<symbol overflow=\"visible\" id=\"glyph1-7\">\n",
       "<path style=\"stroke:none;\" d=\"M 7.078125 -7.890625 L 7.078125 -9.015625 L 0.9375 -9.015625 L 0.9375 0 L 2.328125 0 L 2.328125 -3.984375 L 6.5 -3.984375 L 6.5 -5.234375 L 2.328125 -5.234375 L 2.328125 -7.765625 L 7.078125 -7.765625 Z M 7.078125 -7.890625 \"/>\n",
       "</symbol>\n",
       "<symbol overflow=\"visible\" id=\"glyph1-8\">\n",
       "<path style=\"stroke:none;\" d=\"M 6.546875 -0.15625 L 6.546875 -1.078125 C 6.3125 -1.015625 6.265625 -1.015625 6.203125 -1.015625 C 5.859375 -1.015625 5.796875 -1.0625 5.796875 -1.375 L 5.796875 -4.890625 C 5.796875 -6 4.84375 -6.734375 3.296875 -6.734375 C 1.78125 -6.734375 0.703125 -6.015625 0.640625 -4.421875 L 1.90625 -4.421875 C 2 -5.328125 2.328125 -5.546875 3.265625 -5.546875 C 4.15625 -5.546875 4.53125 -5.34375 4.53125 -4.734375 L 4.53125 -4.46875 C 4.53125 -4.0625 4.421875 -4.015625 3.625 -3.90625 C 2.203125 -3.734375 1.984375 -3.6875 1.609375 -3.53125 C 0.875 -3.234375 0.359375 -2.53125 0.359375 -1.765625 C 0.359375 -0.625 1.296875 0.1875 2.5625 0.1875 C 3.375 0.1875 4.25 -0.1875 4.625 -0.59375 C 4.671875 -0.390625 5.25 0.078125 5.734375 0.078125 C 5.9375 0.078125 6.09375 0.0625 6.546875 -0.046875 Z M 4.53125 -2.296875 C 4.53125 -1.40625 3.75 -0.953125 2.78125 -0.953125 C 2 -0.953125 1.6875 -1.109375 1.6875 -1.78125 C 1.6875 -2.453125 1.984375 -2.609375 3.0625 -2.765625 C 4.109375 -2.90625 4.328125 -2.953125 4.53125 -3.03125 Z M 4.53125 -2.296875 \"/>\n",
       "</symbol>\n",
       "<symbol overflow=\"visible\" id=\"glyph1-9\">\n",
       "<path style=\"stroke:none;\" d=\"M 1.9375 -0.125 L 1.9375 -9.015625 L 0.671875 -9.015625 L 0.671875 0 L 1.9375 0 Z M 1.9375 -0.125 \"/>\n",
       "</symbol>\n",
       "<symbol overflow=\"visible\" id=\"glyph1-10\">\n",
       "<path style=\"stroke:none;\" d=\"\"/>\n",
       "</symbol>\n",
       "<symbol overflow=\"visible\" id=\"glyph1-11\">\n",
       "<path style=\"stroke:none;\" d=\"M 6.265625 -6.140625 C 6.265625 -7.578125 5.015625 -8.765625 3.40625 -8.765625 C 1.671875 -8.765625 0.515625 -7.75 0.453125 -5.5625 L 1.78125 -5.5625 C 1.875 -7.109375 2.328125 -7.578125 3.375 -7.578125 C 4.328125 -7.578125 4.90625 -7.03125 4.90625 -6.125 C 4.90625 -5.453125 4.546875 -4.96875 3.796875 -4.53125 L 2.6875 -3.90625 C 0.90625 -2.90625 0.359375 -2 0.25 0 L 6.203125 0 L 6.203125 -1.3125 L 1.75 -1.3125 C 1.84375 -1.875 2.1875 -2.21875 3.234375 -2.828125 L 4.421875 -3.484375 C 5.609375 -4.109375 6.265625 -5.09375 6.265625 -6.140625 Z M 6.265625 -6.140625 \"/>\n",
       "</symbol>\n",
       "<symbol overflow=\"visible\" id=\"glyph1-12\">\n",
       "<path style=\"stroke:none;\" d=\"M 6.21875 -4.21875 C 6.21875 -7.171875 5.140625 -8.765625 3.296875 -8.765625 C 1.46875 -8.765625 0.375 -7.15625 0.375 -4.296875 C 0.375 -1.421875 1.46875 0.1875 3.296875 0.1875 C 5.09375 0.1875 6.21875 -1.421875 6.21875 -4.21875 Z M 4.859375 -4.3125 C 4.859375 -1.90625 4.453125 -0.953125 3.28125 -0.953125 C 2.15625 -0.953125 1.734375 -1.953125 1.734375 -4.28125 C 1.734375 -6.609375 2.15625 -7.578125 3.296875 -7.578125 C 4.4375 -7.578125 4.859375 -6.59375 4.859375 -4.3125 Z M 4.859375 -4.3125 \"/>\n",
       "</symbol>\n",
       "<symbol overflow=\"visible\" id=\"glyph1-13\">\n",
       "<path style=\"stroke:none;\" d=\"M 4.296875 -0.125 L 4.296875 -8.765625 L 3.359375 -8.765625 C 2.953125 -7.328125 2.859375 -7.28125 1.078125 -7.0625 L 1.078125 -6.0625 L 2.96875 -6.0625 L 2.96875 0 L 4.296875 0 Z M 4.296875 -0.125 \"/>\n",
       "</symbol>\n",
       "<symbol overflow=\"visible\" id=\"glyph1-14\">\n",
       "<path style=\"stroke:none;\" d=\"M 6.375 -2.171875 L 6.375 -3.25 L 5.109375 -3.25 L 5.109375 -8.765625 L 4.125 -8.765625 L 0.1875 -3.328125 L 0.1875 -2.046875 L 3.78125 -2.046875 L 3.78125 0 L 5.109375 0 L 5.109375 -2.046875 L 6.375 -2.046875 Z M 3.921875 -3.25 L 1.515625 -3.25 L 4.015625 -6.75 L 3.78125 -6.84375 L 3.78125 -3.25 Z M 3.921875 -3.25 \"/>\n",
       "</symbol>\n",
       "<symbol overflow=\"visible\" id=\"glyph1-15\">\n",
       "<path style=\"stroke:none;\" d=\"M 6.28125 -2.953125 C 6.28125 -4.625 5.046875 -5.875 3.40625 -5.875 C 2.8125 -5.875 2.21875 -5.671875 2.015625 -5.515625 L 2.28125 -7.28125 L 5.84375 -7.28125 L 5.84375 -8.59375 L 1.203125 -8.59375 L 0.515625 -3.875 L 1.71875 -3.875 C 2.25 -4.5 2.5625 -4.671875 3.21875 -4.671875 C 4.359375 -4.671875 4.9375 -4.0625 4.9375 -2.8125 C 4.9375 -1.578125 4.375 -1.015625 3.21875 -1.015625 C 2.296875 -1.015625 1.859375 -1.359375 1.578125 -2.453125 L 0.25 -2.453125 C 0.625 -0.625 1.734375 0.1875 3.234375 0.1875 C 4.953125 0.1875 6.28125 -1.15625 6.28125 -2.953125 Z M 6.28125 -2.953125 \"/>\n",
       "</symbol>\n",
       "<symbol overflow=\"visible\" id=\"glyph1-16\">\n",
       "<path style=\"stroke:none;\" d=\"M 5.96875 -0.125 L 5.96875 -4.890625 C 5.96875 -5.921875 5.0625 -6.734375 3.859375 -6.734375 C 2.921875 -6.734375 2.203125 -6.34375 1.65625 -5.453125 L 1.890625 -5.359375 L 1.890625 -6.546875 L 0.703125 -6.546875 L 0.703125 0 L 1.96875 0 L 1.96875 -3.59375 C 1.96875 -4.890625 2.53125 -5.59375 3.546875 -5.59375 C 4.34375 -5.59375 4.703125 -5.25 4.703125 -4.484375 L 4.703125 0 L 5.96875 0 Z M 5.96875 -0.125 \"/>\n",
       "</symbol>\n",
       "<symbol overflow=\"visible\" id=\"glyph1-17\">\n",
       "<path style=\"stroke:none;\" d=\"M 6.328125 -3.8125 L 6.328125 -4.765625 L 0.671875 -4.765625 L 0.671875 -3.6875 L 6.328125 -3.6875 Z M 6.328125 -1.625 L 6.328125 -2.578125 L 0.671875 -2.578125 L 0.671875 -1.5 L 6.328125 -1.5 Z M 6.328125 -1.625 \"/>\n",
       "</symbol>\n",
       "<symbol overflow=\"visible\" id=\"glyph1-18\">\n",
       "<path style=\"stroke:none;\" d=\"M 6.203125 -2.609375 C 6.203125 -3.640625 5.65625 -4.375 4.625 -4.71875 L 4.625 -4.453125 C 5.421875 -4.765625 5.953125 -5.453125 5.953125 -6.296875 C 5.953125 -7.765625 4.84375 -8.765625 3.234375 -8.765625 C 1.515625 -8.765625 0.453125 -7.703125 0.421875 -5.765625 L 1.75 -5.765625 C 1.78125 -7.15625 2.15625 -7.578125 3.234375 -7.578125 C 4.171875 -7.578125 4.59375 -7.15625 4.59375 -6.265625 C 4.59375 -5.359375 4.34375 -5.109375 2.515625 -5.109375 L 2.515625 -3.953125 L 3.234375 -3.953125 C 4.390625 -3.953125 4.84375 -3.546875 4.84375 -2.59375 C 4.84375 -1.53125 4.328125 -1.015625 3.234375 -1.015625 C 2.078125 -1.015625 1.640625 -1.46875 1.5625 -2.828125 L 0.234375 -2.828125 C 0.375 -0.796875 1.453125 0.1875 3.1875 0.1875 C 4.9375 0.1875 6.203125 -1 6.203125 -2.609375 Z M 6.203125 -2.609375 \"/>\n",
       "</symbol>\n",
       "<symbol overflow=\"visible\" id=\"glyph1-19\">\n",
       "<path style=\"stroke:none;\" d=\"M 6.28125 -2.765625 C 6.28125 -4.359375 5.078125 -5.5625 3.546875 -5.5625 C 2.71875 -5.5625 1.9375 -5.203125 1.484375 -4.578125 L 1.734375 -4.46875 C 1.734375 -6.546875 2.28125 -7.578125 3.484375 -7.578125 C 4.234375 -7.578125 4.609375 -7.234375 4.796875 -6.28125 L 6.125 -6.28125 C 5.90625 -7.8125 4.859375 -8.765625 3.5625 -8.765625 C 1.578125 -8.765625 0.375 -6.96875 0.375 -4.015625 C 0.375 -1.359375 1.421875 0.1875 3.375 0.1875 C 4.984375 0.1875 6.28125 -1.109375 6.28125 -2.765625 Z M 4.9375 -2.6875 C 4.9375 -1.625 4.359375 -1.015625 3.390625 -1.015625 C 2.40625 -1.015625 1.78125 -1.65625 1.78125 -2.75 C 1.78125 -3.796875 2.375 -4.359375 3.421875 -4.359375 C 4.4375 -4.359375 4.9375 -3.828125 4.9375 -2.6875 Z M 4.9375 -2.6875 \"/>\n",
       "</symbol>\n",
       "<symbol overflow=\"visible\" id=\"glyph1-20\">\n",
       "<path style=\"stroke:none;\" d=\"M 6.375 -7.578125 L 6.375 -8.59375 L 0.40625 -8.59375 L 0.40625 -7.28125 L 4.859375 -7.28125 C 3.34375 -5.375 2.109375 -2.796875 1.46875 0 L 2.890625 0 C 3.390625 -2.875 4.546875 -5.359375 6.375 -7.53125 Z M 6.375 -7.578125 \"/>\n",
       "</symbol>\n",
       "<symbol overflow=\"visible\" id=\"glyph1-21\">\n",
       "<path style=\"stroke:none;\" d=\"M 6.28125 -2.53125 C 6.28125 -3.484375 5.671875 -4.265625 4.953125 -4.625 C 5.65625 -5.046875 5.984375 -5.5625 5.984375 -6.375 C 5.984375 -7.703125 4.8125 -8.765625 3.296875 -8.765625 C 1.796875 -8.765625 0.59375 -7.703125 0.59375 -6.375 C 0.59375 -5.578125 0.921875 -5.046875 1.625 -4.625 C 0.921875 -4.265625 0.296875 -3.484375 0.296875 -2.546875 C 0.296875 -0.984375 1.625 0.1875 3.296875 0.1875 C 4.984375 0.1875 6.28125 -0.984375 6.28125 -2.53125 Z M 4.625 -6.34375 C 4.625 -5.5625 4.1875 -5.15625 3.296875 -5.15625 C 2.40625 -5.15625 1.953125 -5.5625 1.953125 -6.359375 C 1.953125 -7.171875 2.40625 -7.578125 3.296875 -7.578125 C 4.203125 -7.578125 4.625 -7.171875 4.625 -6.34375 Z M 4.9375 -2.515625 C 4.9375 -1.515625 4.359375 -1.015625 3.28125 -1.015625 C 2.25 -1.015625 1.65625 -1.53125 1.65625 -2.515625 C 1.65625 -3.515625 2.25 -4.015625 3.296875 -4.015625 C 4.359375 -4.015625 4.9375 -3.515625 4.9375 -2.515625 Z M 4.9375 -2.515625 \"/>\n",
       "</symbol>\n",
       "</g>\n",
       "</defs>\n",
       "<g id=\"surface283\">\n",
       "<rect x=\"0\" y=\"0\" width=\"504\" height=\"504\" style=\"fill:rgb(100%,100%,100%);fill-opacity:1;stroke:none;\"/>\n",
       "<path style=\"fill:none;stroke-width:0.75;stroke-linecap:round;stroke-linejoin:round;stroke:rgb(0%,0%,0%);stroke-opacity:1;stroke-miterlimit:10;\" d=\"M 59.039062 420.800781 L 59.039062 118.578125 \"/>\n",
       "<path style=\"fill:none;stroke-width:0.75;stroke-linecap:round;stroke-linejoin:round;stroke:rgb(0%,0%,0%);stroke-opacity:1;stroke-miterlimit:10;\" d=\"M 59.039062 420.800781 L 51.839844 420.800781 \"/>\n",
       "<path style=\"fill:none;stroke-width:0.75;stroke-linecap:round;stroke-linejoin:round;stroke:rgb(0%,0%,0%);stroke-opacity:1;stroke-miterlimit:10;\" d=\"M 59.039062 360.355469 L 51.839844 360.355469 \"/>\n",
       "<path style=\"fill:none;stroke-width:0.75;stroke-linecap:round;stroke-linejoin:round;stroke:rgb(0%,0%,0%);stroke-opacity:1;stroke-miterlimit:10;\" d=\"M 59.039062 299.910156 L 51.839844 299.910156 \"/>\n",
       "<path style=\"fill:none;stroke-width:0.75;stroke-linecap:round;stroke-linejoin:round;stroke:rgb(0%,0%,0%);stroke-opacity:1;stroke-miterlimit:10;\" d=\"M 59.039062 239.46875 L 51.839844 239.46875 \"/>\n",
       "<path style=\"fill:none;stroke-width:0.75;stroke-linecap:round;stroke-linejoin:round;stroke:rgb(0%,0%,0%);stroke-opacity:1;stroke-miterlimit:10;\" d=\"M 59.039062 179.023438 L 51.839844 179.023438 \"/>\n",
       "<path style=\"fill:none;stroke-width:0.75;stroke-linecap:round;stroke-linejoin:round;stroke:rgb(0%,0%,0%);stroke-opacity:1;stroke-miterlimit:10;\" d=\"M 59.039062 118.578125 L 51.839844 118.578125 \"/>\n",
       "<g style=\"fill:rgb(0%,0%,0%);fill-opacity:1;\">\n",
       "  <use xlink:href=\"#glyph0-1\" x=\"41.538086\" y=\"429.300781\"/>\n",
       "  <use xlink:href=\"#glyph0-2\" x=\"41.538086\" y=\"422.628906\"/>\n",
       "  <use xlink:href=\"#glyph0-3\" x=\"41.538086\" y=\"419.292969\"/>\n",
       "</g>\n",
       "<g style=\"fill:rgb(0%,0%,0%);fill-opacity:1;\">\n",
       "  <use xlink:href=\"#glyph0-1\" x=\"41.538086\" y=\"368.855469\"/>\n",
       "  <use xlink:href=\"#glyph0-2\" x=\"41.538086\" y=\"362.183594\"/>\n",
       "  <use xlink:href=\"#glyph0-4\" x=\"41.538086\" y=\"358.847656\"/>\n",
       "</g>\n",
       "<g style=\"fill:rgb(0%,0%,0%);fill-opacity:1;\">\n",
       "  <use xlink:href=\"#glyph0-1\" x=\"41.538086\" y=\"308.410156\"/>\n",
       "  <use xlink:href=\"#glyph0-2\" x=\"41.538086\" y=\"301.738281\"/>\n",
       "  <use xlink:href=\"#glyph0-5\" x=\"41.538086\" y=\"298.402344\"/>\n",
       "</g>\n",
       "<g style=\"fill:rgb(0%,0%,0%);fill-opacity:1;\">\n",
       "  <use xlink:href=\"#glyph0-1\" x=\"41.538086\" y=\"247.96875\"/>\n",
       "  <use xlink:href=\"#glyph0-2\" x=\"41.538086\" y=\"241.296875\"/>\n",
       "  <use xlink:href=\"#glyph0-6\" x=\"41.538086\" y=\"237.960938\"/>\n",
       "</g>\n",
       "<g style=\"fill:rgb(0%,0%,0%);fill-opacity:1;\">\n",
       "  <use xlink:href=\"#glyph0-1\" x=\"41.538086\" y=\"187.523438\"/>\n",
       "  <use xlink:href=\"#glyph0-2\" x=\"41.538086\" y=\"180.851562\"/>\n",
       "  <use xlink:href=\"#glyph0-7\" x=\"41.538086\" y=\"177.515625\"/>\n",
       "</g>\n",
       "<g style=\"fill:rgb(0%,0%,0%);fill-opacity:1;\">\n",
       "  <use xlink:href=\"#glyph0-8\" x=\"41.538086\" y=\"127.078125\"/>\n",
       "  <use xlink:href=\"#glyph0-2\" x=\"41.538086\" y=\"120.40625\"/>\n",
       "  <use xlink:href=\"#glyph0-9\" x=\"41.538086\" y=\"117.070312\"/>\n",
       "</g>\n",
       "<path style=\"fill:none;stroke-width:0.75;stroke-linecap:round;stroke-linejoin:round;stroke:rgb(0%,0%,0%);stroke-opacity:1;stroke-miterlimit:10;\" d=\"M 59.039062 430.558594 L 473.761719 430.558594 L 473.761719 59.039062 L 59.039062 59.039062 L 59.039062 430.558594 \"/>\n",
       "<g style=\"fill:rgb(0%,0%,0%);fill-opacity:1;\">\n",
       "  <use xlink:href=\"#glyph1-1\" x=\"242.898438\" y=\"485.057617\"/>\n",
       "  <use xlink:href=\"#glyph1-2\" x=\"250.902344\" y=\"485.057617\"/>\n",
       "  <use xlink:href=\"#glyph1-3\" x=\"258.90625\" y=\"485.057617\"/>\n",
       "  <use xlink:href=\"#glyph1-4\" x=\"267.570312\" y=\"485.057617\"/>\n",
       "  <use xlink:href=\"#glyph1-5\" x=\"270.90625\" y=\"485.057617\"/>\n",
       "  <use xlink:href=\"#glyph1-6\" x=\"280.242188\" y=\"485.057617\"/>\n",
       "</g>\n",
       "<g style=\"fill:rgb(0%,0%,0%);fill-opacity:1;\">\n",
       "  <use xlink:href=\"#glyph0-10\" x=\"12.737305\" y=\"271.800781\"/>\n",
       "  <use xlink:href=\"#glyph0-11\" x=\"12.737305\" y=\"269.136719\"/>\n",
       "  <use xlink:href=\"#glyph0-12\" x=\"12.737305\" y=\"262.464844\"/>\n",
       "  <use xlink:href=\"#glyph0-13\" x=\"12.737305\" y=\"255.792969\"/>\n",
       "  <use xlink:href=\"#glyph0-14\" x=\"12.737305\" y=\"251.796875\"/>\n",
       "  <use xlink:href=\"#glyph0-15\" x=\"12.737305\" y=\"241.068359\"/>\n",
       "  <use xlink:href=\"#glyph0-16\" x=\"12.737305\" y=\"233.064453\"/>\n",
       "  <use xlink:href=\"#glyph0-17\" x=\"12.737305\" y=\"229.728516\"/>\n",
       "  <use xlink:href=\"#glyph0-18\" x=\"12.737305\" y=\"222.396484\"/>\n",
       "</g>\n",
       "<path style=\"fill:none;stroke-width:0.75;stroke-linecap:round;stroke-linejoin:round;stroke:rgb(0%,0%,100%);stroke-opacity:1;stroke-miterlimit:10;\" d=\"M 170.398438 140.859375 L 170.398438 115.445312 \"/>\n",
       "<path style=\"fill:none;stroke-width:0.75;stroke-linecap:round;stroke-linejoin:round;stroke:rgb(0%,0%,100%);stroke-opacity:1;stroke-miterlimit:10;\" d=\"M 165.359375 140.859375 L 175.441406 140.859375 \"/>\n",
       "<path style=\"fill:none;stroke-width:0.75;stroke-linecap:round;stroke-linejoin:round;stroke:rgb(0%,0%,100%);stroke-opacity:1;stroke-miterlimit:10;\" d=\"M 362.398438 416.800781 L 362.398438 385.570312 \"/>\n",
       "<path style=\"fill:none;stroke-width:0.75;stroke-linecap:round;stroke-linejoin:round;stroke:rgb(0%,0%,100%);stroke-opacity:1;stroke-miterlimit:10;\" d=\"M 357.359375 416.800781 L 367.441406 416.800781 \"/>\n",
       "<path style=\"fill:none;stroke-width:0.75;stroke-linecap:round;stroke-linejoin:round;stroke:rgb(0%,0%,100%);stroke-opacity:1;stroke-miterlimit:10;\" d=\"M 170.398438 72.800781 L 170.398438 98.214844 \"/>\n",
       "<path style=\"fill:none;stroke-width:0.75;stroke-linecap:round;stroke-linejoin:round;stroke:rgb(0%,0%,100%);stroke-opacity:1;stroke-miterlimit:10;\" d=\"M 175.441406 72.800781 L 165.359375 72.800781 \"/>\n",
       "<path style=\"fill:none;stroke-width:0.75;stroke-linecap:round;stroke-linejoin:round;stroke:rgb(0%,0%,100%);stroke-opacity:1;stroke-miterlimit:10;\" d=\"M 362.398438 337.105469 L 362.398438 368.335938 \"/>\n",
       "<path style=\"fill:none;stroke-width:0.75;stroke-linecap:round;stroke-linejoin:round;stroke:rgb(0%,0%,100%);stroke-opacity:1;stroke-miterlimit:10;\" d=\"M 367.441406 337.105469 L 357.359375 337.105469 \"/>\n",
       "<path style=\"fill:none;stroke-width:0.75;stroke-linecap:round;stroke-linejoin:round;stroke:rgb(0%,0%,0%);stroke-opacity:1;stroke-miterlimit:10;\" d=\"M 173.101562 106.828125 C 173.101562 110.429688 167.699219 110.429688 167.699219 106.828125 C 167.699219 103.230469 173.101562 103.230469 173.101562 106.828125 \"/>\n",
       "<path style=\"fill:none;stroke-width:0.75;stroke-linecap:round;stroke-linejoin:round;stroke:rgb(0%,0%,0%);stroke-opacity:1;stroke-miterlimit:10;\" d=\"M 365.101562 376.953125 C 365.101562 380.554688 359.699219 380.554688 359.699219 376.953125 C 359.699219 373.351562 365.101562 373.351562 365.101562 376.953125 \"/>\n",
       "<path style=\"fill:none;stroke-width:0.75;stroke-linecap:round;stroke-linejoin:round;stroke:rgb(0%,0%,0%);stroke-opacity:1;stroke-miterlimit:10;\" d=\"M 170.398438 430.558594 L 362.398438 430.558594 \"/>\n",
       "<path style=\"fill:none;stroke-width:0.75;stroke-linecap:round;stroke-linejoin:round;stroke:rgb(0%,0%,0%);stroke-opacity:1;stroke-miterlimit:10;\" d=\"M 170.398438 430.558594 L 170.398438 437.761719 \"/>\n",
       "<path style=\"fill:none;stroke-width:0.75;stroke-linecap:round;stroke-linejoin:round;stroke:rgb(0%,0%,0%);stroke-opacity:1;stroke-miterlimit:10;\" d=\"M 362.398438 430.558594 L 362.398438 437.761719 \"/>\n",
       "<g style=\"fill:rgb(0%,0%,0%);fill-opacity:1;\">\n",
       "  <use xlink:href=\"#glyph1-7\" x=\"145.898438\" y=\"456.256836\"/>\n",
       "  <use xlink:href=\"#glyph1-8\" x=\"152.810547\" y=\"456.256836\"/>\n",
       "  <use xlink:href=\"#glyph1-9\" x=\"159.482422\" y=\"456.256836\"/>\n",
       "  <use xlink:href=\"#glyph1-9\" x=\"162.146484\" y=\"456.256836\"/>\n",
       "  <use xlink:href=\"#glyph1-10\" x=\"164.810547\" y=\"456.256836\"/>\n",
       "  <use xlink:href=\"#glyph1-11\" x=\"168.146484\" y=\"456.256836\"/>\n",
       "  <use xlink:href=\"#glyph1-12\" x=\"174.818359\" y=\"456.256836\"/>\n",
       "  <use xlink:href=\"#glyph1-13\" x=\"181.490234\" y=\"456.256836\"/>\n",
       "  <use xlink:href=\"#glyph1-14\" x=\"188.162109\" y=\"456.256836\"/>\n",
       "</g>\n",
       "<g style=\"fill:rgb(0%,0%,0%);fill-opacity:1;\">\n",
       "  <use xlink:href=\"#glyph1-7\" x=\"337.898438\" y=\"456.256836\"/>\n",
       "  <use xlink:href=\"#glyph1-8\" x=\"344.810547\" y=\"456.256836\"/>\n",
       "  <use xlink:href=\"#glyph1-9\" x=\"351.482422\" y=\"456.256836\"/>\n",
       "  <use xlink:href=\"#glyph1-9\" x=\"354.146484\" y=\"456.256836\"/>\n",
       "  <use xlink:href=\"#glyph1-10\" x=\"356.810547\" y=\"456.256836\"/>\n",
       "  <use xlink:href=\"#glyph1-11\" x=\"360.146484\" y=\"456.256836\"/>\n",
       "  <use xlink:href=\"#glyph1-12\" x=\"366.818359\" y=\"456.256836\"/>\n",
       "  <use xlink:href=\"#glyph1-13\" x=\"373.490234\" y=\"456.256836\"/>\n",
       "  <use xlink:href=\"#glyph1-15\" x=\"380.162109\" y=\"456.256836\"/>\n",
       "</g>\n",
       "<g style=\"fill:rgb(0%,0%,0%);fill-opacity:1;\">\n",
       "  <use xlink:href=\"#glyph1-16\" x=\"149.898438\" y=\"428.135742\"/>\n",
       "  <use xlink:href=\"#glyph1-17\" x=\"156.570312\" y=\"428.135742\"/>\n",
       "  <use xlink:href=\"#glyph1-18\" x=\"163.578125\" y=\"428.135742\"/>\n",
       "  <use xlink:href=\"#glyph1-19\" x=\"170.25\" y=\"428.135742\"/>\n",
       "  <use xlink:href=\"#glyph1-12\" x=\"176.921875\" y=\"428.135742\"/>\n",
       "  <use xlink:href=\"#glyph1-20\" x=\"183.59375\" y=\"428.135742\"/>\n",
       "</g>\n",
       "<g style=\"fill:rgb(0%,0%,0%);fill-opacity:1;\">\n",
       "  <use xlink:href=\"#glyph1-16\" x=\"341.898438\" y=\"428.135742\"/>\n",
       "  <use xlink:href=\"#glyph1-17\" x=\"348.570312\" y=\"428.135742\"/>\n",
       "  <use xlink:href=\"#glyph1-18\" x=\"355.578125\" y=\"428.135742\"/>\n",
       "  <use xlink:href=\"#glyph1-11\" x=\"362.25\" y=\"428.135742\"/>\n",
       "  <use xlink:href=\"#glyph1-11\" x=\"368.921875\" y=\"428.135742\"/>\n",
       "  <use xlink:href=\"#glyph1-21\" x=\"375.59375\" y=\"428.135742\"/>\n",
       "</g>\n",
       "<path style=\"fill:none;stroke-width:0.75;stroke-linecap:round;stroke-linejoin:round;stroke:rgb(0%,0%,0%);stroke-opacity:1;stroke-miterlimit:10;\" d=\"M 170.398438 106.828125 L 362.398438 376.953125 \"/>\n",
       "</g>\n",
       "</svg>\n"
      ],
      "text/plain": [
       "plot without title"
      ]
     },
     "metadata": {
      "image/svg+xml": {
       "isolated": true
      }
     },
     "output_type": "display_data"
    },
    {
     "data": {
      "image/png": "[encoded data removed]",
      "image/svg+xml": [
       "<?xml version=\"1.0\" encoding=\"UTF-8\"?>\n",
       "<svg xmlns=\"http://www.w3.org/2000/svg\" xmlns:xlink=\"http://www.w3.org/1999/xlink\" width=\"504pt\" height=\"504pt\" viewBox=\"0 0 504 504\" version=\"1.1\">\n",
       "<defs>\n",
       "<g>\n",
       "<symbol overflow=\"visible\" id=\"glyph0-0\">\n",
       "<path style=\"stroke:none;\" d=\"\"/>\n",
       "</symbol>\n",
       "<symbol overflow=\"visible\" id=\"glyph0-1\">\n",
       "<path style=\"stroke:none;\" d=\"M -0.125 -4.296875 L -8.765625 -4.296875 L -8.765625 -3.359375 C -7.328125 -2.953125 -7.28125 -2.859375 -7.0625 -1.078125 L -6.0625 -1.078125 L -6.0625 -2.96875 L 0 -2.96875 L 0 -4.296875 Z M -0.125 -4.296875 \"/>\n",
       "</symbol>\n",
       "<symbol overflow=\"visible\" id=\"glyph0-2\">\n",
       "<path style=\"stroke:none;\" d=\"M -2.953125 -6.28125 C -4.625 -6.28125 -5.875 -5.046875 -5.875 -3.40625 C -5.875 -2.8125 -5.671875 -2.21875 -5.515625 -2.015625 L -7.28125 -2.28125 L -7.28125 -5.84375 L -8.59375 -5.84375 L -8.59375 -1.203125 L -3.875 -0.515625 L -3.875 -1.71875 C -4.5 -2.25 -4.671875 -2.5625 -4.671875 -3.21875 C -4.671875 -4.359375 -4.0625 -4.9375 -2.8125 -4.9375 C -1.578125 -4.9375 -1.015625 -4.375 -1.015625 -3.21875 C -1.015625 -2.296875 -1.359375 -1.859375 -2.453125 -1.578125 L -2.453125 -0.25 C -0.625 -0.625 0.1875 -1.734375 0.1875 -3.234375 C 0.1875 -4.953125 -1.15625 -6.28125 -2.953125 -6.28125 Z M -2.953125 -6.28125 \"/>\n",
       "</symbol>\n",
       "<symbol overflow=\"visible\" id=\"glyph0-3\">\n",
       "<path style=\"stroke:none;\" d=\"M -2.765625 -6.28125 C -4.359375 -6.28125 -5.5625 -5.078125 -5.5625 -3.546875 C -5.5625 -2.71875 -5.203125 -1.9375 -4.578125 -1.484375 L -4.46875 -1.734375 C -6.546875 -1.734375 -7.578125 -2.28125 -7.578125 -3.484375 C -7.578125 -4.234375 -7.234375 -4.609375 -6.28125 -4.796875 L -6.28125 -6.125 C -7.8125 -5.90625 -8.765625 -4.859375 -8.765625 -3.5625 C -8.765625 -1.578125 -6.96875 -0.375 -4.015625 -0.375 C -1.359375 -0.375 0.1875 -1.421875 0.1875 -3.375 C 0.1875 -4.984375 -1.109375 -6.28125 -2.765625 -6.28125 Z M -2.6875 -4.9375 C -1.625 -4.9375 -1.015625 -4.359375 -1.015625 -3.390625 C -1.015625 -2.40625 -1.65625 -1.78125 -2.75 -1.78125 C -3.796875 -1.78125 -4.359375 -2.375 -4.359375 -3.421875 C -4.359375 -4.4375 -3.828125 -4.9375 -2.6875 -4.9375 Z M -2.6875 -4.9375 \"/>\n",
       "</symbol>\n",
       "<symbol overflow=\"visible\" id=\"glyph0-4\">\n",
       "<path style=\"stroke:none;\" d=\"M -7.578125 -6.375 L -8.59375 -6.375 L -8.59375 -0.40625 L -7.28125 -0.40625 L -7.28125 -4.859375 C -5.375 -3.34375 -2.796875 -2.109375 0 -1.46875 L 0 -2.890625 C -2.875 -3.390625 -5.359375 -4.546875 -7.53125 -6.375 Z M -7.578125 -6.375 \"/>\n",
       "</symbol>\n",
       "<symbol overflow=\"visible\" id=\"glyph0-5\">\n",
       "<path style=\"stroke:none;\" d=\"M -2.53125 -6.28125 C -3.484375 -6.28125 -4.265625 -5.671875 -4.625 -4.953125 C -5.046875 -5.65625 -5.5625 -5.984375 -6.375 -5.984375 C -7.703125 -5.984375 -8.765625 -4.8125 -8.765625 -3.296875 C -8.765625 -1.796875 -7.703125 -0.59375 -6.375 -0.59375 C -5.578125 -0.59375 -5.046875 -0.921875 -4.625 -1.625 C -4.265625 -0.921875 -3.484375 -0.296875 -2.546875 -0.296875 C -0.984375 -0.296875 0.1875 -1.625 0.1875 -3.296875 C 0.1875 -4.984375 -0.984375 -6.28125 -2.53125 -6.28125 Z M -6.34375 -4.625 C -5.5625 -4.625 -5.15625 -4.1875 -5.15625 -3.296875 C -5.15625 -2.40625 -5.5625 -1.953125 -6.359375 -1.953125 C -7.171875 -1.953125 -7.578125 -2.40625 -7.578125 -3.296875 C -7.578125 -4.203125 -7.171875 -4.625 -6.34375 -4.625 Z M -2.515625 -4.9375 C -1.515625 -4.9375 -1.015625 -4.359375 -1.015625 -3.28125 C -1.015625 -2.25 -1.53125 -1.65625 -2.515625 -1.65625 C -3.515625 -1.65625 -4.015625 -2.25 -4.015625 -3.296875 C -4.015625 -4.359375 -3.515625 -4.9375 -2.515625 -4.9375 Z M -2.515625 -4.9375 \"/>\n",
       "</symbol>\n",
       "<symbol overflow=\"visible\" id=\"glyph0-6\">\n",
       "<path style=\"stroke:none;\" d=\"M -4.578125 -6.234375 C -7.25 -6.234375 -8.765625 -5.1875 -8.765625 -3.234375 C -8.765625 -1.625 -7.484375 -0.3125 -5.8125 -0.3125 C -4.234375 -0.3125 -3.03125 -1.53125 -3.03125 -3.078125 C -3.03125 -3.875 -3.359375 -4.5625 -4.015625 -5.109375 L -4.109375 -4.875 C -2.046875 -4.859375 -1.015625 -4.328125 -1.015625 -3.125 C -1.015625 -2.375 -1.359375 -1.984375 -2.296875 -1.796875 L -2.296875 -0.46875 C -0.78125 -0.703125 0.1875 -1.75 0.1875 -3.046875 C 0.1875 -5.046875 -1.640625 -6.234375 -4.578125 -6.234375 Z M -5.84375 -4.8125 C -4.796875 -4.8125 -4.234375 -4.21875 -4.234375 -3.1875 C -4.234375 -2.171875 -4.765625 -1.671875 -5.90625 -1.671875 C -6.984375 -1.671875 -7.578125 -2.25 -7.578125 -3.234375 C -7.578125 -4.21875 -6.953125 -4.8125 -5.84375 -4.8125 Z M -5.84375 -4.8125 \"/>\n",
       "</symbol>\n",
       "<symbol overflow=\"visible\" id=\"glyph0-7\">\n",
       "<path style=\"stroke:none;\" d=\"M -6.140625 -6.265625 C -7.578125 -6.265625 -8.765625 -5.015625 -8.765625 -3.40625 C -8.765625 -1.671875 -7.75 -0.515625 -5.5625 -0.453125 L -5.5625 -1.78125 C -7.109375 -1.875 -7.578125 -2.328125 -7.578125 -3.375 C -7.578125 -4.328125 -7.03125 -4.90625 -6.125 -4.90625 C -5.453125 -4.90625 -4.96875 -4.546875 -4.53125 -3.796875 L -3.90625 -2.6875 C -2.90625 -0.90625 -2 -0.359375 0 -0.25 L 0 -6.203125 L -1.3125 -6.203125 L -1.3125 -1.75 C -1.875 -1.84375 -2.21875 -2.1875 -2.828125 -3.234375 L -3.484375 -4.421875 C -4.109375 -5.609375 -5.09375 -6.265625 -6.140625 -6.265625 Z M -6.140625 -6.265625 \"/>\n",
       "</symbol>\n",
       "<symbol overflow=\"visible\" id=\"glyph0-8\">\n",
       "<path style=\"stroke:none;\" d=\"M -4.21875 -6.21875 C -7.171875 -6.21875 -8.765625 -5.140625 -8.765625 -3.296875 C -8.765625 -1.46875 -7.15625 -0.375 -4.296875 -0.375 C -1.421875 -0.375 0.1875 -1.46875 0.1875 -3.296875 C 0.1875 -5.09375 -1.421875 -6.21875 -4.21875 -6.21875 Z M -4.3125 -4.859375 C -1.90625 -4.859375 -0.953125 -4.453125 -0.953125 -3.28125 C -0.953125 -2.15625 -1.953125 -1.734375 -4.28125 -1.734375 C -6.609375 -1.734375 -7.578125 -2.15625 -7.578125 -3.296875 C -7.578125 -4.4375 -6.59375 -4.859375 -4.3125 -4.859375 Z M -4.3125 -4.859375 \"/>\n",
       "</symbol>\n",
       "<symbol overflow=\"visible\" id=\"glyph0-9\">\n",
       "<path style=\"stroke:none;\" d=\"M -9.015625 -11.140625 L -9.015625 -9.796875 L -1.78125 -8.140625 L -1.78125 -8.421875 L -9.015625 -6.390625 L -9.015625 -4.984375 L -1.78125 -3.015625 L -1.78125 -3.28125 L -9.015625 -1.609375 L -9.015625 -0.078125 L 0 -2.40625 L 0 -3.828125 L -7.3125 -5.8125 L -7.3125 -5.546875 L 0 -7.59375 L 0 -9.03125 L -9.015625 -11.3125 Z M -9.015625 -11.140625 \"/>\n",
       "</symbol>\n",
       "<symbol overflow=\"visible\" id=\"glyph0-10\">\n",
       "<path style=\"stroke:none;\" d=\"M -0.125 -7.96875 L -9.015625 -4.84375 L -9.015625 -3.234375 L 0 -0.015625 L 0 -1.46875 L -2.625 -2.40625 L -2.625 -5.59375 L 0 -6.484375 L 0 -8.015625 Z M -3.828125 -5.375 L -3.828125 -2.765625 L -7.6875 -4.15625 L -7.6875 -3.890625 L -3.828125 -5.1875 Z M -3.828125 -5.375 \"/>\n",
       "</symbol>\n",
       "<symbol overflow=\"visible\" id=\"glyph0-11\">\n",
       "<path style=\"stroke:none;\" d=\"M -0.125 -2.453125 L -9.015625 -2.453125 L -9.015625 -1.0625 L 0 -1.0625 L 0 -2.453125 Z M -0.125 -2.453125 \"/>\n",
       "</symbol>\n",
       "<symbol overflow=\"visible\" id=\"glyph0-12\">\n",
       "<path style=\"stroke:none;\" d=\"M -7.890625 -7.25 L -9.015625 -7.25 L -9.015625 -0.109375 L -7.765625 -0.109375 L -7.765625 -2.984375 L 0 -2.984375 L 0 -4.375 L -7.765625 -4.375 L -7.765625 -7.25 Z M -7.890625 -7.25 \"/>\n",
       "</symbol>\n",
       "<symbol overflow=\"visible\" id=\"glyph1-0\">\n",
       "<path style=\"stroke:none;\" d=\"\"/>\n",
       "</symbol>\n",
       "<symbol overflow=\"visible\" id=\"glyph1-1\">\n",
       "<path style=\"stroke:none;\" d=\"M 7.53125 -6.3125 C 7.53125 -7.953125 6.4375 -9.015625 4.703125 -9.015625 L 0.953125 -9.015625 L 0.953125 0 L 2.34375 0 L 2.34375 -3.703125 L 4.953125 -3.703125 C 6.390625 -3.703125 7.53125 -4.859375 7.53125 -6.3125 Z M 6.09375 -6.359375 C 6.09375 -5.40625 5.609375 -4.953125 4.53125 -4.953125 L 2.34375 -4.953125 L 2.34375 -7.765625 L 4.53125 -7.765625 C 5.609375 -7.765625 6.09375 -7.3125 6.09375 -6.359375 Z M 6.09375 -6.359375 \"/>\n",
       "</symbol>\n",
       "<symbol overflow=\"visible\" id=\"glyph1-2\">\n",
       "<path style=\"stroke:none;\" d=\"M 7.484375 -0.125 L 7.484375 -1.25 L 2.328125 -1.25 L 2.328125 -3.984375 L 7.09375 -3.984375 L 7.09375 -5.234375 L 2.328125 -5.234375 L 2.328125 -7.765625 L 7.265625 -7.765625 L 7.265625 -9.015625 L 0.9375 -9.015625 L 0.9375 0 L 7.484375 0 Z M 7.484375 -0.125 \"/>\n",
       "</symbol>\n",
       "<symbol overflow=\"visible\" id=\"glyph1-3\">\n",
       "<path style=\"stroke:none;\" d=\"M 8.28125 -0.125 L 8.28125 -0.484375 C 7.828125 -0.796875 7.765625 -1.015625 7.75 -2.171875 C 7.734375 -3.609375 7.375 -4.171875 6.4375 -4.578125 L 6.4375 -4.3125 C 7.421875 -4.796875 7.9375 -5.546875 7.9375 -6.546875 C 7.9375 -8.046875 6.859375 -9.015625 5.140625 -9.015625 L 0.96875 -9.015625 L 0.96875 0 L 2.359375 0 L 2.359375 -3.765625 L 5.109375 -3.765625 C 6.09375 -3.765625 6.421875 -3.421875 6.40625 -2.34375 L 6.390625 -1.5625 C 6.390625 -1.015625 6.484375 -0.484375 6.703125 0 L 8.28125 0 Z M 6.5 -6.390625 C 6.5 -5.359375 6.125 -5.015625 4.9375 -5.015625 L 2.359375 -5.015625 L 2.359375 -7.765625 L 4.9375 -7.765625 C 6.1875 -7.765625 6.5 -7.375 6.5 -6.390625 Z M 6.5 -6.390625 \"/>\n",
       "</symbol>\n",
       "<symbol overflow=\"visible\" id=\"glyph1-4\">\n",
       "<path style=\"stroke:none;\" d=\"M 2.453125 -0.125 L 2.453125 -9.015625 L 1.0625 -9.015625 L 1.0625 0 L 2.453125 0 Z M 2.453125 -0.125 \"/>\n",
       "</symbol>\n",
       "<symbol overflow=\"visible\" id=\"glyph1-5\">\n",
       "<path style=\"stroke:none;\" d=\"M 9.03125 -4.375 C 9.03125 -7.1875 7.234375 -9.234375 4.671875 -9.234375 C 2.15625 -9.234375 0.3125 -7.171875 0.3125 -4.4375 C 0.3125 -1.703125 2.15625 0.21875 4.6875 0.21875 C 7.25 0.21875 9.03125 -1.796875 9.03125 -4.375 Z M 7.640625 -4.390625 C 7.640625 -2.28125 6.53125 -1.03125 4.6875 -1.03125 C 2.8125 -1.03125 1.703125 -2.28125 1.703125 -4.4375 C 1.703125 -6.59375 2.8125 -7.984375 4.671875 -7.984375 C 6.5625 -7.984375 7.640625 -6.59375 7.640625 -4.390625 Z M 7.640625 -4.390625 \"/>\n",
       "</symbol>\n",
       "<symbol overflow=\"visible\" id=\"glyph1-6\">\n",
       "<path style=\"stroke:none;\" d=\"M 8.140625 -4.515625 C 8.140625 -7.21875 6.65625 -9.015625 4.4375 -9.015625 L 0.921875 -9.015625 L 0.921875 0 L 4.4375 0 C 6.640625 0 8.140625 -1.78125 8.140625 -4.515625 Z M 6.75 -4.5 C 6.75 -2.296875 5.96875 -1.25 4.25 -1.25 L 2.3125 -1.25 L 2.3125 -7.765625 L 4.25 -7.765625 C 5.96875 -7.765625 6.75 -6.734375 6.75 -4.5 Z M 6.75 -4.5 \"/>\n",
       "</symbol>\n",
       "<symbol overflow=\"visible\" id=\"glyph1-7\">\n",
       "<path style=\"stroke:none;\" d=\"M 7.078125 -7.890625 L 7.078125 -9.015625 L 0.9375 -9.015625 L 0.9375 0 L 2.328125 0 L 2.328125 -3.984375 L 6.5 -3.984375 L 6.5 -5.234375 L 2.328125 -5.234375 L 2.328125 -7.765625 L 7.078125 -7.765625 Z M 7.078125 -7.890625 \"/>\n",
       "</symbol>\n",
       "<symbol overflow=\"visible\" id=\"glyph1-8\">\n",
       "<path style=\"stroke:none;\" d=\"M 6.546875 -0.15625 L 6.546875 -1.078125 C 6.3125 -1.015625 6.265625 -1.015625 6.203125 -1.015625 C 5.859375 -1.015625 5.796875 -1.0625 5.796875 -1.375 L 5.796875 -4.890625 C 5.796875 -6 4.84375 -6.734375 3.296875 -6.734375 C 1.78125 -6.734375 0.703125 -6.015625 0.640625 -4.421875 L 1.90625 -4.421875 C 2 -5.328125 2.328125 -5.546875 3.265625 -5.546875 C 4.15625 -5.546875 4.53125 -5.34375 4.53125 -4.734375 L 4.53125 -4.46875 C 4.53125 -4.0625 4.421875 -4.015625 3.625 -3.90625 C 2.203125 -3.734375 1.984375 -3.6875 1.609375 -3.53125 C 0.875 -3.234375 0.359375 -2.53125 0.359375 -1.765625 C 0.359375 -0.625 1.296875 0.1875 2.5625 0.1875 C 3.375 0.1875 4.25 -0.1875 4.625 -0.59375 C 4.671875 -0.390625 5.25 0.078125 5.734375 0.078125 C 5.9375 0.078125 6.09375 0.0625 6.546875 -0.046875 Z M 4.53125 -2.296875 C 4.53125 -1.40625 3.75 -0.953125 2.78125 -0.953125 C 2 -0.953125 1.6875 -1.109375 1.6875 -1.78125 C 1.6875 -2.453125 1.984375 -2.609375 3.0625 -2.765625 C 4.109375 -2.90625 4.328125 -2.953125 4.53125 -3.03125 Z M 4.53125 -2.296875 \"/>\n",
       "</symbol>\n",
       "<symbol overflow=\"visible\" id=\"glyph1-9\">\n",
       "<path style=\"stroke:none;\" d=\"M 1.9375 -0.125 L 1.9375 -9.015625 L 0.671875 -9.015625 L 0.671875 0 L 1.9375 0 Z M 1.9375 -0.125 \"/>\n",
       "</symbol>\n",
       "<symbol overflow=\"visible\" id=\"glyph1-10\">\n",
       "<path style=\"stroke:none;\" d=\"\"/>\n",
       "</symbol>\n",
       "<symbol overflow=\"visible\" id=\"glyph1-11\">\n",
       "<path style=\"stroke:none;\" d=\"M 6.265625 -6.140625 C 6.265625 -7.578125 5.015625 -8.765625 3.40625 -8.765625 C 1.671875 -8.765625 0.515625 -7.75 0.453125 -5.5625 L 1.78125 -5.5625 C 1.875 -7.109375 2.328125 -7.578125 3.375 -7.578125 C 4.328125 -7.578125 4.90625 -7.03125 4.90625 -6.125 C 4.90625 -5.453125 4.546875 -4.96875 3.796875 -4.53125 L 2.6875 -3.90625 C 0.90625 -2.90625 0.359375 -2 0.25 0 L 6.203125 0 L 6.203125 -1.3125 L 1.75 -1.3125 C 1.84375 -1.875 2.1875 -2.21875 3.234375 -2.828125 L 4.421875 -3.484375 C 5.609375 -4.109375 6.265625 -5.09375 6.265625 -6.140625 Z M 6.265625 -6.140625 \"/>\n",
       "</symbol>\n",
       "<symbol overflow=\"visible\" id=\"glyph1-12\">\n",
       "<path style=\"stroke:none;\" d=\"M 6.21875 -4.21875 C 6.21875 -7.171875 5.140625 -8.765625 3.296875 -8.765625 C 1.46875 -8.765625 0.375 -7.15625 0.375 -4.296875 C 0.375 -1.421875 1.46875 0.1875 3.296875 0.1875 C 5.09375 0.1875 6.21875 -1.421875 6.21875 -4.21875 Z M 4.859375 -4.3125 C 4.859375 -1.90625 4.453125 -0.953125 3.28125 -0.953125 C 2.15625 -0.953125 1.734375 -1.953125 1.734375 -4.28125 C 1.734375 -6.609375 2.15625 -7.578125 3.296875 -7.578125 C 4.4375 -7.578125 4.859375 -6.59375 4.859375 -4.3125 Z M 4.859375 -4.3125 \"/>\n",
       "</symbol>\n",
       "<symbol overflow=\"visible\" id=\"glyph1-13\">\n",
       "<path style=\"stroke:none;\" d=\"M 4.296875 -0.125 L 4.296875 -8.765625 L 3.359375 -8.765625 C 2.953125 -7.328125 2.859375 -7.28125 1.078125 -7.0625 L 1.078125 -6.0625 L 2.96875 -6.0625 L 2.96875 0 L 4.296875 0 Z M 4.296875 -0.125 \"/>\n",
       "</symbol>\n",
       "<symbol overflow=\"visible\" id=\"glyph1-14\">\n",
       "<path style=\"stroke:none;\" d=\"M 6.375 -2.171875 L 6.375 -3.25 L 5.109375 -3.25 L 5.109375 -8.765625 L 4.125 -8.765625 L 0.1875 -3.328125 L 0.1875 -2.046875 L 3.78125 -2.046875 L 3.78125 0 L 5.109375 0 L 5.109375 -2.046875 L 6.375 -2.046875 Z M 3.921875 -3.25 L 1.515625 -3.25 L 4.015625 -6.75 L 3.78125 -6.84375 L 3.78125 -3.25 Z M 3.921875 -3.25 \"/>\n",
       "</symbol>\n",
       "<symbol overflow=\"visible\" id=\"glyph1-15\">\n",
       "<path style=\"stroke:none;\" d=\"M 6.28125 -2.953125 C 6.28125 -4.625 5.046875 -5.875 3.40625 -5.875 C 2.8125 -5.875 2.21875 -5.671875 2.015625 -5.515625 L 2.28125 -7.28125 L 5.84375 -7.28125 L 5.84375 -8.59375 L 1.203125 -8.59375 L 0.515625 -3.875 L 1.71875 -3.875 C 2.25 -4.5 2.5625 -4.671875 3.21875 -4.671875 C 4.359375 -4.671875 4.9375 -4.0625 4.9375 -2.8125 C 4.9375 -1.578125 4.375 -1.015625 3.21875 -1.015625 C 2.296875 -1.015625 1.859375 -1.359375 1.578125 -2.453125 L 0.25 -2.453125 C 0.625 -0.625 1.734375 0.1875 3.234375 0.1875 C 4.953125 0.1875 6.28125 -1.15625 6.28125 -2.953125 Z M 6.28125 -2.953125 \"/>\n",
       "</symbol>\n",
       "<symbol overflow=\"visible\" id=\"glyph1-16\">\n",
       "<path style=\"stroke:none;\" d=\"M 5.96875 -0.125 L 5.96875 -4.890625 C 5.96875 -5.921875 5.0625 -6.734375 3.859375 -6.734375 C 2.921875 -6.734375 2.203125 -6.34375 1.65625 -5.453125 L 1.890625 -5.359375 L 1.890625 -6.546875 L 0.703125 -6.546875 L 0.703125 0 L 1.96875 0 L 1.96875 -3.59375 C 1.96875 -4.890625 2.53125 -5.59375 3.546875 -5.59375 C 4.34375 -5.59375 4.703125 -5.25 4.703125 -4.484375 L 4.703125 0 L 5.96875 0 Z M 5.96875 -0.125 \"/>\n",
       "</symbol>\n",
       "<symbol overflow=\"visible\" id=\"glyph1-17\">\n",
       "<path style=\"stroke:none;\" d=\"M 6.328125 -3.8125 L 6.328125 -4.765625 L 0.671875 -4.765625 L 0.671875 -3.6875 L 6.328125 -3.6875 Z M 6.328125 -1.625 L 6.328125 -2.578125 L 0.671875 -2.578125 L 0.671875 -1.5 L 6.328125 -1.5 Z M 6.328125 -1.625 \"/>\n",
       "</symbol>\n",
       "<symbol overflow=\"visible\" id=\"glyph1-18\">\n",
       "<path style=\"stroke:none;\" d=\"M 6.203125 -2.609375 C 6.203125 -3.640625 5.65625 -4.375 4.625 -4.71875 L 4.625 -4.453125 C 5.421875 -4.765625 5.953125 -5.453125 5.953125 -6.296875 C 5.953125 -7.765625 4.84375 -8.765625 3.234375 -8.765625 C 1.515625 -8.765625 0.453125 -7.703125 0.421875 -5.765625 L 1.75 -5.765625 C 1.78125 -7.15625 2.15625 -7.578125 3.234375 -7.578125 C 4.171875 -7.578125 4.59375 -7.15625 4.59375 -6.265625 C 4.59375 -5.359375 4.34375 -5.109375 2.515625 -5.109375 L 2.515625 -3.953125 L 3.234375 -3.953125 C 4.390625 -3.953125 4.84375 -3.546875 4.84375 -2.59375 C 4.84375 -1.53125 4.328125 -1.015625 3.234375 -1.015625 C 2.078125 -1.015625 1.640625 -1.46875 1.5625 -2.828125 L 0.234375 -2.828125 C 0.375 -0.796875 1.453125 0.1875 3.1875 0.1875 C 4.9375 0.1875 6.203125 -1 6.203125 -2.609375 Z M 6.203125 -2.609375 \"/>\n",
       "</symbol>\n",
       "<symbol overflow=\"visible\" id=\"glyph1-19\">\n",
       "<path style=\"stroke:none;\" d=\"M 6.28125 -2.765625 C 6.28125 -4.359375 5.078125 -5.5625 3.546875 -5.5625 C 2.71875 -5.5625 1.9375 -5.203125 1.484375 -4.578125 L 1.734375 -4.46875 C 1.734375 -6.546875 2.28125 -7.578125 3.484375 -7.578125 C 4.234375 -7.578125 4.609375 -7.234375 4.796875 -6.28125 L 6.125 -6.28125 C 5.90625 -7.8125 4.859375 -8.765625 3.5625 -8.765625 C 1.578125 -8.765625 0.375 -6.96875 0.375 -4.015625 C 0.375 -1.359375 1.421875 0.1875 3.375 0.1875 C 4.984375 0.1875 6.28125 -1.109375 6.28125 -2.765625 Z M 4.9375 -2.6875 C 4.9375 -1.625 4.359375 -1.015625 3.390625 -1.015625 C 2.40625 -1.015625 1.78125 -1.65625 1.78125 -2.75 C 1.78125 -3.796875 2.375 -4.359375 3.421875 -4.359375 C 4.4375 -4.359375 4.9375 -3.828125 4.9375 -2.6875 Z M 4.9375 -2.6875 \"/>\n",
       "</symbol>\n",
       "<symbol overflow=\"visible\" id=\"glyph1-20\">\n",
       "<path style=\"stroke:none;\" d=\"M 6.375 -7.578125 L 6.375 -8.59375 L 0.40625 -8.59375 L 0.40625 -7.28125 L 4.859375 -7.28125 C 3.34375 -5.375 2.109375 -2.796875 1.46875 0 L 2.890625 0 C 3.390625 -2.875 4.546875 -5.359375 6.375 -7.53125 Z M 6.375 -7.578125 \"/>\n",
       "</symbol>\n",
       "<symbol overflow=\"visible\" id=\"glyph1-21\">\n",
       "<path style=\"stroke:none;\" d=\"M 6.28125 -2.53125 C 6.28125 -3.484375 5.671875 -4.265625 4.953125 -4.625 C 5.65625 -5.046875 5.984375 -5.5625 5.984375 -6.375 C 5.984375 -7.703125 4.8125 -8.765625 3.296875 -8.765625 C 1.796875 -8.765625 0.59375 -7.703125 0.59375 -6.375 C 0.59375 -5.578125 0.921875 -5.046875 1.625 -4.625 C 0.921875 -4.265625 0.296875 -3.484375 0.296875 -2.546875 C 0.296875 -0.984375 1.625 0.1875 3.296875 0.1875 C 4.984375 0.1875 6.28125 -0.984375 6.28125 -2.53125 Z M 4.625 -6.34375 C 4.625 -5.5625 4.1875 -5.15625 3.296875 -5.15625 C 2.40625 -5.15625 1.953125 -5.5625 1.953125 -6.359375 C 1.953125 -7.171875 2.40625 -7.578125 3.296875 -7.578125 C 4.203125 -7.578125 4.625 -7.171875 4.625 -6.34375 Z M 4.9375 -2.515625 C 4.9375 -1.515625 4.359375 -1.015625 3.28125 -1.015625 C 2.25 -1.015625 1.65625 -1.53125 1.65625 -2.515625 C 1.65625 -3.515625 2.25 -4.015625 3.296875 -4.015625 C 4.359375 -4.015625 4.9375 -3.515625 4.9375 -2.515625 Z M 4.9375 -2.515625 \"/>\n",
       "</symbol>\n",
       "</g>\n",
       "</defs>\n",
       "<g id=\"surface301\">\n",
       "<rect x=\"0\" y=\"0\" width=\"504\" height=\"504\" style=\"fill:rgb(100%,100%,100%);fill-opacity:1;stroke:none;\"/>\n",
       "<path style=\"fill:none;stroke-width:0.75;stroke-linecap:round;stroke-linejoin:round;stroke:rgb(0%,0%,0%);stroke-opacity:1;stroke-miterlimit:10;\" d=\"M 59.039062 413.917969 L 59.039062 67.109375 \"/>\n",
       "<path style=\"fill:none;stroke-width:0.75;stroke-linecap:round;stroke-linejoin:round;stroke:rgb(0%,0%,0%);stroke-opacity:1;stroke-miterlimit:10;\" d=\"M 59.039062 413.917969 L 51.839844 413.917969 \"/>\n",
       "<path style=\"fill:none;stroke-width:0.75;stroke-linecap:round;stroke-linejoin:round;stroke:rgb(0%,0%,0%);stroke-opacity:1;stroke-miterlimit:10;\" d=\"M 59.039062 344.558594 L 51.839844 344.558594 \"/>\n",
       "<path style=\"fill:none;stroke-width:0.75;stroke-linecap:round;stroke-linejoin:round;stroke:rgb(0%,0%,0%);stroke-opacity:1;stroke-miterlimit:10;\" d=\"M 59.039062 275.195312 L 51.839844 275.195312 \"/>\n",
       "<path style=\"fill:none;stroke-width:0.75;stroke-linecap:round;stroke-linejoin:round;stroke:rgb(0%,0%,0%);stroke-opacity:1;stroke-miterlimit:10;\" d=\"M 59.039062 205.832031 L 51.839844 205.832031 \"/>\n",
       "<path style=\"fill:none;stroke-width:0.75;stroke-linecap:round;stroke-linejoin:round;stroke:rgb(0%,0%,0%);stroke-opacity:1;stroke-miterlimit:10;\" d=\"M 59.039062 136.46875 L 51.839844 136.46875 \"/>\n",
       "<path style=\"fill:none;stroke-width:0.75;stroke-linecap:round;stroke-linejoin:round;stroke:rgb(0%,0%,0%);stroke-opacity:1;stroke-miterlimit:10;\" d=\"M 59.039062 67.109375 L 51.839844 67.109375 \"/>\n",
       "<g style=\"fill:rgb(0%,0%,0%);fill-opacity:1;\">\n",
       "  <use xlink:href=\"#glyph0-1\" x=\"41.538086\" y=\"420.917969\"/>\n",
       "  <use xlink:href=\"#glyph0-2\" x=\"41.538086\" y=\"414.246094\"/>\n",
       "</g>\n",
       "<g style=\"fill:rgb(0%,0%,0%);fill-opacity:1;\">\n",
       "  <use xlink:href=\"#glyph0-1\" x=\"41.538086\" y=\"351.558594\"/>\n",
       "  <use xlink:href=\"#glyph0-3\" x=\"41.538086\" y=\"344.886719\"/>\n",
       "</g>\n",
       "<g style=\"fill:rgb(0%,0%,0%);fill-opacity:1;\">\n",
       "  <use xlink:href=\"#glyph0-1\" x=\"41.538086\" y=\"282.195312\"/>\n",
       "  <use xlink:href=\"#glyph0-4\" x=\"41.538086\" y=\"275.523438\"/>\n",
       "</g>\n",
       "<g style=\"fill:rgb(0%,0%,0%);fill-opacity:1;\">\n",
       "  <use xlink:href=\"#glyph0-1\" x=\"41.538086\" y=\"212.832031\"/>\n",
       "  <use xlink:href=\"#glyph0-5\" x=\"41.538086\" y=\"206.160156\"/>\n",
       "</g>\n",
       "<g style=\"fill:rgb(0%,0%,0%);fill-opacity:1;\">\n",
       "  <use xlink:href=\"#glyph0-1\" x=\"41.538086\" y=\"143.46875\"/>\n",
       "  <use xlink:href=\"#glyph0-6\" x=\"41.538086\" y=\"136.796875\"/>\n",
       "</g>\n",
       "<g style=\"fill:rgb(0%,0%,0%);fill-opacity:1;\">\n",
       "  <use xlink:href=\"#glyph0-7\" x=\"41.538086\" y=\"74.109375\"/>\n",
       "  <use xlink:href=\"#glyph0-8\" x=\"41.538086\" y=\"67.4375\"/>\n",
       "</g>\n",
       "<path style=\"fill:none;stroke-width:0.75;stroke-linecap:round;stroke-linejoin:round;stroke:rgb(0%,0%,0%);stroke-opacity:1;stroke-miterlimit:10;\" d=\"M 59.039062 430.558594 L 473.761719 430.558594 L 473.761719 59.039062 L 59.039062 59.039062 L 59.039062 430.558594 \"/>\n",
       "<g style=\"fill:rgb(0%,0%,0%);fill-opacity:1;\">\n",
       "  <use xlink:href=\"#glyph1-1\" x=\"242.898438\" y=\"485.057617\"/>\n",
       "  <use xlink:href=\"#glyph1-2\" x=\"250.902344\" y=\"485.057617\"/>\n",
       "  <use xlink:href=\"#glyph1-3\" x=\"258.90625\" y=\"485.057617\"/>\n",
       "  <use xlink:href=\"#glyph1-4\" x=\"267.570312\" y=\"485.057617\"/>\n",
       "  <use xlink:href=\"#glyph1-5\" x=\"270.90625\" y=\"485.057617\"/>\n",
       "  <use xlink:href=\"#glyph1-6\" x=\"280.242188\" y=\"485.057617\"/>\n",
       "</g>\n",
       "<g style=\"fill:rgb(0%,0%,0%);fill-opacity:1;\">\n",
       "  <use xlink:href=\"#glyph0-9\" x=\"12.737305\" y=\"259.800781\"/>\n",
       "  <use xlink:href=\"#glyph0-10\" x=\"12.737305\" y=\"249.072266\"/>\n",
       "  <use xlink:href=\"#glyph0-11\" x=\"12.737305\" y=\"241.068359\"/>\n",
       "  <use xlink:href=\"#glyph0-12\" x=\"12.737305\" y=\"237.732422\"/>\n",
       "</g>\n",
       "<path style=\"fill:none;stroke-width:0.75;stroke-linecap:round;stroke-linejoin:round;stroke:rgb(0%,0%,100%);stroke-opacity:1;stroke-miterlimit:10;\" d=\"M 170.398438 169.160156 L 170.398438 129.59375 \"/>\n",
       "<path style=\"fill:none;stroke-width:0.75;stroke-linecap:round;stroke-linejoin:round;stroke:rgb(0%,0%,100%);stroke-opacity:1;stroke-miterlimit:10;\" d=\"M 165.359375 169.160156 L 175.441406 169.160156 \"/>\n",
       "<path style=\"fill:none;stroke-width:0.75;stroke-linecap:round;stroke-linejoin:round;stroke:rgb(0%,0%,100%);stroke-opacity:1;stroke-miterlimit:10;\" d=\"M 362.398438 416.800781 L 362.398438 379.925781 \"/>\n",
       "<path style=\"fill:none;stroke-width:0.75;stroke-linecap:round;stroke-linejoin:round;stroke:rgb(0%,0%,100%);stroke-opacity:1;stroke-miterlimit:10;\" d=\"M 357.359375 416.800781 L 367.441406 416.800781 \"/>\n",
       "<path style=\"fill:none;stroke-width:0.75;stroke-linecap:round;stroke-linejoin:round;stroke:rgb(0%,0%,100%);stroke-opacity:1;stroke-miterlimit:10;\" d=\"M 170.398438 72.800781 L 170.398438 112.363281 \"/>\n",
       "<path style=\"fill:none;stroke-width:0.75;stroke-linecap:round;stroke-linejoin:round;stroke:rgb(0%,0%,100%);stroke-opacity:1;stroke-miterlimit:10;\" d=\"M 175.441406 72.800781 L 165.359375 72.800781 \"/>\n",
       "<path style=\"fill:none;stroke-width:0.75;stroke-linecap:round;stroke-linejoin:round;stroke:rgb(0%,0%,100%);stroke-opacity:1;stroke-miterlimit:10;\" d=\"M 362.398438 325.816406 L 362.398438 362.691406 \"/>\n",
       "<path style=\"fill:none;stroke-width:0.75;stroke-linecap:round;stroke-linejoin:round;stroke:rgb(0%,0%,100%);stroke-opacity:1;stroke-miterlimit:10;\" d=\"M 367.441406 325.816406 L 357.359375 325.816406 \"/>\n",
       "<path style=\"fill:none;stroke-width:0.75;stroke-linecap:round;stroke-linejoin:round;stroke:rgb(0%,0%,0%);stroke-opacity:1;stroke-miterlimit:10;\" d=\"M 173.101562 120.980469 C 173.101562 124.578125 167.699219 124.578125 167.699219 120.980469 C 167.699219 117.378906 173.101562 117.378906 173.101562 120.980469 \"/>\n",
       "<path style=\"fill:none;stroke-width:0.75;stroke-linecap:round;stroke-linejoin:round;stroke:rgb(0%,0%,0%);stroke-opacity:1;stroke-miterlimit:10;\" d=\"M 365.101562 371.308594 C 365.101562 374.910156 359.699219 374.910156 359.699219 371.308594 C 359.699219 367.707031 365.101562 367.707031 365.101562 371.308594 \"/>\n",
       "<path style=\"fill:none;stroke-width:0.75;stroke-linecap:round;stroke-linejoin:round;stroke:rgb(0%,0%,0%);stroke-opacity:1;stroke-miterlimit:10;\" d=\"M 170.398438 430.558594 L 362.398438 430.558594 \"/>\n",
       "<path style=\"fill:none;stroke-width:0.75;stroke-linecap:round;stroke-linejoin:round;stroke:rgb(0%,0%,0%);stroke-opacity:1;stroke-miterlimit:10;\" d=\"M 170.398438 430.558594 L 170.398438 437.761719 \"/>\n",
       "<path style=\"fill:none;stroke-width:0.75;stroke-linecap:round;stroke-linejoin:round;stroke:rgb(0%,0%,0%);stroke-opacity:1;stroke-miterlimit:10;\" d=\"M 362.398438 430.558594 L 362.398438 437.761719 \"/>\n",
       "<g style=\"fill:rgb(0%,0%,0%);fill-opacity:1;\">\n",
       "  <use xlink:href=\"#glyph1-7\" x=\"145.898438\" y=\"456.256836\"/>\n",
       "  <use xlink:href=\"#glyph1-8\" x=\"152.810547\" y=\"456.256836\"/>\n",
       "  <use xlink:href=\"#glyph1-9\" x=\"159.482422\" y=\"456.256836\"/>\n",
       "  <use xlink:href=\"#glyph1-9\" x=\"162.146484\" y=\"456.256836\"/>\n",
       "  <use xlink:href=\"#glyph1-10\" x=\"164.810547\" y=\"456.256836\"/>\n",
       "  <use xlink:href=\"#glyph1-11\" x=\"168.146484\" y=\"456.256836\"/>\n",
       "  <use xlink:href=\"#glyph1-12\" x=\"174.818359\" y=\"456.256836\"/>\n",
       "  <use xlink:href=\"#glyph1-13\" x=\"181.490234\" y=\"456.256836\"/>\n",
       "  <use xlink:href=\"#glyph1-14\" x=\"188.162109\" y=\"456.256836\"/>\n",
       "</g>\n",
       "<g style=\"fill:rgb(0%,0%,0%);fill-opacity:1;\">\n",
       "  <use xlink:href=\"#glyph1-7\" x=\"337.898438\" y=\"456.256836\"/>\n",
       "  <use xlink:href=\"#glyph1-8\" x=\"344.810547\" y=\"456.256836\"/>\n",
       "  <use xlink:href=\"#glyph1-9\" x=\"351.482422\" y=\"456.256836\"/>\n",
       "  <use xlink:href=\"#glyph1-9\" x=\"354.146484\" y=\"456.256836\"/>\n",
       "  <use xlink:href=\"#glyph1-10\" x=\"356.810547\" y=\"456.256836\"/>\n",
       "  <use xlink:href=\"#glyph1-11\" x=\"360.146484\" y=\"456.256836\"/>\n",
       "  <use xlink:href=\"#glyph1-12\" x=\"366.818359\" y=\"456.256836\"/>\n",
       "  <use xlink:href=\"#glyph1-13\" x=\"373.490234\" y=\"456.256836\"/>\n",
       "  <use xlink:href=\"#glyph1-15\" x=\"380.162109\" y=\"456.256836\"/>\n",
       "</g>\n",
       "<g style=\"fill:rgb(0%,0%,0%);fill-opacity:1;\">\n",
       "  <use xlink:href=\"#glyph1-16\" x=\"149.898438\" y=\"428.135742\"/>\n",
       "  <use xlink:href=\"#glyph1-17\" x=\"156.570312\" y=\"428.135742\"/>\n",
       "  <use xlink:href=\"#glyph1-18\" x=\"163.578125\" y=\"428.135742\"/>\n",
       "  <use xlink:href=\"#glyph1-19\" x=\"170.25\" y=\"428.135742\"/>\n",
       "  <use xlink:href=\"#glyph1-12\" x=\"176.921875\" y=\"428.135742\"/>\n",
       "  <use xlink:href=\"#glyph1-20\" x=\"183.59375\" y=\"428.135742\"/>\n",
       "</g>\n",
       "<g style=\"fill:rgb(0%,0%,0%);fill-opacity:1;\">\n",
       "  <use xlink:href=\"#glyph1-16\" x=\"341.898438\" y=\"428.135742\"/>\n",
       "  <use xlink:href=\"#glyph1-17\" x=\"348.570312\" y=\"428.135742\"/>\n",
       "  <use xlink:href=\"#glyph1-18\" x=\"355.578125\" y=\"428.135742\"/>\n",
       "  <use xlink:href=\"#glyph1-11\" x=\"362.25\" y=\"428.135742\"/>\n",
       "  <use xlink:href=\"#glyph1-11\" x=\"368.921875\" y=\"428.135742\"/>\n",
       "  <use xlink:href=\"#glyph1-21\" x=\"375.59375\" y=\"428.135742\"/>\n",
       "</g>\n",
       "<path style=\"fill:none;stroke-width:0.75;stroke-linecap:round;stroke-linejoin:round;stroke:rgb(0%,0%,0%);stroke-opacity:1;stroke-miterlimit:10;\" d=\"M 170.398438 120.980469 L 362.398438 371.308594 \"/>\n",
       "</g>\n",
       "</svg>\n"
      ],
      "text/plain": [
       "plot without title"
      ]
     },
     "metadata": {
      "image/svg+xml": {
       "isolated": true
      }
     },
     "output_type": "display_data"
    }
   ],
   "source": [
    "plotmeans(log(WAIT) ~ PERIOD, data = x)\n",
    "plotmeans(WAIT ~ PERIOD, data = x)"
   ]
  },
  {
   "cell_type": "code",
   "execution_count": 79,
   "metadata": {
    "collapsed": false
   },
   "outputs": [
    {
     "data": {
      "text/html": [
       "19.2233342574623"
      ],
      "text/latex": [
       "19.2233342574623"
      ],
      "text/markdown": [
       "19.2233342574623"
      ],
      "text/plain": [
       "[1] 19.22333"
      ]
     },
     "execution_count": 79,
     "metadata": {},
     "output_type": "execute_result"
    }
   ],
   "source": [
    "mean(x[x[,'PERIOD'] == 'Fall 2014',2],na.rm = T)"
   ]
  },
  {
   "cell_type": "code",
   "execution_count": 80,
   "metadata": {
    "collapsed": false
   },
   "outputs": [
    {
     "data": {
      "text/html": [
       "15.6143225939694"
      ],
      "text/latex": [
       "15.6143225939694"
      ],
      "text/markdown": [
       "15.6143225939694"
      ],
      "text/plain": [
       "[1] 15.61432"
      ]
     },
     "execution_count": 80,
     "metadata": {},
     "output_type": "execute_result"
    }
   ],
   "source": [
    "mean(x[x[,'PERIOD'] == 'Fall 2015',2],na.rm = T)"
   ]
  },
  {
   "cell_type": "code",
   "execution_count": null,
   "metadata": {
    "collapsed": true
   },
   "outputs": [],
   "source": []
  },
  {
   "cell_type": "code",
   "execution_count": null,
   "metadata": {
    "collapsed": true
   },
   "outputs": [],
   "source": []
  }
 ],
 "metadata": {
  "kernelspec": {
   "display_name": "R",
   "language": "R",
   "name": "ir"
  },
  "language_info": {
   "codemirror_mode": "r",
   "file_extension": ".r",
   "mimetype": "text/x-r-source",
   "name": "R",
   "pygments_lexer": "r",
   "version": "3.2.2"
  }
 },
 "nbformat": 4,
 "nbformat_minor": 0
}
